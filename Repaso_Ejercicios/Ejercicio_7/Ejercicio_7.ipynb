{
 "cells": [
  {
   "cell_type": "markdown",
   "metadata": {},
   "source": [
    "El objetivo principal de los métodos Monte Carlo aplicados a estadística bayesiana es \n",
    "construir muestras de la densidad de probabilidad posterior.\n",
    "En el caso de Metropolis-Hastings la exploración se hace dando pasos en el espacio de parámetros, \n",
    "el lugar de llegada de cada paso (que puede ser rechazadoo aceptado) se *adivina* sin tener en cuenta\n",
    "la forma del prior. \n",
    "La información del prior solamente se utiliza para aceptar o rechazar el paso propuesto.\n",
    "\n",
    "Esto puede ser condiderado como una falla, o al menos una elección que no es óptima. Sería deseable \n",
    "usar toda la información disponible en cada momento, incluso al momento de proponer un nuevo lugar en la cadena.\n",
    "\n",
    "Los métodos de Monte Carlo Hamiltoniano buscan una mejora haciendo que la propuesta de un nuevo \n",
    "punto en la cadena se haga a partir de una **trayectoria** en el espacio de parámetros. Esta trayectoria se encuentra \"dirigida\" por el prior.\n",
    "\n",
    "Antes de entrar de lleno en la formulación del Monte Carlo Hamiltoniano vamos a hacer\n",
    "un breve repaso sobre la formulación Hamiltoniana de la mecánica y algunos métodos numéricos\n",
    "asociados."
   ]
  },
  {
   "cell_type": "markdown",
   "metadata": {},
   "source": [
    "# Mecánica Hamiltoniana "
   ]
  },
  {
   "cell_type": "markdown",
   "metadata": {},
   "source": [
    "La mecánica clásica puede ser reescrita en un formalismo matemático conocido como formalismo Hamiltoniano.\n",
    "Esta reformulación además de ser útil para la mecánica clásica ha sido fundamental para la mecánica\n",
    "estadística y la mecánica cuántica.\n",
    "\n",
    "El objeto matemático central en esta formulación es el **Hamiltoniano**, $\\mathcal{H}$.\n",
    "El Hamiltoniano es una función de las posiciones ($q$) y los momentos ($p$) que describen el sistema que nos interesa. Una vez tenemos el Hamiltoniano en función de $p$ y $q$ podemos encontrar su evolución temporal usando las ecuaciones de Hamilton\n",
    "\n",
    "$$\n",
    "\\frac{\\partial p}{\\partial t} = -\\frac{\\partial \\mathcal{H}}{\\partial q}\n",
    "$$\n",
    "\n",
    "$$\n",
    "\\frac{\\partial q}{\\partial t} = +\\frac{d\\mathcal{H}}{\\partial p}\n",
    "$$\n",
    "\n",
    "En los casos que nos van a interesar el Hamiltoniano corresponde a la energia total del sistema, \n",
    "$\\mathcal{H}= T+V$ donde $T$ es la energia cinetica y $V$ es la energia potencial."
   ]
  },
  {
   "cell_type": "markdown",
   "metadata": {},
   "source": [
    "# Ejemplo 7.1\n",
    "\n",
    "Una partícula de masa $m$ en un plano bidimensional está conectada por un resorte a un punto fijo.\n",
    "Para simplificar vamos a tomar el origen del sistema de coordenadas como el punto donde está fijo un extremo del resorte. El otro extremo del resorte, donde está nuestra partícula de masa $m$, tiene coordenadas $x,y$.\n",
    "\n",
    "La energia cinética se puede escribir en coordenadas cartesianas como $ T = p_x^2/2m + p_y^2/2m$ mientras que la energia potencial es $V=kx^2/2 + ky^2/2$. En este caso el Hamiltoniano del sistema es:\n",
    "\n",
    "$$\n",
    "\\mathcal{H} = \\frac{1}{2m}p_x^2 + \\frac{1}{2m}p_y^2 + \\frac{k}{2}x^2 + \\frac{k}{2}y^2.\n",
    "$$"
   ]
  },
  {
   "cell_type": "markdown",
   "metadata": {},
   "source": [
    "# Integracion de las ecuaciones de Hamilton\n",
    "\n",
    "El objetivo ahora es resolver las ecuaciones de hamilton numericamente.\n",
    "Esto quiere decir que vamos a encontrar $p$ y $q$ como funciones del tiempo.\n",
    "Dado que esto implica resolver numericamente ecuaciones diferenciales acopladas de primer orden\n",
    "es necesario dar las condiciones iniciales para todos los $p$ y $q$.\n",
    "\n",
    "En terminos de diferencias finitas podemos reescribir las ecuaciones de Hamilton como\n",
    "\n",
    "$$\n",
    "p_{n+1} = p_{n} -\\frac{\\partial\\mathcal{H}}{\\partial q}\\Delta t,\n",
    "$$\n",
    "\n",
    "$$\n",
    "q_{n+1} = q_{n} + \\frac{\\partial \\mathcal{H}}{\\partial p}\\Delta t.\n",
    "$$\n",
    "\n",
    "La primera ecuacion recibe el nombre de **kick** (es como un golpe que cambia el momentum) y la segunda ecuacion el de **drift** (es como un movimiento libre a velocidad constante)."
   ]
  },
  {
   "cell_type": "markdown",
   "metadata": {},
   "source": [
    "## Ejercicio 7.2\n",
    "Utilizando el mismo ejemplo de antes vamos a resolver las ecuaciones de Hamilton de manera computacional."
   ]
  },
  {
   "cell_type": "code",
   "execution_count": 1,
   "metadata": {},
   "outputs": [],
   "source": [
    "import numpy as np\n",
    "import matplotlib.pyplot as plt\n",
    "%matplotlib inline\n",
    "\n",
    "\n",
    "def partialH_partialq(p, q, k=1, m=1):\n",
    "    \"\"\"Expresion analitica de la derivada del hamiltoniano con respecto a q.\n",
    "    \"\"\"\n",
    "    return k*q\n",
    "\n",
    "def partialH_partialp(p, q, k=1, m=1):\n",
    "    \"\"\"Expresion analitica de la derivada del hamiltoniano con respecto a p.\n",
    "    \"\"\"\n",
    "    return p/m\n",
    "\n",
    "def kick(p, q, delta_t, k=1, m=1):\n",
    "    \"\"\"Cambio en el momentum.\n",
    "    \"\"\"\n",
    "    p_new = p - partialH_partialq(p, q, k=k, m=m) * delta_t\n",
    "    return p_new\n",
    "\n",
    "def drift(p, q, delta_t, k=1, m=1):\n",
    "    \"\"\"Cambio en la posicion.\n",
    "    \"\"\"\n",
    "    q_new = q + partialH_partialp(p, q, k=k, m=m) * delta_t\n",
    "    return q_new\n",
    "\n",
    "def solve(delta_t = 1E-2, n_steps=1000):\n",
    "    \"\"\"\n",
    "    Resuelve las ecuaciones de Hamilton a traves de \n",
    "    un metodo leapfrog: kick-drift-kick.\n",
    "    \"\"\"\n",
    "    # condiciones iniciales\n",
    "    x = [1.0]\n",
    "    y = [2.0]\n",
    "    px = [5.0]\n",
    "    py = [-3.0]\n",
    "    \n",
    "    # constante del resorte y masa\n",
    "    k = 1.0\n",
    "    m = 1.0\n",
    "    for i in range(1,n_steps):\n",
    "        # Primero un nuevo punto con un kick de delta_t/2\n",
    "        px.append(kick(px[i-1], x[i-1],delta_t/2, k=k, m=m))\n",
    "        py.append(kick(py[i-1], y[i-1],delta_t/2, k=k, m=m))\n",
    "        \n",
    "        # Luego un drift de delta_t con el nuevo momentum \n",
    "        x.append(drift(px[i], x[i-1],delta_t, k=k, m=m))\n",
    "        y.append(drift(py[i], y[i-1],delta_t, k=k, m=m))\n",
    "        \n",
    "        # Finalmente otro kick de delta_t/2 para fijar el momentum \n",
    "        px[i] = kick(px[i], x[i],delta_t/2, k=k, m=m)\n",
    "        py[i] = kick(py[i], y[i],delta_t/2, k=k, m=m)\n",
    "    return np.array(x), np.array(y), np.array(px), np.array(py)"
   ]
  },
  {
   "cell_type": "code",
   "execution_count": 2,
   "metadata": {},
   "outputs": [],
   "source": [
    "x, y, px, py = solve()"
   ]
  },
  {
   "cell_type": "code",
   "execution_count": 3,
   "metadata": {},
   "outputs": [
    {
     "data": {
      "text/plain": [
       "Text(0, 0.5, 'x')"
      ]
     },
     "execution_count": 3,
     "metadata": {},
     "output_type": "execute_result"
    },
    {
     "data": {
      "image/png": "[encoded data removed]",
      "text/plain": [
       "<Figure size 432x288 with 1 Axes>"
      ]
     },
     "metadata": {
      "needs_background": "light"
     },
     "output_type": "display_data"
    }
   ],
   "source": [
    "plt.plot(x)\n",
    "plt.xlabel('time steps')\n",
    "plt.ylabel('x')"
   ]
  },
  {
   "cell_type": "code",
   "execution_count": 4,
   "metadata": {},
   "outputs": [
    {
     "data": {
      "text/plain": [
       "Text(0, 0.5, 'y')"
      ]
     },
     "execution_count": 4,
     "metadata": {},
     "output_type": "execute_result"
    },
    {
     "data": {
      "image/png": "[encoded data removed]",
      "text/plain": [
       "<Figure size 432x288 with 1 Axes>"
      ]
     },
     "metadata": {
      "needs_background": "light"
     },
     "output_type": "display_data"
    }
   ],
   "source": [
    "plt.plot(x,y)\n",
    "plt.xlabel('x')\n",
    "plt.ylabel('y')"
   ]
  },
  {
   "cell_type": "markdown",
   "metadata": {},
   "source": [
    "En este caso el resultado era el esperado: movimiento armonico bidimensional."
   ]
  },
  {
   "cell_type": "markdown",
   "metadata": {},
   "source": [
    "# Monte Carlo Hamiltoniano\n",
    "\n",
    "¿Qué tiene que ver todo esto con Monte Carlo Hamiltoniano? La idea principal es que \n",
    "la distribución de probabilidad que va ser muestreada va a jugar el rol del potencial \n",
    "dentro del Hamiltoniano. Una metáfora podría ser la siguiente: un punto de la cadena se le asigna un momento aleatorio para que se mueva dentro de la distribución de probabilidad y generar una nueva propuesta. Para seleccionar si la propuesta se aprueba se sigue el método tradicional de Metropolis Hastings.\n",
    "\n",
    "Más precisamente, si la distribución que se desea muestrear es $F(q)$, entonces vamos a definir el \n",
    "siguiente Hamiltoniano \n",
    "\n",
    "$$\n",
    "\\mathcal{H} = \\frac{p^2}{2m} -  \\log (F(q)) \n",
    "$$\n",
    "\n",
    "y en cada paso de la cadena de Markov generamos un momento inicial con $p$ tomado de una distribucion Gaussiana y $q$ del valor presente de la cadena. Evolucionamos la solucion del Hamiltoniano por $n_{steps}$ con un $\\Delta t$ determinado, cambiamos el signo de $p$ (por que? ver la pag. 40 https://arxiv.org/pdf/1701.02434.pdf), para finalmente evaluar si el nuevo lugar en la cade debe aceptarse o no comparando el Hamiltoniano (i.e. la energía) en los dos puntos de interés."
   ]
  },
  {
   "cell_type": "markdown",
   "metadata": {},
   "source": [
    "[Why to wlak when we can flow](http://elevanth.org/blog/2017/11/28/build-a-better-markov-chain/)\n",
    "\n",
    "ver charlas \n",
    "\n",
    "[MCH_1](https://www.youtube.com/watch?v=pHsuIaPbNbY)\n",
    "\n",
    "[MCH_2](https://www.youtube.com/watch?v=xWQpEAyI5s8)"
   ]
  },
  {
   "cell_type": "markdown",
   "metadata": {},
   "source": [
    "# Ejercicio 7.2\n",
    "\n",
    "Vamos a construir una cadena de Markov que samplea una distribución Gaussiana con desviación estándar `sigma` usando el método Hamiltoniano."
   ]
  },
  {
   "cell_type": "code",
   "execution_count": 5,
   "metadata": {},
   "outputs": [],
   "source": [
    "def pdf_to_sample(q, sigma):\n",
    "    return exp(-0.5*q**2/sigma**2)\n",
    "\n",
    "def log_pdf_to_sample(q, sigma):\n",
    "    return -0.5*q**2/sigma**2\n",
    "\n",
    "def gradient_log_pdf_to_sample(q, sigma):\n",
    "    return -q/sigma**2\n",
    "\n",
    "def leapfrog(q,p, sigma, delta_t=1E-1, niter=5):\n",
    "    q_new = q\n",
    "    p_new = p\n",
    "    for i in range(niter):\n",
    "        p_new = p_new + 0.5 * delta_t * gradient_log_pdf_to_sample(q_new, sigma) #kick\n",
    "        q_new = q_new + delta_t * p_new #drift\n",
    "        p_new = p_new + 0.5 * delta_t * gradient_log_pdf_to_sample(q_new, sigma) #kick\n",
    "    return q_new, p_new\n",
    "\n",
    "def H(q,p, sigma):\n",
    "    K = 0.5 * p * p\n",
    "    U = -log_pdf_to_sample(q, sigma)\n",
    "    return K + U\n",
    "\n",
    "def MCMC(nsteps):\n",
    "    q = np.zeros(nsteps)\n",
    "    p = np.zeros(nsteps)\n",
    "    p[0] = np.random.normal(0,1)\n",
    "    q[0] = np.random.normal(0,1)\n",
    "    sigma = 0.1\n",
    "    for i in range(1,nsteps):\n",
    "        p[i] = np.random.normal(0,1)\n",
    "        q_new, p_new = leapfrog(q[i-1],p[i-1], sigma) # la propuesta se hace con leapfrog\n",
    "        p_new = -p_new #negamos a p para que la propuesta sea simetrica.\n",
    "        E_new = H(q_new, p_new, sigma) # En lugar de evaluar la pdf se evalua la energia.\n",
    "        E_old = H(q[i-1], p[i-1], sigma)\n",
    "        alpha = min(1.0,np.exp(-(E_new - E_old))) # Se comparan las dos energias\n",
    "        beta = np.random.random()\n",
    "        if beta < alpha:\n",
    "            q[i] = q_new\n",
    "        else:\n",
    "            q[i] = q[i-1]\n",
    "    return q"
   ]
  },
  {
   "cell_type": "code",
   "execution_count": 6,
   "metadata": {},
   "outputs": [],
   "source": [
    "q_chain = MCMC(10000)"
   ]
  },
  {
   "cell_type": "code",
   "execution_count": 7,
   "metadata": {},
   "outputs": [
    {
     "data": {
      "text/plain": [
       "[<matplotlib.lines.Line2D at 0x7f2fbe8ce080>]"
      ]
     },
     "execution_count": 7,
     "metadata": {},
     "output_type": "execute_result"
    },
    {
     "data": {
      "image/png": "[encoded data removed]",
      "text/plain": [
       "<Figure size 432x288 with 1 Axes>"
      ]
     },
     "metadata": {
      "needs_background": "light"
     },
     "output_type": "display_data"
    }
   ],
   "source": [
    "x = np.linspace(-0.5, 0.5)\n",
    "sigma = 0.1\n",
    "y = (1.0/(sigma * np.sqrt(2*np.pi))) * np.exp(-0.5*(x/sigma)**2)\n",
    "\n",
    "a = plt.hist(q_chain[500:], bins=20, density=True)\n",
    "plt.plot(x,y)\n"
   ]
  },
  {
   "cell_type": "markdown",
   "metadata": {},
   "source": [
    "# Ejercicio 7.1\n",
    "\n",
    "Resuelva el ejercicio (ajuste cuadrático) del notebook anterior usando Monte Carlo Hamiltoniano. En ese casos lo más recomendable es calcular las derivadas de manera numérica y considerar además un prior gaussiano (para que el posterior sea continuo y pueda derivarse sin problemas)."
   ]
  },
  {
   "cell_type": "code",
   "execution_count": 8,
   "metadata": {},
   "outputs": [],
   "source": [
    "def model(x,param):\n",
    "    \"\"\"Modelo polinomial. `param` contiene los coeficientes.\n",
    "    \"\"\"\n",
    "    n_param = len(param)\n",
    "    y = 0\n",
    "    for i in range(n_param):\n",
    "        y += param[i] * x**i\n",
    "    return y "
   ]
  },
  {
   "cell_type": "code",
   "execution_count": 9,
   "metadata": {},
   "outputs": [],
   "source": [
    "def loglikelihood(x_obs, y_obs, sigma_y_obs, param):\n",
    "    \"\"\"Logaritmo natural de la verosimilitud construida con los datos observacionales y los \n",
    "        parametros que describen el modelo.\n",
    "    \"\"\"\n",
    "    d = y_obs -  model(x_obs, param)\n",
    "    d = d/sigma_y_obs\n",
    "    d = -0.5 * np.sum(d**2)\n",
    "    return d"
   ]
  },
  {
   "cell_type": "code",
   "execution_count": 10,
   "metadata": {},
   "outputs": [],
   "source": [
    "def logprior(param):\n",
    "    \"\"\"Logaritmo natural de los prior para los parametros.\n",
    "        Todos corresponden a gaussianas con sigma=10.0.\n",
    "    \"\"\"\n",
    "    d = -0.5 * np.sum(param**2/(10.0)**2)\n",
    "    return d"
   ]
  },
  {
   "cell_type": "code",
   "execution_count": 11,
   "metadata": {},
   "outputs": [],
   "source": [
    "def divergence_loglikelihood(x_obs, y_obs, sigma_y_obs, param):\n",
    "    \"\"\"Divergencia del logaritmo de la funcion de verosimilitud.\n",
    "    \"\"\"\n",
    "    n_param = len(param)\n",
    "    div = np.ones(n_param)\n",
    "    delta = 1E-5\n",
    "    for i in range(n_param):\n",
    "        delta_parameter = np.zeros(n_param)\n",
    "        delta_parameter[i] = delta\n",
    "        div[i] = loglikelihood(x_obs, y_obs, sigma_y_obs, param + delta_parameter) \n",
    "        div[i] = div[i] - loglikelihood(x_obs, y_obs, sigma_y_obs, param - delta_parameter)\n",
    "        div[i] = div[i]/(2.0 * delta)\n",
    "    return div"
   ]
  },
  {
   "cell_type": "code",
   "execution_count": 12,
   "metadata": {},
   "outputs": [],
   "source": [
    "\n",
    "def hamiltonian(x_obs, y_obs, sigma_y_obs, param, param_momentum):\n",
    "    \"\"\"Hamiltoniano: energia cinetica + potencial: K+V\n",
    "    \"\"\"\n",
    "    m = 100.0\n",
    "    K = 0.5 * np.sum(param_momentum**2)/m\n",
    "    V = -loglikelihood(x_obs, y_obs, sigma_y_obs, param)     \n",
    "    return K + V\n",
    "\n"
   ]
  },
  {
   "cell_type": "code",
   "execution_count": 13,
   "metadata": {},
   "outputs": [],
   "source": [
    "def leapfrog_proposal(x_obs, y_obs, sigma_y_obs, param, param_momentum):\n",
    "    \"\"\"Integracion tipo leapfrog. \n",
    "        `param` representa las posiciones (i.e. los parametros).\n",
    "        `param_momemtum` representa el momentum asociado a los parametros.\n",
    "    \"\"\"\n",
    "    N_steps = 5\n",
    "    delta_t = 1E-2\n",
    "    m = 100.0\n",
    "    new_param = param.copy()\n",
    "    new_param_momentum = param_momentum.copy()\n",
    "    for i in range(N_steps):\n",
    "        new_param_momentum = new_param_momentum + divergence_loglikelihood(x_obs, y_obs, sigma_y_obs, param) * 0.5 * delta_t\n",
    "        new_param = new_param + (new_param_momentum/m) * delta_t\n",
    "        new_param_momentum = new_param_momentum + divergence_loglikelihood(x_obs, y_obs, sigma_y_obs, param) * 0.5 * delta_t\n",
    "    new_param_momentum = -new_param_momentum\n",
    "    return new_param, new_param_momentum"
   ]
  },
  {
   "cell_type": "code",
   "execution_count": 14,
   "metadata": {},
   "outputs": [],
   "source": [
    "def monte_carlo(x_obs, y_obs, sigma_y_obs, N=5000):\n",
    "    param = [np.random.random(3)]\n",
    "    param_momentum = [np.random.normal(size=3)]\n",
    "    for i in range(1,N):\n",
    "        propuesta_param, propuesta_param_momentum = leapfrog_proposal(x_obs, y_obs, sigma_y_obs, param[i-1], param_momentum[i-1])\n",
    "        energy_new = hamiltonian(x_obs, y_obs, sigma_y_obs, propuesta_param, propuesta_param_momentum)\n",
    "        energy_old = hamiltonian(x_obs, y_obs, sigma_y_obs, param[i-1], param_momentum[i-1])\n",
    "   \n",
    "        r = min(1,np.exp(-(energy_new - energy_old)))\n",
    "        alpha = np.random.random()\n",
    "        if(alpha<r):\n",
    "            param.append(propuesta_param)\n",
    "        else:\n",
    "            param.append(param[i-1])\n",
    "        param_momentum.append(np.random.normal(size=3))    \n",
    "\n",
    "    param = np.array(param)\n",
    "    return param"
   ]
  },
  {
   "cell_type": "code",
   "execution_count": 15,
   "metadata": {},
   "outputs": [],
   "source": [
    "x_obs = np.array([-2.0,1.3,0.4,5.0,0.1, -4.7, 3.0, -3.5,-1.1])\n",
    "y_obs = np.array([ -1.931,   2.38,   1.88,  -24.22,   3.31, -21.9,  -5.18, -12.23,   0.822])\n",
    "sigma_y_obs = ([ 2.63,  6.23, -1.461, 1.376, -4.72,  1.313, -4.886, -1.091,  0.8054])\n",
    "\n",
    "param_chain = monte_carlo(x_obs, y_obs, sigma_y_obs)\n",
    "n_param  = len(param_chain[0])\n",
    "best = []\n",
    "for i in range(n_param):\n",
    "    best.append(np.mean(param_chain[:,i]))\n",
    "\n",
    "\n",
    "x_model = np.linspace(x_obs.min(), x_obs.max(), 100)\n",
    "y_model = model(x_model, best)"
   ]
  },
  {
   "cell_type": "code",
   "execution_count": 16,
   "metadata": {},
   "outputs": [
    {
     "data": {
      "image/png": "[encoded data removed]",
      "text/plain": [
       "<Figure size 432x288 with 1 Axes>"
      ]
     },
     "metadata": {
      "needs_background": "light"
     },
     "output_type": "display_data"
    }
   ],
   "source": [
    "plt.errorbar(x_obs,y_obs, yerr=sigma_y_obs, fmt='o', label='obs')\n",
    "plt.plot(x_model, y_model, label='model')\n",
    "plt.xlabel(\"x\")\n",
    "plt.ylabel(\"y\")\n",
    "plt.legend()\n",
    "plt.savefig('best_model.pdf')"
   ]
  },
  {
   "cell_type": "markdown",
   "metadata": {},
   "source": [
    "# Parte de pruebas con distribuciones"
   ]
  },
  {
   "cell_type": "markdown",
   "metadata": {},
   "source": [
    "Vamos a muestrear una distribución gamma con parametros $k=9$ y $\\lambda=2$\n",
    "\n",
    "$$ {\\displaystyle f(x)=\\lambda e^{-\\lambda x}{\\frac {(\\lambda x)^{k-1}}{\\Gamma (k)}}}$$\n",
    "\n",
    "Con lo que tenemos que la distribución gamma se reduce a:\n",
    "$$ f(x) = 2 e^{-2 x}{\\frac {(2 x)^{8}}{\\Gamma (9)}}=\\frac{4}{315}e^{-2 x} x^{8}$$\n",
    "\n",
    "$$\\log[f(x)]= \\log[4/315] + 8 \\log[x] - 2x$$"
   ]
  },
  {
   "cell_type": "code",
   "execution_count": 17,
   "metadata": {},
   "outputs": [],
   "source": [
    "def pdf_to_sample(q):\n",
    "    return 4.0*np.exp(-2.0*q)*q**8/315.0\n",
    "\n",
    "def log_pdf_to_sample(q):\n",
    "    return np.log(4./315.) - 2.*q + 8.*np.log(q)\n",
    "\n",
    "def gradient_log_pdf_to_sample(q):\n",
    "    return 8.0/q - 2.\n",
    "\n",
    "def leapfrog(q,p, delta_t=1E-1, niter=30): # es conveniente observar que numero de interacion y delta t es el mas adecuado\n",
    "    q_new = q\n",
    "    p_new = p\n",
    "    for i in range(niter):\n",
    "        p_new = p_new + 0.5 * delta_t * gradient_log_pdf_to_sample(q_new) #kick\n",
    "        q_new = q_new + delta_t * p_new #drift\n",
    "        p_new = p_new + 0.5 * delta_t * gradient_log_pdf_to_sample(q_new) #kick\n",
    "    return q_new, p_new\n",
    "\n",
    "def H(q,p):\n",
    "    K = 0.5 * p * p\n",
    "    U = -log_pdf_to_sample(q)\n",
    "    return K + U\n",
    "\n",
    "def MCMC(nsteps):\n",
    "    q = np.zeros(nsteps)\n",
    "    p = np.zeros(nsteps)\n",
    "    p[0] = np.random.normal(0,1)\n",
    "    q[0] = np.random.normal(0,1)\n",
    "    for i in range(1,nsteps):\n",
    "        p[i] = np.random.normal(0,1)\n",
    "        q_new, p_new = leapfrog(q[i-1],p[i-1]) # la propuesta se hace con leapfrog\n",
    "        p_new = -p_new #negamos a p para que la propuesta sea simetrica.\n",
    "        E_new = H(q_new, p_new) # En lugar de evaluar la pdf se evalua la energia.\n",
    "        E_old = H(q[i-1], p[i-1])\n",
    "        alpha = min(1.0,np.exp(-(E_new - E_old))) # Se comparan las dos energias\n",
    "        beta = np.random.random()\n",
    "        if beta < alpha:\n",
    "            q[i] = q_new\n",
    "        else:\n",
    "            q[i] = q[i-1]\n",
    "    return q"
   ]
  },
  {
   "cell_type": "code",
   "execution_count": 29,
   "metadata": {},
   "outputs": [],
   "source": [
    "q_chain = MCMC(1000)"
   ]
  },
  {
   "cell_type": "code",
   "execution_count": 30,
   "metadata": {},
   "outputs": [
    {
     "data": {
      "text/plain": [
       "[<matplotlib.lines.Line2D at 0x7f2fbe329518>]"
      ]
     },
     "execution_count": 30,
     "metadata": {},
     "output_type": "execute_result"
    },
    {
     "data": {
      "image/png": "[encoded data removed]",
      "text/plain": [
       "<Figure size 432x288 with 1 Axes>"
      ]
     },
     "metadata": {
      "needs_background": "light"
     },
     "output_type": "display_data"
    }
   ],
   "source": [
    "x = np.linspace(0.0, 15.0,100)\n",
    "\n",
    "y = pdf_to_sample(x)\n",
    "\n",
    "a = plt.hist(q_chain[100:], bins=50, density=True)\n",
    "plt.plot(x,y)"
   ]
  },
  {
   "cell_type": "markdown",
   "metadata": {},
   "source": [
    "# Ajuste de datos usando MCH"
   ]
  },
  {
   "cell_type": "markdown",
   "metadata": {},
   "source": [
    "Acá vamos a usar lo anterior para ajustar los siguientes datos haciendo uso de MCH"
   ]
  },
  {
   "cell_type": "code",
   "execution_count": 20,
   "metadata": {},
   "outputs": [
    {
     "data": {
      "text/plain": [
       "<ErrorbarContainer object of 3 artists>"
      ]
     },
     "execution_count": 20,
     "metadata": {},
     "output_type": "execute_result"
    },
    {
     "data": {
      "image/png": "[encoded data removed]",
      "text/plain": [
       "<Figure size 432x288 with 1 Axes>"
      ]
     },
     "metadata": {
      "needs_background": "light"
     },
     "output_type": "display_data"
    }
   ],
   "source": [
    "x_obs = np.array([-2.0,1.3,0.4,5.0,0.1, -4.7, 3.0, -3.5,-1.1])\n",
    "y_obs = np.array([ -8.3,   -5.77,  -1.86, 8.3, -2.35, -16.98,  0.934, -13.89,  -5.49 ])\n",
    "sigma_y_obs = np.array([-1.2,-1.36, -1.44, 0.92,-1.02, 2.3,-1.0, 0.8, -1.3])\n",
    "\n",
    "plt.errorbar(x_obs,y_obs, yerr=sigma_y_obs, fmt='o')"
   ]
  },
  {
   "cell_type": "markdown",
   "metadata": {},
   "source": [
    "Para usar Bayes planteamos la siguiente verosimilitud\n",
    "$$\n",
    "\\mathcal{L}({x_i, y_i, \\sigma_i}|m, b) = \\prod_{i=1}^{N}\\exp\\left[-\\frac{1}{2}\\left(\\frac{y_i - y_{model}(x_i, m, b)}{\\sigma_i}\\right)^2\\right]\n",
    "$$"
   ]
  },
  {
   "cell_type": "markdown",
   "metadata": {},
   "source": [
    "Es necesario acá para poder derivar usar un prior de tipo gausiano, de forma que se pueda derivar, si no se tiene una función continua no se puede efectuar la derivada y por ende no se puede efectuar el metodo de leap-frog"
   ]
  },
  {
   "cell_type": "code",
   "execution_count": 22,
   "metadata": {},
   "outputs": [],
   "source": [
    "def model(x,m,b):\n",
    "    return x*m + b\n",
    "\n",
    "def loglikelihood(x_obs, y_obs, sigma_y_obs, m, b):\n",
    "    d = y_obs -  model(x_obs, m, b)\n",
    "    d = d/sigma_y_obs\n",
    "    d = -0.5 * np.sum(d**2)\n",
    "    return d\n",
    "\n",
    "def logprior(m, b):\n",
    "    \"\"\"Logaritmo natural de los prior para los parametros.\n",
    "        Todos corresponden a gaussianas con sigma=10.0.\n",
    "    \"\"\"\n",
    "    d = -0.5 * (m**2/(10.0)**2 + b**2/(10.0)**2)\n",
    "    return d"
   ]
  },
  {
   "cell_type": "code",
   "execution_count": 23,
   "metadata": {},
   "outputs": [],
   "source": [
    "def Grad_loglikelihood(x_obs, y_obs, sigma_y_obs, m,b):\n",
    "    \"\"\"Divergencia del logaritmo de la funcion de verosimilitud.\n",
    "    \"\"\"\n",
    "    n_param = 2\n",
    "    div = np.ones(n_param)\n",
    "    delta = 1E-5\n",
    "    for i in range(n_param):\n",
    "        #delta_parameter = np.zeros(n_param)\n",
    "        #delta_parameter[i] = delta\n",
    "        div[i] = loglikelihood(x_obs, y_obs, sigma_y_obs, m + delta,b+delta) \n",
    "        div[i] = div[i] - loglikelihood(x_obs, y_obs, sigma_y_obs, m - delta,b - delta)\n",
    "        div[i] = div[i]/(2.0 * delta)\n",
    "    return div"
   ]
  },
  {
   "cell_type": "code",
   "execution_count": 24,
   "metadata": {},
   "outputs": [],
   "source": [
    "def hamiltonian(x_obs, y_obs, sigma_y_obs, m,b , param_momentum):\n",
    "    \"\"\"Hamiltoniano: energia cinetica + potencial: K+V\n",
    "    \"\"\"\n",
    "    mass = 100.0 # se le asigna una valor arbitrario a la masa\n",
    "    K = 0.5 * np.sum(param_momentum**2)/mass\n",
    "    V = -loglikelihood(x_obs, y_obs, sigma_y_obs, m,b)     \n",
    "    return K + V"
   ]
  },
  {
   "cell_type": "code",
   "execution_count": 38,
   "metadata": {},
   "outputs": [],
   "source": [
    "def leapfrog_proposal(x_obs, y_obs, sigma_y_obs,m ,b , param_momentum):\n",
    "    \"\"\"Integracion tipo leapfrog. \n",
    "        `param` representa las posiciones (i.e. los parametros).\n",
    "        `param_momemtum` representa el momentum asociado a los parametros.\n",
    "    \"\"\"\n",
    "    N_steps = 30\n",
    "    delta_t = 1E-2\n",
    "    mass = 100.0 # este corresponde con la masa arbitraria que se le asigna\n",
    "    new_m = m\n",
    "    new_b = b\n",
    "    new_param_momentum = param_momentum.copy()\n",
    "    for i in range(N_steps):\n",
    "        new_param_momentum = new_param_momentum + Grad_loglikelihood(x_obs, y_obs, sigma_y_obs, m,b) * 0.5 * delta_t\n",
    "        new_m += new_param_momentum[0]*delta_t/mass\n",
    "        new_b += new_param_momentum[1]*delta_t/mass\n",
    "        #new_param = new_param + (new_param_momentum/m) * delta_t\n",
    "        new_param_momentum = new_param_momentum + Grad_loglikelihood(x_obs, y_obs, sigma_y_obs, m,b) * 0.5 * delta_t\n",
    "    new_param_momentum = -new_param_momentum\n",
    "    \n",
    "    return new_m, new_b, new_param_momentum"
   ]
  },
  {
   "cell_type": "code",
   "execution_count": 39,
   "metadata": {},
   "outputs": [],
   "source": [
    "def monte_carlo(x_obs, y_obs, sigma_y_obs, N=5000):\n",
    "    m=[np.random.random()]\n",
    "    b=[np.random.random()]\n",
    "    param_momentum = [np.random.normal(size=2)]\n",
    "    for i in range(1,N):\n",
    "        propuesta_m,propuesta_b, propuesta_param_momentum = leapfrog_proposal(x_obs, y_obs, sigma_y_obs, m[i-1],b[i-1], param_momentum[i-1])\n",
    "        energy_new = hamiltonian(x_obs, y_obs, sigma_y_obs, propuesta_m,propuesta_b, propuesta_param_momentum)\n",
    "        energy_old = hamiltonian(x_obs, y_obs, sigma_y_obs, m[i-1],b[i-1], param_momentum[i-1])\n",
    "   \n",
    "        r = min(1,np.exp(-(energy_new - energy_old)))\n",
    "        alpha = np.random.random()\n",
    "        if(alpha<r):\n",
    "            m.append(propuesta_m)\n",
    "            b.append(propuesta_b)\n",
    "        else:\n",
    "            m.append(m[i-1])\n",
    "            b.append(b[i-1])    \n",
    "        param_momentum.append(np.random.normal(size=2))    \n",
    "\n",
    "    m = np.array(m)    \n",
    "    b = np.array(b)\n",
    "    return m,b"
   ]
  },
  {
   "cell_type": "code",
   "execution_count": 40,
   "metadata": {},
   "outputs": [],
   "source": [
    "m,b = monte_carlo(x_obs, y_obs, sigma_y_obs)"
   ]
  },
  {
   "cell_type": "code",
   "execution_count": 41,
   "metadata": {},
   "outputs": [
    {
     "data": {
      "text/plain": [
       "<matplotlib.legend.Legend at 0x7f2fbe139b38>"
      ]
     },
     "execution_count": 41,
     "metadata": {},
     "output_type": "execute_result"
    },
    {
     "data": {
      "image/png": "[encoded data removed]",
      "text/plain": [
       "<Figure size 432x288 with 1 Axes>"
      ]
     },
     "metadata": {
      "needs_background": "light"
     },
     "output_type": "display_data"
    }
   ],
   "source": [
    "\n",
    "x_model = np.linspace(x_obs.min(), x_obs.max(), 100)\n",
    "y_model = model(x_model, np.mean(m),np.mean(b))\n",
    "\n",
    "plt.errorbar(x_obs,y_obs, yerr=sigma_y_obs, fmt='o', label='obs')\n",
    "plt.plot(x_model, y_model, label='model')\n",
    "plt.xlabel(\"x\")\n",
    "plt.ylabel(\"y\")\n",
    "plt.legend()"
   ]
  },
  {
   "cell_type": "code",
   "execution_count": null,
   "metadata": {},
   "outputs": [],
   "source": []
  }
 ],
 "metadata": {
  "kernelspec": {
   "display_name": "Python 3",
   "language": "python",
   "name": "python3"
  },
  "language_info": {
   "codemirror_mode": {
    "name": "ipython",
    "version": 3
   },
   "file_extension": ".py",
   "mimetype": "text/x-python",
   "name": "python",
   "nbconvert_exporter": "python",
   "pygments_lexer": "ipython3",
   "version": "3.6.6"
  }
 },
 "nbformat": 4,
 "nbformat_minor": 2
}
