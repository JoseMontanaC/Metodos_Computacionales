{
 "cells": [
  {
   "cell_type": "markdown",
   "metadata": {},
   "source": [
    "# Ejercicio 11"
   ]
  },
  {
   "cell_type": "markdown",
   "metadata": {},
   "source": [
    "Utilizando los datos en \"fitting.txt\" calcule la evidencia bayesiana para M modelos diferentes, donde cada modelo es un polinomio de orden m. Prepare una grafica de la evidencia como funcion del orden del polinomio. El prior para los coeficientes del polinomio debe ser uniforme entre -1 y 1, y el orden de los polinomios debe variar entre 0<=m<=20."
   ]
  },
  {
   "cell_type": "code",
   "execution_count": 2,
   "metadata": {},
   "outputs": [],
   "source": [
    "import numpy as np\n",
    "import matplotlib.pylab as plt\n",
    "import pandas as pd\n",
    "data = pd.read_csv(\"fitting.txt\",sep=\" \")"
   ]
  },
  {
   "cell_type": "code",
   "execution_count": 4,
   "metadata": {},
   "outputs": [
    {
     "data": {
      "image/png": "[encoded data removed]",
      "text/plain": [
       "<Figure size 432x288 with 1 Axes>"
      ]
     },
     "metadata": {
      "needs_background": "light"
     },
     "output_type": "display_data"
    }
   ],
   "source": [
    "data = pd.read_csv(\"fitting.txt\",sep=\" \")\n",
    "X=np.array(data[\"x\"])\n",
    "Y=np.array(data[\"y\"])\n",
    "sigma=np.array(data[\"sigma_y\"])\n",
    "plt.errorbar(X, Y, yerr=sigma, fmt='o')\n",
    "plt.show()"
   ]
  },
  {
   "cell_type": "code",
   "execution_count": 5,
   "metadata": {},
   "outputs": [],
   "source": [
    "def model(x_datos,param):\n",
    "    y=x_datos.copy()\n",
    "    y[:]=0\n",
    "    for i in range(len(param)):\n",
    "        y += param[i]*x_datos**(i)\n",
    "    return y\n",
    "def logprior(param):\n",
    "    for i in range(len(param)):\n",
    "        if np.abs(param[i])<1:\n",
    "            p = 0.0\n",
    "        else:        \n",
    "            p = -np.inf\n",
    "    return p\n",
    "def loglikelihood(x_obs, y_obs, sigma_y_obs, param):\n",
    "    d = y_obs -  model(x_obs,param)\n",
    "    d = d/sigma_y_obs\n",
    "    d = -0.5 * np.sum(d**2)\n",
    "    return d"
   ]
  },
  {
   "cell_type": "code",
   "execution_count": 6,
   "metadata": {},
   "outputs": [],
   "source": [
    "N=100000\n",
    "x_obs = X\n",
    "y_obs = Y\n",
    "sigma_y = sigma\n",
    "Orden_max=20\n",
    "verosimilitud=np.array([0.0]*Orden_max)\n",
    "grados=np.array([0.0]*Orden_max)\n",
    "\n",
    "for orden in range(Orden_max):\n",
    "    # print(\"-------\",orden)\n",
    "    test=0\n",
    "    for i in range(N):\n",
    "        param=np.random.uniform(-1,1,size=orden+1)\n",
    "        test+=np.exp(loglikelihood(x_obs, y_obs,sigma_y, param) - (len(x_obs)/2.0)*(np.log(2.0*np.pi))-((1)/2.0)*sum(np.log(sigma_y)))\n",
    "    verosimilitud[orden]=test/N\n",
    "    grados[orden]=orden+1"
   ]
  },
  {
   "cell_type": "code",
   "execution_count": null,
   "metadata": {},
   "outputs": [],
   "source": []
  }
 ],
 "metadata": {
  "kernelspec": {
   "display_name": "Python 3",
   "language": "python",
   "name": "python3"
  },
  "language_info": {
   "codemirror_mode": {
    "name": "ipython",
    "version": 3
   },
   "file_extension": ".py",
   "mimetype": "text/x-python",
   "name": "python",
   "nbconvert_exporter": "python",
   "pygments_lexer": "ipython3",
   "version": "3.6.6"
  }
 },
 "nbformat": 4,
 "nbformat_minor": 2
}
