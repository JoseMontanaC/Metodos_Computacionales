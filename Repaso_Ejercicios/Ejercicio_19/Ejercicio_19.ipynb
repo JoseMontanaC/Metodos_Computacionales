{
 "cells": [
  {
   "cell_type": "markdown",
   "metadata": {},
   "source": [
    "# Ejercicio 19\n",
    "\n",
    "(Primera parte)\n",
    "\n",
    "a. Partiendo del siguiente dataset https://vincentarelbundock.github.io/Rdatasets/doc/ISLR/Hitters.html https://vincentarelbundock.github.io/Rdatasets/csv/ISLR/Hitters.csv\n",
    "\n",
    "utilice funciones de sklearn para reproducir la Figura 8.5 del texto guia.\n",
    "\n",
    "b. Partiendo del siguiente dataset https://archive.ics.uci.edu/ml/datasets/Heart+Disease\n",
    "\n",
    "utilice funciones de sklearn para reproducir el panel izquierdo de la Figura 8.6.\n",
    "\n",
    "(Segunda Parte)\n",
    "\n",
    "c. Partiendo del siguiente dataset https://vincentarelbundock.github.io/Rdatasets/doc/ISLR/OJ.html https://vincentarelbundock.github.io/Rdatasets/csv/ISLR/OJ.csv\n",
    "\n",
    "separe los datos en training+validation y test para encontrar las características del árbol que mejor predice Purchase. Tome en cuenta todos los predictores salvo Store7. Utilice las curvas ROC y Precision-Recall como el criterio para encontrar el mejor árbol."
   ]
  },
  {
   "cell_type": "code",
   "execution_count": null,
   "metadata": {},
   "outputs": [],
   "source": []
  }
 ],
 "metadata": {
  "kernelspec": {
   "display_name": "Python 3",
   "language": "python",
   "name": "python3"
  },
  "language_info": {
   "codemirror_mode": {
    "name": "ipython",
    "version": 3
   },
   "file_extension": ".py",
   "mimetype": "text/x-python",
   "name": "python",
   "nbconvert_exporter": "python",
   "pygments_lexer": "ipython3",
   "version": "3.6.6"
  }
 },
 "nbformat": 4,
 "nbformat_minor": 2
}
