{
 "cells": [
  {
   "cell_type": "markdown",
   "metadata": {},
   "source": [
    "# Ejercicio 18\n",
    "\n",
    "(primera parte)\n",
    "\n",
    "a. Utilice Linear Discriminant Analysis (LDA)para reproducir las Figuras 4.7 y 4.8 del texto guia.\n",
    "\n",
    "b. Utilizando los datos de Default construya una curva de precision-recall con los resultados del modelo regresión logística (http://scikit-learn.org/stable/auto_examples/model_selection/plot_precision_recall.html). Escriba su propia función. No utilice la de sklearn\n",
    "\n",
    "c. Utilizando el siguiente dataset\n",
    "\n",
    "https://vincentarelbundock.github.io/Rdatasets/doc/MASS/Boston.html https://vincentarelbundock.github.io/Rdatasets/csv/MASS/Boston.csv\n",
    "\n",
    "encuentre los mejores predictores para saber si un suburbio tiene una rata de crimen mayor o menor a la media. Utilice LDA y regresion logistica junto a curvas ROC y Precision-Recall para justificar su respuesta.\n",
    "\n",
    "(segunda parte)\n",
    "\n",
    "d. Utilizando el siguiente dataset\n",
    "\n",
    "https://vincentarelbundock.github.io/Rdatasets/doc/ISLR/Auto.html https://vincentarelbundock.github.io/Rdatasets/csv/ISLR/Auto.csv\n",
    "\n",
    "repita los mismos pasos del punto c. para predecir si un carro tiene mpg mayor o menor a la media.\n",
    "\n"
   ]
  },
  {
   "cell_type": "code",
   "execution_count": 1,
   "metadata": {},
   "outputs": [],
   "source": [
    "import numpy as np\n",
    "import pandas as pd\n",
    "import matplotlib.pyplot as plt\n",
    "import sklearn.linear_model\n",
    "import sklearn.model_selection\n",
    "import sklearn.preprocessing\n",
    "import scipy.integrate\n",
    "import sklearn.discriminant_analysis\n",
    "import itertools"
   ]
  },
  {
   "cell_type": "markdown",
   "metadata": {},
   "source": [
    "# Primera parte"
   ]
  },
  {
   "cell_type": "code",
   "execution_count": 2,
   "metadata": {},
   "outputs": [],
   "source": [
    "#Load data and define X, Y\n",
    "data = pd.read_csv('Default.csv')\n",
    "Y = data['default']\n",
    "X = data[['balance']]"
   ]
  },
  {
   "cell_type": "code",
   "execution_count": 3,
   "metadata": {},
   "outputs": [
    {
     "name": "stderr",
     "output_type": "stream",
     "text": [
      "/srv/conda/lib/python3.6/site-packages/sklearn/linear_model/logistic.py:433: FutureWarning: Default solver will be changed to 'lbfgs' in 0.22. Specify a solver to silence this warning.\n",
      "  FutureWarning)\n"
     ]
    }
   ],
   "source": [
    "# Initialize fitting method, fit and predict\n",
    "f = sklearn.linear_model.LogisticRegression()\n",
    "\n",
    "# Split in train and test\n",
    "X_train, X_test, Y_train, Y_test = sklearn.model_selection.train_test_split(X,Y, test_size=0.5)\n",
    "\n",
    "#  Fit with train\n",
    "f.fit(X_train, Y_train)\n",
    "\n",
    "# Predict with test\n",
    "predict = f.predict(X_test)\n",
    "\n",
    "# This is the probability for Default='Yes'\n",
    "proba_yes = f.predict_proba(X_test)[:,1]"
   ]
  },
  {
   "cell_type": "code",
   "execution_count": 4,
   "metadata": {},
   "outputs": [],
   "source": [
    "# loop over n_p different values for the threshold probabiity\n",
    "n_p = 100\n",
    "error_rate = np.zeros(n_p)\n",
    "precision = np.zeros(n_p)\n",
    "recall = np.zeros(n_p)\n",
    "tp_rate = np.zeros(n_p)\n",
    "fp_rate = np.zeros(n_p)\n",
    "threshold = np.linspace(0,0.99, n_p)"
   ]
  },
  {
   "cell_type": "code",
   "execution_count": 5,
   "metadata": {},
   "outputs": [],
   "source": [
    "for i in range(n_p):\n",
    "    ii = proba_yes>threshold[i]\n",
    "    predict[ii] = 'Yes'\n",
    "    predict[~ii] = 'No'\n",
    "    true_positive = (Y_test == 'Yes') & (predict == 'Yes') \n",
    "    false_positive = (Y_test == 'No') & (predict == 'Yes')\n",
    "    false_negative = (Y_test == 'Yes') & (predict == 'No')\n",
    "    true_negative = (Y_test == 'No') & (predict == 'No')\n",
    "    n_tp = np.count_nonzero(true_positive)\n",
    "    n_fp= np.count_nonzero(false_positive)\n",
    "    n_fn = np.count_nonzero(false_negative)\n",
    "    n_tn = np.count_nonzero(true_negative)\n",
    "    if((n_tp+n_fp)>0): precision[i] = n_tp/(n_tp + n_fp)\n",
    "    if((n_tp+n_fn)>0): recall[i] = n_tp/(n_tp + n_fn); tp_rate[i] = recall[i]  \n",
    "    if((n_fp+n_tn)>0): fp_rate[i] = n_fp/(n_fp+n_tn)"
   ]
  },
  {
   "cell_type": "code",
   "execution_count": 6,
   "metadata": {},
   "outputs": [
    {
     "data": {
      "image/png": "[encoded data removed]",
      "text/plain": [
       "<Figure size 720x360 with 2 Axes>"
      ]
     },
     "metadata": {
      "needs_background": "light"
     },
     "output_type": "display_data"
    }
   ],
   "source": [
    "plt.figure(figsize=(10,5))\n",
    "plt.subplot(1,2,1)\n",
    "plt.plot(recall, precision)\n",
    "plt.xlabel('RECALL')\n",
    "plt.ylabel('PRECISION')\n",
    "plt.title('PRECISION-RECALL')\n",
    "plt.xlim([0,1])\n",
    "plt.ylim([0,1])\n",
    "\n",
    "plt.subplot(1,2,2)\n",
    "plt.plot(fp_rate, tp_rate)\n",
    "plt.xlabel('FALSE POSITIVE RATE')\n",
    "plt.ylabel('TRUE POSITIVE RATE')\n",
    "plt.title('ROC')\n",
    "plt.xlim([0,1])\n",
    "plt.ylim([0,1])\n",
    "plt.show()"
   ]
  },
  {
   "cell_type": "markdown",
   "metadata": {},
   "source": [
    "# Primera parte b"
   ]
  },
  {
   "cell_type": "markdown",
   "metadata": {},
   "source": [
    "Hacemos funciones para lograr determinar cuales serán los mejores predictores.\n",
    "\n",
    "## Solución propuesta"
   ]
  },
  {
   "cell_type": "code",
   "execution_count": 7,
   "metadata": {},
   "outputs": [],
   "source": [
    "def summary_fit(X, Y, f_method, plot=True):\n",
    "    # Split in train and test\n",
    "    X_train, X_test, Y_train, Y_test = sklearn.model_selection.train_test_split(X,Y, test_size=0.4)\n",
    "\n",
    "    #  Fit with train\n",
    "    f_method.fit(X_train, Y_train)\n",
    "\n",
    "    # Predict with test\n",
    "    predict = f_method.predict(X_test)\n",
    "\n",
    "    # This is the probability for the '+' class\n",
    "    proba_yes = f_method.predict_proba(X_test)[:,1]\n",
    "\n",
    "    # loop over n_p different values for the threshold probabiity\n",
    "    n_p = 100\n",
    "    error_rate = np.zeros(n_p)\n",
    "    precision = np.zeros(n_p)\n",
    "    recall = np.zeros(n_p)\n",
    "    tp_rate = np.zeros(n_p)\n",
    "    fp_rate = np.zeros(n_p)\n",
    "    threshold = np.linspace(0,0.99, n_p)\n",
    "\n",
    "    for i in range(n_p):\n",
    "        ii = proba_yes>threshold[i]\n",
    "        predict[ii] = 'Yes'\n",
    "        predict[~ii] = 'No'\n",
    "        true_positive = (Y_test == 'Yes') & (predict == 'Yes') \n",
    "        false_positive = (Y_test == 'No') & (predict == 'Yes')\n",
    "        false_negative = (Y_test == 'Yes') & (predict == 'No')\n",
    "        true_negative = (Y_test == 'No') & (predict == 'No')\n",
    "        n_tp = np.count_nonzero(true_positive)\n",
    "        n_fp= np.count_nonzero(false_positive)\n",
    "        n_fn = np.count_nonzero(false_negative)\n",
    "        n_tn = np.count_nonzero(true_negative)\n",
    "        if((n_tp+n_fp)>0): precision[i] = n_tp/(n_tp + n_fp)\n",
    "        if((n_tp+n_fn)>0): recall[i] = n_tp/(n_tp + n_fn); tp_rate[i] = recall[i]  \n",
    "        if((n_fp+n_tn)>0): fp_rate[i] = n_fp/(n_fp+n_tn)\n",
    "\n",
    "    # compute the area under each curve\n",
    "    ii = np.argsort(recall)\n",
    "    pr_area = scipy.integrate.trapz(precision[ii], recall[ii])\n",
    "    \n",
    "    ii = np.argsort(fp_rate)\n",
    "    roc_area = scipy.integrate.trapz(tp_rate[ii], fp_rate[ii])\n",
    "            \n",
    "    # compute F1\n",
    "    F1 = np.max(2.0*precision*recall/(precision+recall+1E-12))\n",
    "    if plot:\n",
    "        l = 'Predictors:'\n",
    "        for k in X.keys(): \n",
    "            l=l+' '+k\n",
    "        \n",
    "        plt.figure(figsize=(10,5))\n",
    "        plt.subplot(1,2,1)\n",
    "        plt.plot(recall, precision)\n",
    "        plt.xlabel('RECALL')\n",
    "        plt.ylabel('PRECISION')\n",
    "        plt.title('PRECISION-RECALL, AREA={:.2f}'.format(pr_area))\n",
    "        plt.xlim([0,1])\n",
    "        plt.ylim([0,1])\n",
    "\n",
    "        plt.subplot(1,2,2)\n",
    "        plt.plot(fp_rate, tp_rate, label=l)\n",
    "        plt.xlabel('FALSE POSITIVE RATE')\n",
    "        plt.ylabel('TRUE POSITIVE RATE')\n",
    "        plt.title('ROC, AREA={:.2f}'.format(roc_area))\n",
    "        plt.xlim([0,1])\n",
    "        plt.ylim([0,1])\n",
    "        plt.legend()\n",
    "    return {'pr_area':pr_area, 'roc_area':roc_area, 'F1':F1}"
   ]
  },
  {
   "cell_type": "code",
   "execution_count": 8,
   "metadata": {},
   "outputs": [],
   "source": [
    "def find_best_predictors(X, Y, all_predictors, f_method):\n",
    "    best = {'pr_area':0.0, 'roc_area':0.0, 'F1':0.0, 'predictors':''}\n",
    "\n",
    "    # loop over all possible number of predictors\n",
    "    for n_predictors in range(1,len(all_predictors)+1):\n",
    "    \n",
    "        # get all combinations of predictors of lenght=n_predictors\n",
    "        combinations = itertools.combinations(all_predictors, n_predictors)\n",
    "        for c in combinations:\n",
    "            predictors = list(c)\n",
    "            X_in = X[predictors]\n",
    "\n",
    "            # if n_predictors=1, try it\n",
    "            if(n_predictors==1): \n",
    "                print('Trying these predictors', predictors)\n",
    "                areas = summary_fit(X_in, Y, f, plot=False)\n",
    "            else:\n",
    "                intersection = list(set(best['predictors']) & set(predictors))\n",
    "                # only try the new predictors if they include the best['predictors']\n",
    "                if len(intersection)==len(best['predictors']):\n",
    "                    print('Trying these predictors', predictors)\n",
    "                    areas = summary_fit(X_in, Y, f, plot=False)\n",
    "                    \n",
    "            # update the best values if needed. The best model increases, the ROC area and the Prec-Recall area and F1.\n",
    "            if areas['pr_area']>best['pr_area'] and areas['roc_area']>best['roc_area'] and areas['F1'] > best['F1']:\n",
    "                best['pr_area'] = areas['pr_area']\n",
    "                best['roc_area'] = areas['roc_area']\n",
    "                best['F1'] = areas['F1']\n",
    "                best['predictors'] = predictors\n",
    "                print('\\t\\t UPDATED BEST RESULTS: {}'.format(best))\n",
    "    return best"
   ]
  },
  {
   "cell_type": "code",
   "execution_count": 9,
   "metadata": {},
   "outputs": [],
   "source": [
    "# Read the data and initialize the binary data to predict\n",
    "data = pd.read_csv('Boston.csv')\n",
    "\n",
    "crimebinary = np.repeat('Yes', len(data))\n",
    "ii = np.array(data['crim']>np.median(data['crim']))\n",
    "crimebinary[ii] = 'Yes'\n",
    "crimebinary[~ii] = 'No'\n",
    "data['CRIME_BINARY'] = crimebinary\n",
    "\n",
    "# select the full set of predictors to be used\n",
    "all_predictors = ['zn','indus', 'chas', 'nox', 'rm', 'age', 'dis', 'rad', 'tax', 'ptratio', 'black', 'lstat', 'medv']\n",
    "\n",
    "# define X and Y\n",
    "X = data[all_predictors]\n",
    "Y = data['CRIME_BINARY']"
   ]
  },
  {
   "cell_type": "code",
   "execution_count": 10,
   "metadata": {},
   "outputs": [
    {
     "name": "stdout",
     "output_type": "stream",
     "text": [
      "Trying these predictors ['zn']\n",
      "\t\t UPDATED BEST RESULTS: {'pr_area': 0.3339219901719902, 'roc_area': 0.7564102564102564, 'F1': 0.7935222672059974, 'predictors': ['zn']}\n",
      "Trying these predictors ['indus']\n",
      "\t\t UPDATED BEST RESULTS: {'pr_area': 0.7611168619732483, 'roc_area': 0.8452797202797202, 'F1': 0.8016528925614933, 'predictors': ['indus']}\n",
      "Trying these predictors ['chas']\n",
      "Trying these predictors ['nox']\n",
      "\t\t UPDATED BEST RESULTS: {'pr_area': 0.9196918579190627, 'roc_area': 0.9222481071636575, 'F1': 0.8584905660372366, 'predictors': ['nox']}\n",
      "Trying these predictors ['rm']\n",
      "Trying these predictors ['age']\n",
      "Trying these predictors ['dis']\n",
      "Trying these predictors ['rad']\n",
      "Trying these predictors ['tax']\n",
      "Trying these predictors ['ptratio']\n",
      "Trying these predictors ['black']\n",
      "Trying these predictors ['lstat']\n",
      "Trying these predictors ['medv']\n",
      "Trying these predictors ['zn', 'nox']\n",
      "Trying these predictors ['indus', 'nox']\n",
      "Trying these predictors ['chas', 'nox']\n",
      "\t\t UPDATED BEST RESULTS: {'pr_area': 0.9199072618490225, 'roc_area': 0.9338163781365494, 'F1': 0.858536585365355, 'predictors': ['chas', 'nox']}\n",
      "Trying these predictors ['zn', 'chas', 'nox']\n",
      "Trying these predictors ['indus', 'chas', 'nox']\n",
      "Trying these predictors ['chas', 'nox', 'rm']\n",
      "Trying these predictors ['chas', 'nox', 'age']\n",
      "Trying these predictors ['chas', 'nox', 'dis']\n",
      "Trying these predictors ['chas', 'nox', 'rad']\n",
      "Trying these predictors ['chas', 'nox', 'tax']\n",
      "Trying these predictors ['chas', 'nox', 'ptratio']\n",
      "Trying these predictors ['chas', 'nox', 'black']\n",
      "Trying these predictors ['chas', 'nox', 'lstat']\n",
      "Trying these predictors ['chas', 'nox', 'medv']\n",
      "Trying these predictors ['zn', 'indus', 'chas', 'nox']\n",
      "Trying these predictors ['zn', 'chas', 'nox', 'rm']\n",
      "Trying these predictors ['zn', 'chas', 'nox', 'age']\n",
      "Trying these predictors ['zn', 'chas', 'nox', 'dis']\n",
      "Trying these predictors ['zn', 'chas', 'nox', 'rad']\n",
      "Trying these predictors ['zn', 'chas', 'nox', 'tax']\n",
      "Trying these predictors ['zn', 'chas', 'nox', 'ptratio']\n",
      "Trying these predictors ['zn', 'chas', 'nox', 'black']\n",
      "Trying these predictors ['zn', 'chas', 'nox', 'lstat']\n",
      "Trying these predictors ['zn', 'chas', 'nox', 'medv']\n",
      "Trying these predictors ['indus', 'chas', 'nox', 'rm']\n",
      "Trying these predictors ['indus', 'chas', 'nox', 'age']\n",
      "Trying these predictors ['indus', 'chas', 'nox', 'dis']\n",
      "Trying these predictors ['indus', 'chas', 'nox', 'rad']\n",
      "Trying these predictors ['indus', 'chas', 'nox', 'tax']\n",
      "Trying these predictors ['indus', 'chas', 'nox', 'ptratio']\n",
      "Trying these predictors ['indus', 'chas', 'nox', 'black']\n",
      "Trying these predictors ['indus', 'chas', 'nox', 'lstat']\n",
      "Trying these predictors ['indus', 'chas', 'nox', 'medv']\n",
      "Trying these predictors ['chas', 'nox', 'rm', 'age']\n",
      "Trying these predictors ['chas', 'nox', 'rm', 'dis']\n",
      "Trying these predictors ['chas', 'nox', 'rm', 'rad']\n",
      "Trying these predictors ['chas', 'nox', 'rm', 'tax']\n",
      "Trying these predictors ['chas', 'nox', 'rm', 'ptratio']\n",
      "Trying these predictors ['chas', 'nox', 'rm', 'black']\n",
      "Trying these predictors ['chas', 'nox', 'rm', 'lstat']\n",
      "Trying these predictors ['chas', 'nox', 'rm', 'medv']\n",
      "Trying these predictors ['chas', 'nox', 'age', 'dis']\n",
      "Trying these predictors ['chas', 'nox', 'age', 'rad']\n",
      "Trying these predictors ['chas', 'nox', 'age', 'tax']\n",
      "Trying these predictors ['chas', 'nox', 'age', 'ptratio']\n",
      "Trying these predictors ['chas', 'nox', 'age', 'black']\n",
      "Trying these predictors ['chas', 'nox', 'age', 'lstat']\n",
      "Trying these predictors ['chas', 'nox', 'age', 'medv']\n",
      "Trying these predictors ['chas', 'nox', 'dis', 'rad']\n",
      "Trying these predictors ['chas', 'nox', 'dis', 'tax']\n",
      "Trying these predictors ['chas', 'nox', 'dis', 'ptratio']\n",
      "Trying these predictors ['chas', 'nox', 'dis', 'black']\n",
      "Trying these predictors ['chas', 'nox', 'dis', 'lstat']\n",
      "Trying these predictors ['chas', 'nox', 'dis', 'medv']\n",
      "Trying these predictors ['chas', 'nox', 'rad', 'tax']\n",
      "Trying these predictors ['chas', 'nox', 'rad', 'ptratio']\n",
      "Trying these predictors ['chas', 'nox', 'rad', 'black']\n",
      "Trying these predictors ['chas', 'nox', 'rad', 'lstat']\n",
      "Trying these predictors ['chas', 'nox', 'rad', 'medv']\n",
      "Trying these predictors ['chas', 'nox', 'tax', 'ptratio']\n",
      "Trying these predictors ['chas', 'nox', 'tax', 'black']\n",
      "Trying these predictors ['chas', 'nox', 'tax', 'lstat']\n",
      "Trying these predictors ['chas', 'nox', 'tax', 'medv']\n",
      "Trying these predictors ['chas', 'nox', 'ptratio', 'black']\n",
      "Trying these predictors ['chas', 'nox', 'ptratio', 'lstat']\n",
      "Trying these predictors ['chas', 'nox', 'ptratio', 'medv']\n",
      "Trying these predictors ['chas', 'nox', 'black', 'lstat']\n",
      "Trying these predictors ['chas', 'nox', 'black', 'medv']\n",
      "Trying these predictors ['chas', 'nox', 'lstat', 'medv']\n",
      "Trying these predictors ['zn', 'indus', 'chas', 'nox', 'rm']\n",
      "Trying these predictors ['zn', 'indus', 'chas', 'nox', 'age']\n",
      "Trying these predictors ['zn', 'indus', 'chas', 'nox', 'dis']\n",
      "Trying these predictors ['zn', 'indus', 'chas', 'nox', 'rad']\n",
      "Trying these predictors ['zn', 'indus', 'chas', 'nox', 'tax']\n",
      "Trying these predictors ['zn', 'indus', 'chas', 'nox', 'ptratio']\n",
      "Trying these predictors ['zn', 'indus', 'chas', 'nox', 'black']\n",
      "Trying these predictors ['zn', 'indus', 'chas', 'nox', 'lstat']\n",
      "Trying these predictors ['zn', 'indus', 'chas', 'nox', 'medv']\n",
      "Trying these predictors ['zn', 'chas', 'nox', 'rm', 'age']\n",
      "Trying these predictors ['zn', 'chas', 'nox', 'rm', 'dis']\n",
      "Trying these predictors ['zn', 'chas', 'nox', 'rm', 'rad']\n",
      "Trying these predictors ['zn', 'chas', 'nox', 'rm', 'tax']\n",
      "Trying these predictors ['zn', 'chas', 'nox', 'rm', 'ptratio']\n",
      "Trying these predictors ['zn', 'chas', 'nox', 'rm', 'black']\n"
     ]
    },
    {
     "name": "stderr",
     "output_type": "stream",
     "text": [
      "/srv/conda/lib/python3.6/site-packages/sklearn/linear_model/logistic.py:758: ConvergenceWarning: lbfgs failed to converge. Increase the number of iterations.\n",
      "  \"of iterations.\", ConvergenceWarning)\n"
     ]
    },
    {
     "name": "stdout",
     "output_type": "stream",
     "text": [
      "Trying these predictors ['zn', 'chas', 'nox', 'rm', 'lstat']\n",
      "Trying these predictors ['zn', 'chas', 'nox', 'rm', 'medv']\n",
      "Trying these predictors ['zn', 'chas', 'nox', 'age', 'dis']\n",
      "Trying these predictors ['zn', 'chas', 'nox', 'age', 'rad']\n",
      "Trying these predictors ['zn', 'chas', 'nox', 'age', 'tax']\n",
      "Trying these predictors ['zn', 'chas', 'nox', 'age', 'ptratio']\n",
      "Trying these predictors ['zn', 'chas', 'nox', 'age', 'black']\n",
      "Trying these predictors ['zn', 'chas', 'nox', 'age', 'lstat']\n",
      "Trying these predictors ['zn', 'chas', 'nox', 'age', 'medv']\n",
      "Trying these predictors ['zn', 'chas', 'nox', 'dis', 'rad']\n",
      "Trying these predictors ['zn', 'chas', 'nox', 'dis', 'tax']\n",
      "Trying these predictors ['zn', 'chas', 'nox', 'dis', 'ptratio']\n",
      "Trying these predictors ['zn', 'chas', 'nox', 'dis', 'black']\n",
      "Trying these predictors ['zn', 'chas', 'nox', 'dis', 'lstat']\n",
      "Trying these predictors ['zn', 'chas', 'nox', 'dis', 'medv']\n",
      "Trying these predictors ['zn', 'chas', 'nox', 'rad', 'tax']\n",
      "Trying these predictors ['zn', 'chas', 'nox', 'rad', 'ptratio']\n",
      "Trying these predictors ['zn', 'chas', 'nox', 'rad', 'black']\n"
     ]
    },
    {
     "name": "stderr",
     "output_type": "stream",
     "text": [
      "/srv/conda/lib/python3.6/site-packages/sklearn/linear_model/logistic.py:758: ConvergenceWarning: lbfgs failed to converge. Increase the number of iterations.\n",
      "  \"of iterations.\", ConvergenceWarning)\n"
     ]
    },
    {
     "name": "stdout",
     "output_type": "stream",
     "text": [
      "Trying these predictors ['zn', 'chas', 'nox', 'rad', 'lstat']\n",
      "Trying these predictors ['zn', 'chas', 'nox', 'rad', 'medv']\n",
      "Trying these predictors ['zn', 'chas', 'nox', 'tax', 'ptratio']\n",
      "Trying these predictors ['zn', 'chas', 'nox', 'tax', 'black']\n",
      "Trying these predictors ['zn', 'chas', 'nox', 'tax', 'lstat']\n"
     ]
    },
    {
     "name": "stderr",
     "output_type": "stream",
     "text": [
      "/srv/conda/lib/python3.6/site-packages/sklearn/linear_model/logistic.py:758: ConvergenceWarning: lbfgs failed to converge. Increase the number of iterations.\n",
      "  \"of iterations.\", ConvergenceWarning)\n"
     ]
    },
    {
     "name": "stdout",
     "output_type": "stream",
     "text": [
      "Trying these predictors ['zn', 'chas', 'nox', 'tax', 'medv']\n",
      "Trying these predictors ['zn', 'chas', 'nox', 'ptratio', 'black']\n"
     ]
    },
    {
     "name": "stderr",
     "output_type": "stream",
     "text": [
      "/srv/conda/lib/python3.6/site-packages/sklearn/linear_model/logistic.py:758: ConvergenceWarning: lbfgs failed to converge. Increase the number of iterations.\n",
      "  \"of iterations.\", ConvergenceWarning)\n"
     ]
    },
    {
     "name": "stdout",
     "output_type": "stream",
     "text": [
      "Trying these predictors ['zn', 'chas', 'nox', 'ptratio', 'lstat']\n",
      "Trying these predictors ['zn', 'chas', 'nox', 'ptratio', 'medv']\n",
      "Trying these predictors ['zn', 'chas', 'nox', 'black', 'lstat']\n",
      "Trying these predictors ['zn', 'chas', 'nox', 'black', 'medv']\n",
      "Trying these predictors ['zn', 'chas', 'nox', 'lstat', 'medv']\n",
      "Trying these predictors ['indus', 'chas', 'nox', 'rm', 'age']\n",
      "Trying these predictors ['indus', 'chas', 'nox', 'rm', 'dis']\n",
      "Trying these predictors ['indus', 'chas', 'nox', 'rm', 'rad']\n",
      "Trying these predictors ['indus', 'chas', 'nox', 'rm', 'tax']\n",
      "Trying these predictors ['indus', 'chas', 'nox', 'rm', 'ptratio']\n",
      "Trying these predictors ['indus', 'chas', 'nox', 'rm', 'black']\n"
     ]
    },
    {
     "name": "stderr",
     "output_type": "stream",
     "text": [
      "/srv/conda/lib/python3.6/site-packages/sklearn/linear_model/logistic.py:758: ConvergenceWarning: lbfgs failed to converge. Increase the number of iterations.\n",
      "  \"of iterations.\", ConvergenceWarning)\n"
     ]
    },
    {
     "name": "stdout",
     "output_type": "stream",
     "text": [
      "Trying these predictors ['indus', 'chas', 'nox', 'rm', 'lstat']\n",
      "Trying these predictors ['indus', 'chas', 'nox', 'rm', 'medv']\n",
      "Trying these predictors ['indus', 'chas', 'nox', 'age', 'dis']\n",
      "Trying these predictors ['indus', 'chas', 'nox', 'age', 'rad']\n",
      "Trying these predictors ['indus', 'chas', 'nox', 'age', 'tax']\n",
      "Trying these predictors ['indus', 'chas', 'nox', 'age', 'ptratio']\n",
      "Trying these predictors ['indus', 'chas', 'nox', 'age', 'black']\n"
     ]
    },
    {
     "name": "stderr",
     "output_type": "stream",
     "text": [
      "/srv/conda/lib/python3.6/site-packages/sklearn/linear_model/logistic.py:758: ConvergenceWarning: lbfgs failed to converge. Increase the number of iterations.\n",
      "  \"of iterations.\", ConvergenceWarning)\n"
     ]
    },
    {
     "name": "stdout",
     "output_type": "stream",
     "text": [
      "Trying these predictors ['indus', 'chas', 'nox', 'age', 'lstat']\n",
      "Trying these predictors ['indus', 'chas', 'nox', 'age', 'medv']\n",
      "Trying these predictors ['indus', 'chas', 'nox', 'dis', 'rad']\n"
     ]
    },
    {
     "name": "stderr",
     "output_type": "stream",
     "text": [
      "/srv/conda/lib/python3.6/site-packages/sklearn/linear_model/logistic.py:758: ConvergenceWarning: lbfgs failed to converge. Increase the number of iterations.\n",
      "  \"of iterations.\", ConvergenceWarning)\n"
     ]
    },
    {
     "name": "stdout",
     "output_type": "stream",
     "text": [
      "Trying these predictors ['indus', 'chas', 'nox', 'dis', 'tax']\n",
      "Trying these predictors ['indus', 'chas', 'nox', 'dis', 'ptratio']\n",
      "Trying these predictors ['indus', 'chas', 'nox', 'dis', 'black']\n"
     ]
    },
    {
     "name": "stderr",
     "output_type": "stream",
     "text": [
      "/srv/conda/lib/python3.6/site-packages/sklearn/linear_model/logistic.py:758: ConvergenceWarning: lbfgs failed to converge. Increase the number of iterations.\n",
      "  \"of iterations.\", ConvergenceWarning)\n"
     ]
    },
    {
     "name": "stdout",
     "output_type": "stream",
     "text": [
      "Trying these predictors ['indus', 'chas', 'nox', 'dis', 'lstat']\n",
      "Trying these predictors ['indus', 'chas', 'nox', 'dis', 'medv']\n",
      "Trying these predictors ['indus', 'chas', 'nox', 'rad', 'tax']\n",
      "Trying these predictors ['indus', 'chas', 'nox', 'rad', 'ptratio']\n",
      "Trying these predictors ['indus', 'chas', 'nox', 'rad', 'black']\n",
      "Trying these predictors ['indus', 'chas', 'nox', 'rad', 'lstat']\n",
      "Trying these predictors ['indus', 'chas', 'nox', 'rad', 'medv']\n"
     ]
    },
    {
     "name": "stderr",
     "output_type": "stream",
     "text": [
      "/srv/conda/lib/python3.6/site-packages/sklearn/linear_model/logistic.py:758: ConvergenceWarning: lbfgs failed to converge. Increase the number of iterations.\n",
      "  \"of iterations.\", ConvergenceWarning)\n"
     ]
    },
    {
     "name": "stdout",
     "output_type": "stream",
     "text": [
      "Trying these predictors ['indus', 'chas', 'nox', 'tax', 'ptratio']\n",
      "Trying these predictors ['indus', 'chas', 'nox', 'tax', 'black']\n",
      "Trying these predictors ['indus', 'chas', 'nox', 'tax', 'lstat']\n"
     ]
    },
    {
     "name": "stderr",
     "output_type": "stream",
     "text": [
      "/srv/conda/lib/python3.6/site-packages/sklearn/linear_model/logistic.py:758: ConvergenceWarning: lbfgs failed to converge. Increase the number of iterations.\n",
      "  \"of iterations.\", ConvergenceWarning)\n"
     ]
    },
    {
     "name": "stdout",
     "output_type": "stream",
     "text": [
      "Trying these predictors ['indus', 'chas', 'nox', 'tax', 'medv']\n",
      "Trying these predictors ['indus', 'chas', 'nox', 'ptratio', 'black']\n"
     ]
    },
    {
     "name": "stderr",
     "output_type": "stream",
     "text": [
      "/srv/conda/lib/python3.6/site-packages/sklearn/linear_model/logistic.py:758: ConvergenceWarning: lbfgs failed to converge. Increase the number of iterations.\n",
      "  \"of iterations.\", ConvergenceWarning)\n"
     ]
    },
    {
     "name": "stdout",
     "output_type": "stream",
     "text": [
      "Trying these predictors ['indus', 'chas', 'nox', 'ptratio', 'lstat']\n",
      "Trying these predictors ['indus', 'chas', 'nox', 'ptratio', 'medv']\n",
      "Trying these predictors ['indus', 'chas', 'nox', 'black', 'lstat']\n",
      "Trying these predictors ['indus', 'chas', 'nox', 'black', 'medv']\n",
      "Trying these predictors ['indus', 'chas', 'nox', 'lstat', 'medv']\n",
      "Trying these predictors ['chas', 'nox', 'rm', 'age', 'dis']\n",
      "Trying these predictors ['chas', 'nox', 'rm', 'age', 'rad']\n",
      "Trying these predictors ['chas', 'nox', 'rm', 'age', 'tax']\n",
      "Trying these predictors ['chas', 'nox', 'rm', 'age', 'ptratio']\n",
      "Trying these predictors ['chas', 'nox', 'rm', 'age', 'black']\n",
      "Trying these predictors ['chas', 'nox', 'rm', 'age', 'lstat']\n",
      "Trying these predictors ['chas', 'nox', 'rm', 'age', 'medv']\n",
      "Trying these predictors ['chas', 'nox', 'rm', 'dis', 'rad']\n",
      "Trying these predictors ['chas', 'nox', 'rm', 'dis', 'tax']\n"
     ]
    },
    {
     "name": "stderr",
     "output_type": "stream",
     "text": [
      "/srv/conda/lib/python3.6/site-packages/sklearn/linear_model/logistic.py:758: ConvergenceWarning: lbfgs failed to converge. Increase the number of iterations.\n",
      "  \"of iterations.\", ConvergenceWarning)\n"
     ]
    },
    {
     "name": "stdout",
     "output_type": "stream",
     "text": [
      "Trying these predictors ['chas', 'nox', 'rm', 'dis', 'ptratio']\n",
      "Trying these predictors ['chas', 'nox', 'rm', 'dis', 'black']\n",
      "Trying these predictors ['chas', 'nox', 'rm', 'dis', 'lstat']\n",
      "Trying these predictors ['chas', 'nox', 'rm', 'dis', 'medv']\n",
      "Trying these predictors ['chas', 'nox', 'rm', 'rad', 'tax']\n"
     ]
    },
    {
     "name": "stderr",
     "output_type": "stream",
     "text": [
      "/srv/conda/lib/python3.6/site-packages/sklearn/linear_model/logistic.py:758: ConvergenceWarning: lbfgs failed to converge. Increase the number of iterations.\n",
      "  \"of iterations.\", ConvergenceWarning)\n"
     ]
    },
    {
     "name": "stdout",
     "output_type": "stream",
     "text": [
      "Trying these predictors ['chas', 'nox', 'rm', 'rad', 'ptratio']\n",
      "Trying these predictors ['chas', 'nox', 'rm', 'rad', 'black']\n",
      "Trying these predictors ['chas', 'nox', 'rm', 'rad', 'lstat']\n",
      "Trying these predictors ['chas', 'nox', 'rm', 'rad', 'medv']\n",
      "Trying these predictors ['chas', 'nox', 'rm', 'tax', 'ptratio']\n"
     ]
    },
    {
     "name": "stderr",
     "output_type": "stream",
     "text": [
      "/srv/conda/lib/python3.6/site-packages/sklearn/linear_model/logistic.py:758: ConvergenceWarning: lbfgs failed to converge. Increase the number of iterations.\n",
      "  \"of iterations.\", ConvergenceWarning)\n"
     ]
    },
    {
     "name": "stdout",
     "output_type": "stream",
     "text": [
      "Trying these predictors ['chas', 'nox', 'rm', 'tax', 'black']\n",
      "Trying these predictors ['chas', 'nox', 'rm', 'tax', 'lstat']\n"
     ]
    },
    {
     "name": "stderr",
     "output_type": "stream",
     "text": [
      "/srv/conda/lib/python3.6/site-packages/sklearn/linear_model/logistic.py:758: ConvergenceWarning: lbfgs failed to converge. Increase the number of iterations.\n",
      "  \"of iterations.\", ConvergenceWarning)\n"
     ]
    },
    {
     "name": "stdout",
     "output_type": "stream",
     "text": [
      "Trying these predictors ['chas', 'nox', 'rm', 'tax', 'medv']\n",
      "Trying these predictors ['chas', 'nox', 'rm', 'ptratio', 'black']\n",
      "Trying these predictors ['chas', 'nox', 'rm', 'ptratio', 'lstat']\n",
      "Trying these predictors ['chas', 'nox', 'rm', 'ptratio', 'medv']\n",
      "Trying these predictors ['chas', 'nox', 'rm', 'black', 'lstat']\n",
      "Trying these predictors ['chas', 'nox', 'rm', 'black', 'medv']\n",
      "Trying these predictors ['chas', 'nox', 'rm', 'lstat', 'medv']\n",
      "Trying these predictors ['chas', 'nox', 'age', 'dis', 'rad']\n",
      "Trying these predictors ['chas', 'nox', 'age', 'dis', 'tax']\n",
      "Trying these predictors ['chas', 'nox', 'age', 'dis', 'ptratio']\n",
      "Trying these predictors ['chas', 'nox', 'age', 'dis', 'black']\n",
      "Trying these predictors ['chas', 'nox', 'age', 'dis', 'lstat']\n",
      "Trying these predictors ['chas', 'nox', 'age', 'dis', 'medv']\n",
      "Trying these predictors ['chas', 'nox', 'age', 'rad', 'tax']\n"
     ]
    },
    {
     "name": "stderr",
     "output_type": "stream",
     "text": [
      "/srv/conda/lib/python3.6/site-packages/sklearn/linear_model/logistic.py:758: ConvergenceWarning: lbfgs failed to converge. Increase the number of iterations.\n",
      "  \"of iterations.\", ConvergenceWarning)\n"
     ]
    },
    {
     "name": "stdout",
     "output_type": "stream",
     "text": [
      "Trying these predictors ['chas', 'nox', 'age', 'rad', 'ptratio']\n",
      "Trying these predictors ['chas', 'nox', 'age', 'rad', 'black']\n",
      "Trying these predictors ['chas', 'nox', 'age', 'rad', 'lstat']\n",
      "Trying these predictors ['chas', 'nox', 'age', 'rad', 'medv']\n",
      "Trying these predictors ['chas', 'nox', 'age', 'tax', 'ptratio']\n",
      "Trying these predictors ['chas', 'nox', 'age', 'tax', 'black']\n",
      "Trying these predictors ['chas', 'nox', 'age', 'tax', 'lstat']\n",
      "Trying these predictors ['chas', 'nox', 'age', 'tax', 'medv']\n",
      "Trying these predictors ['chas', 'nox', 'age', 'ptratio', 'black']\n"
     ]
    },
    {
     "name": "stderr",
     "output_type": "stream",
     "text": [
      "/srv/conda/lib/python3.6/site-packages/sklearn/linear_model/logistic.py:758: ConvergenceWarning: lbfgs failed to converge. Increase the number of iterations.\n",
      "  \"of iterations.\", ConvergenceWarning)\n"
     ]
    },
    {
     "name": "stdout",
     "output_type": "stream",
     "text": [
      "Trying these predictors ['chas', 'nox', 'age', 'ptratio', 'lstat']\n",
      "Trying these predictors ['chas', 'nox', 'age', 'ptratio', 'medv']\n",
      "Trying these predictors ['chas', 'nox', 'age', 'black', 'lstat']\n",
      "Trying these predictors ['chas', 'nox', 'age', 'black', 'medv']\n",
      "Trying these predictors ['chas', 'nox', 'age', 'lstat', 'medv']\n",
      "Trying these predictors ['chas', 'nox', 'dis', 'rad', 'tax']\n"
     ]
    },
    {
     "name": "stderr",
     "output_type": "stream",
     "text": [
      "/srv/conda/lib/python3.6/site-packages/sklearn/linear_model/logistic.py:758: ConvergenceWarning: lbfgs failed to converge. Increase the number of iterations.\n",
      "  \"of iterations.\", ConvergenceWarning)\n"
     ]
    },
    {
     "name": "stdout",
     "output_type": "stream",
     "text": [
      "Trying these predictors ['chas', 'nox', 'dis', 'rad', 'ptratio']\n",
      "Trying these predictors ['chas', 'nox', 'dis', 'rad', 'black']\n",
      "Trying these predictors ['chas', 'nox', 'dis', 'rad', 'lstat']\n",
      "Trying these predictors ['chas', 'nox', 'dis', 'rad', 'medv']\n",
      "Trying these predictors ['chas', 'nox', 'dis', 'tax', 'ptratio']\n",
      "Trying these predictors ['chas', 'nox', 'dis', 'tax', 'black']\n",
      "Trying these predictors ['chas', 'nox', 'dis', 'tax', 'lstat']\n",
      "Trying these predictors ['chas', 'nox', 'dis', 'tax', 'medv']\n"
     ]
    },
    {
     "name": "stderr",
     "output_type": "stream",
     "text": [
      "/srv/conda/lib/python3.6/site-packages/sklearn/linear_model/logistic.py:758: ConvergenceWarning: lbfgs failed to converge. Increase the number of iterations.\n",
      "  \"of iterations.\", ConvergenceWarning)\n"
     ]
    },
    {
     "name": "stdout",
     "output_type": "stream",
     "text": [
      "Trying these predictors ['chas', 'nox', 'dis', 'ptratio', 'black']\n",
      "Trying these predictors ['chas', 'nox', 'dis', 'ptratio', 'lstat']\n",
      "Trying these predictors ['chas', 'nox', 'dis', 'ptratio', 'medv']\n",
      "Trying these predictors ['chas', 'nox', 'dis', 'black', 'lstat']\n",
      "Trying these predictors ['chas', 'nox', 'dis', 'black', 'medv']\n",
      "Trying these predictors ['chas', 'nox', 'dis', 'lstat', 'medv']\n",
      "Trying these predictors ['chas', 'nox', 'rad', 'tax', 'ptratio']\n",
      "Trying these predictors ['chas', 'nox', 'rad', 'tax', 'black']\n",
      "Trying these predictors ['chas', 'nox', 'rad', 'tax', 'lstat']\n"
     ]
    },
    {
     "name": "stderr",
     "output_type": "stream",
     "text": [
      "/srv/conda/lib/python3.6/site-packages/sklearn/linear_model/logistic.py:758: ConvergenceWarning: lbfgs failed to converge. Increase the number of iterations.\n",
      "  \"of iterations.\", ConvergenceWarning)\n"
     ]
    },
    {
     "name": "stdout",
     "output_type": "stream",
     "text": [
      "Trying these predictors ['chas', 'nox', 'rad', 'tax', 'medv']\n",
      "Trying these predictors ['chas', 'nox', 'rad', 'ptratio', 'black']\n",
      "Trying these predictors ['chas', 'nox', 'rad', 'ptratio', 'lstat']\n",
      "Trying these predictors ['chas', 'nox', 'rad', 'ptratio', 'medv']\n",
      "Trying these predictors ['chas', 'nox', 'rad', 'black', 'lstat']\n",
      "Trying these predictors ['chas', 'nox', 'rad', 'black', 'medv']\n",
      "Trying these predictors ['chas', 'nox', 'rad', 'lstat', 'medv']\n",
      "Trying these predictors ['chas', 'nox', 'tax', 'ptratio', 'black']\n",
      "Trying these predictors ['chas', 'nox', 'tax', 'ptratio', 'lstat']\n",
      "Trying these predictors ['chas', 'nox', 'tax', 'ptratio', 'medv']\n",
      "Trying these predictors ['chas', 'nox', 'tax', 'black', 'lstat']\n"
     ]
    },
    {
     "name": "stderr",
     "output_type": "stream",
     "text": [
      "/srv/conda/lib/python3.6/site-packages/sklearn/linear_model/logistic.py:758: ConvergenceWarning: lbfgs failed to converge. Increase the number of iterations.\n",
      "  \"of iterations.\", ConvergenceWarning)\n"
     ]
    },
    {
     "name": "stdout",
     "output_type": "stream",
     "text": [
      "Trying these predictors ['chas', 'nox', 'tax', 'black', 'medv']\n",
      "Trying these predictors ['chas', 'nox', 'tax', 'lstat', 'medv']\n",
      "Trying these predictors ['chas', 'nox', 'ptratio', 'black', 'lstat']\n",
      "Trying these predictors ['chas', 'nox', 'ptratio', 'black', 'medv']\n",
      "Trying these predictors ['chas', 'nox', 'ptratio', 'lstat', 'medv']\n",
      "Trying these predictors ['chas', 'nox', 'black', 'lstat', 'medv']\n",
      "Trying these predictors ['zn', 'indus', 'chas', 'nox', 'rm', 'age']\n",
      "Trying these predictors ['zn', 'indus', 'chas', 'nox', 'rm', 'dis']\n",
      "Trying these predictors ['zn', 'indus', 'chas', 'nox', 'rm', 'rad']\n",
      "Trying these predictors ['zn', 'indus', 'chas', 'nox', 'rm', 'tax']\n"
     ]
    },
    {
     "name": "stderr",
     "output_type": "stream",
     "text": [
      "/srv/conda/lib/python3.6/site-packages/sklearn/linear_model/logistic.py:758: ConvergenceWarning: lbfgs failed to converge. Increase the number of iterations.\n",
      "  \"of iterations.\", ConvergenceWarning)\n"
     ]
    },
    {
     "name": "stdout",
     "output_type": "stream",
     "text": [
      "Trying these predictors ['zn', 'indus', 'chas', 'nox', 'rm', 'ptratio']\n",
      "Trying these predictors ['zn', 'indus', 'chas', 'nox', 'rm', 'black']\n"
     ]
    },
    {
     "name": "stderr",
     "output_type": "stream",
     "text": [
      "/srv/conda/lib/python3.6/site-packages/sklearn/linear_model/logistic.py:758: ConvergenceWarning: lbfgs failed to converge. Increase the number of iterations.\n",
      "  \"of iterations.\", ConvergenceWarning)\n"
     ]
    },
    {
     "name": "stdout",
     "output_type": "stream",
     "text": [
      "Trying these predictors ['zn', 'indus', 'chas', 'nox', 'rm', 'lstat']\n",
      "Trying these predictors ['zn', 'indus', 'chas', 'nox', 'rm', 'medv']\n",
      "Trying these predictors ['zn', 'indus', 'chas', 'nox', 'age', 'dis']\n",
      "Trying these predictors ['zn', 'indus', 'chas', 'nox', 'age', 'rad']\n",
      "Trying these predictors ['zn', 'indus', 'chas', 'nox', 'age', 'tax']\n",
      "Trying these predictors ['zn', 'indus', 'chas', 'nox', 'age', 'ptratio']\n"
     ]
    },
    {
     "name": "stderr",
     "output_type": "stream",
     "text": [
      "/srv/conda/lib/python3.6/site-packages/sklearn/linear_model/logistic.py:758: ConvergenceWarning: lbfgs failed to converge. Increase the number of iterations.\n",
      "  \"of iterations.\", ConvergenceWarning)\n",
      "/srv/conda/lib/python3.6/site-packages/sklearn/linear_model/logistic.py:758: ConvergenceWarning: lbfgs failed to converge. Increase the number of iterations.\n",
      "  \"of iterations.\", ConvergenceWarning)\n",
      "/srv/conda/lib/python3.6/site-packages/sklearn/linear_model/logistic.py:758: ConvergenceWarning: lbfgs failed to converge. Increase the number of iterations.\n",
      "  \"of iterations.\", ConvergenceWarning)\n"
     ]
    },
    {
     "name": "stdout",
     "output_type": "stream",
     "text": [
      "Trying these predictors ['zn', 'indus', 'chas', 'nox', 'age', 'black']\n",
      "Trying these predictors ['zn', 'indus', 'chas', 'nox', 'age', 'lstat']\n",
      "Trying these predictors ['zn', 'indus', 'chas', 'nox', 'age', 'medv']\n",
      "Trying these predictors ['zn', 'indus', 'chas', 'nox', 'dis', 'rad']\n",
      "Trying these predictors ['zn', 'indus', 'chas', 'nox', 'dis', 'tax']\n"
     ]
    },
    {
     "name": "stderr",
     "output_type": "stream",
     "text": [
      "/srv/conda/lib/python3.6/site-packages/sklearn/linear_model/logistic.py:758: ConvergenceWarning: lbfgs failed to converge. Increase the number of iterations.\n",
      "  \"of iterations.\", ConvergenceWarning)\n"
     ]
    },
    {
     "name": "stdout",
     "output_type": "stream",
     "text": [
      "Trying these predictors ['zn', 'indus', 'chas', 'nox', 'dis', 'ptratio']\n",
      "\t\t UPDATED BEST RESULTS: {'pr_area': 0.9253163363835133, 'roc_area': 0.936747572815534, 'F1': 0.8749999999995032, 'predictors': ['zn', 'indus', 'chas', 'nox', 'dis', 'ptratio']}\n",
      "Trying these predictors ['zn', 'indus', 'chas', 'nox', 'rm', 'dis', 'ptratio']\n",
      "Trying these predictors ['zn', 'indus', 'chas', 'nox', 'age', 'dis', 'ptratio']\n",
      "Trying these predictors ['zn', 'indus', 'chas', 'nox', 'dis', 'rad', 'ptratio']\n",
      "Trying these predictors ['zn', 'indus', 'chas', 'nox', 'dis', 'tax', 'ptratio']\n",
      "Trying these predictors ['zn', 'indus', 'chas', 'nox', 'dis', 'ptratio', 'black']\n"
     ]
    },
    {
     "name": "stderr",
     "output_type": "stream",
     "text": [
      "/srv/conda/lib/python3.6/site-packages/sklearn/linear_model/logistic.py:758: ConvergenceWarning: lbfgs failed to converge. Increase the number of iterations.\n",
      "  \"of iterations.\", ConvergenceWarning)\n"
     ]
    },
    {
     "name": "stdout",
     "output_type": "stream",
     "text": [
      "Trying these predictors ['zn', 'indus', 'chas', 'nox', 'dis', 'ptratio', 'lstat']\n",
      "Trying these predictors ['zn', 'indus', 'chas', 'nox', 'dis', 'ptratio', 'medv']\n",
      "Trying these predictors ['zn', 'indus', 'chas', 'nox', 'rm', 'age', 'dis', 'ptratio']\n"
     ]
    },
    {
     "name": "stderr",
     "output_type": "stream",
     "text": [
      "/srv/conda/lib/python3.6/site-packages/sklearn/linear_model/logistic.py:758: ConvergenceWarning: lbfgs failed to converge. Increase the number of iterations.\n",
      "  \"of iterations.\", ConvergenceWarning)\n"
     ]
    },
    {
     "name": "stdout",
     "output_type": "stream",
     "text": [
      "Trying these predictors ['zn', 'indus', 'chas', 'nox', 'rm', 'dis', 'rad', 'ptratio']\n",
      "Trying these predictors ['zn', 'indus', 'chas', 'nox', 'rm', 'dis', 'tax', 'ptratio']\n"
     ]
    },
    {
     "name": "stderr",
     "output_type": "stream",
     "text": [
      "/srv/conda/lib/python3.6/site-packages/sklearn/linear_model/logistic.py:758: ConvergenceWarning: lbfgs failed to converge. Increase the number of iterations.\n",
      "  \"of iterations.\", ConvergenceWarning)\n"
     ]
    },
    {
     "name": "stdout",
     "output_type": "stream",
     "text": [
      "Trying these predictors ['zn', 'indus', 'chas', 'nox', 'rm', 'dis', 'ptratio', 'black']\n"
     ]
    },
    {
     "name": "stderr",
     "output_type": "stream",
     "text": [
      "/srv/conda/lib/python3.6/site-packages/sklearn/linear_model/logistic.py:758: ConvergenceWarning: lbfgs failed to converge. Increase the number of iterations.\n",
      "  \"of iterations.\", ConvergenceWarning)\n"
     ]
    },
    {
     "name": "stdout",
     "output_type": "stream",
     "text": [
      "Trying these predictors ['zn', 'indus', 'chas', 'nox', 'rm', 'dis', 'ptratio', 'lstat']\n",
      "Trying these predictors ['zn', 'indus', 'chas', 'nox', 'rm', 'dis', 'ptratio', 'medv']\n"
     ]
    },
    {
     "name": "stderr",
     "output_type": "stream",
     "text": [
      "/srv/conda/lib/python3.6/site-packages/sklearn/linear_model/logistic.py:758: ConvergenceWarning: lbfgs failed to converge. Increase the number of iterations.\n",
      "  \"of iterations.\", ConvergenceWarning)\n"
     ]
    },
    {
     "name": "stdout",
     "output_type": "stream",
     "text": [
      "Trying these predictors ['zn', 'indus', 'chas', 'nox', 'age', 'dis', 'rad', 'ptratio']\n"
     ]
    },
    {
     "name": "stderr",
     "output_type": "stream",
     "text": [
      "/srv/conda/lib/python3.6/site-packages/sklearn/linear_model/logistic.py:758: ConvergenceWarning: lbfgs failed to converge. Increase the number of iterations.\n",
      "  \"of iterations.\", ConvergenceWarning)\n",
      "/srv/conda/lib/python3.6/site-packages/sklearn/linear_model/logistic.py:758: ConvergenceWarning: lbfgs failed to converge. Increase the number of iterations.\n",
      "  \"of iterations.\", ConvergenceWarning)\n"
     ]
    },
    {
     "name": "stdout",
     "output_type": "stream",
     "text": [
      "Trying these predictors ['zn', 'indus', 'chas', 'nox', 'age', 'dis', 'tax', 'ptratio']\n",
      "Trying these predictors ['zn', 'indus', 'chas', 'nox', 'age', 'dis', 'ptratio', 'black']\n",
      "Trying these predictors ['zn', 'indus', 'chas', 'nox', 'age', 'dis', 'ptratio', 'lstat']\n"
     ]
    },
    {
     "name": "stderr",
     "output_type": "stream",
     "text": [
      "/srv/conda/lib/python3.6/site-packages/sklearn/linear_model/logistic.py:758: ConvergenceWarning: lbfgs failed to converge. Increase the number of iterations.\n",
      "  \"of iterations.\", ConvergenceWarning)\n",
      "/srv/conda/lib/python3.6/site-packages/sklearn/linear_model/logistic.py:758: ConvergenceWarning: lbfgs failed to converge. Increase the number of iterations.\n",
      "  \"of iterations.\", ConvergenceWarning)\n"
     ]
    },
    {
     "name": "stdout",
     "output_type": "stream",
     "text": [
      "Trying these predictors ['zn', 'indus', 'chas', 'nox', 'age', 'dis', 'ptratio', 'medv']\n"
     ]
    },
    {
     "name": "stderr",
     "output_type": "stream",
     "text": [
      "/srv/conda/lib/python3.6/site-packages/sklearn/linear_model/logistic.py:758: ConvergenceWarning: lbfgs failed to converge. Increase the number of iterations.\n",
      "  \"of iterations.\", ConvergenceWarning)\n"
     ]
    },
    {
     "name": "stdout",
     "output_type": "stream",
     "text": [
      "Trying these predictors ['zn', 'indus', 'chas', 'nox', 'dis', 'rad', 'tax', 'ptratio']\n"
     ]
    },
    {
     "name": "stderr",
     "output_type": "stream",
     "text": [
      "/srv/conda/lib/python3.6/site-packages/sklearn/linear_model/logistic.py:758: ConvergenceWarning: lbfgs failed to converge. Increase the number of iterations.\n",
      "  \"of iterations.\", ConvergenceWarning)\n"
     ]
    },
    {
     "name": "stdout",
     "output_type": "stream",
     "text": [
      "Trying these predictors ['zn', 'indus', 'chas', 'nox', 'dis', 'rad', 'ptratio', 'black']\n"
     ]
    },
    {
     "name": "stderr",
     "output_type": "stream",
     "text": [
      "/srv/conda/lib/python3.6/site-packages/sklearn/linear_model/logistic.py:758: ConvergenceWarning: lbfgs failed to converge. Increase the number of iterations.\n",
      "  \"of iterations.\", ConvergenceWarning)\n"
     ]
    },
    {
     "name": "stdout",
     "output_type": "stream",
     "text": [
      "Trying these predictors ['zn', 'indus', 'chas', 'nox', 'dis', 'rad', 'ptratio', 'lstat']\n",
      "Trying these predictors ['zn', 'indus', 'chas', 'nox', 'dis', 'rad', 'ptratio', 'medv']\n"
     ]
    },
    {
     "name": "stderr",
     "output_type": "stream",
     "text": [
      "/srv/conda/lib/python3.6/site-packages/sklearn/linear_model/logistic.py:758: ConvergenceWarning: lbfgs failed to converge. Increase the number of iterations.\n",
      "  \"of iterations.\", ConvergenceWarning)\n"
     ]
    },
    {
     "name": "stdout",
     "output_type": "stream",
     "text": [
      "Trying these predictors ['zn', 'indus', 'chas', 'nox', 'dis', 'tax', 'ptratio', 'black']\n"
     ]
    },
    {
     "name": "stderr",
     "output_type": "stream",
     "text": [
      "/srv/conda/lib/python3.6/site-packages/sklearn/linear_model/logistic.py:758: ConvergenceWarning: lbfgs failed to converge. Increase the number of iterations.\n",
      "  \"of iterations.\", ConvergenceWarning)\n"
     ]
    },
    {
     "name": "stdout",
     "output_type": "stream",
     "text": [
      "Trying these predictors ['zn', 'indus', 'chas', 'nox', 'dis', 'tax', 'ptratio', 'lstat']\n"
     ]
    },
    {
     "name": "stderr",
     "output_type": "stream",
     "text": [
      "/srv/conda/lib/python3.6/site-packages/sklearn/linear_model/logistic.py:758: ConvergenceWarning: lbfgs failed to converge. Increase the number of iterations.\n",
      "  \"of iterations.\", ConvergenceWarning)\n",
      "/srv/conda/lib/python3.6/site-packages/sklearn/linear_model/logistic.py:758: ConvergenceWarning: lbfgs failed to converge. Increase the number of iterations.\n",
      "  \"of iterations.\", ConvergenceWarning)\n"
     ]
    },
    {
     "name": "stdout",
     "output_type": "stream",
     "text": [
      "Trying these predictors ['zn', 'indus', 'chas', 'nox', 'dis', 'tax', 'ptratio', 'medv']\n",
      "Trying these predictors ['zn', 'indus', 'chas', 'nox', 'dis', 'ptratio', 'black', 'lstat']\n"
     ]
    },
    {
     "name": "stderr",
     "output_type": "stream",
     "text": [
      "/srv/conda/lib/python3.6/site-packages/sklearn/linear_model/logistic.py:758: ConvergenceWarning: lbfgs failed to converge. Increase the number of iterations.\n",
      "  \"of iterations.\", ConvergenceWarning)\n"
     ]
    },
    {
     "name": "stdout",
     "output_type": "stream",
     "text": [
      "Trying these predictors ['zn', 'indus', 'chas', 'nox', 'dis', 'ptratio', 'black', 'medv']\n"
     ]
    },
    {
     "name": "stderr",
     "output_type": "stream",
     "text": [
      "/srv/conda/lib/python3.6/site-packages/sklearn/linear_model/logistic.py:758: ConvergenceWarning: lbfgs failed to converge. Increase the number of iterations.\n",
      "  \"of iterations.\", ConvergenceWarning)\n"
     ]
    },
    {
     "name": "stdout",
     "output_type": "stream",
     "text": [
      "Trying these predictors ['zn', 'indus', 'chas', 'nox', 'dis', 'ptratio', 'lstat', 'medv']\n"
     ]
    },
    {
     "name": "stderr",
     "output_type": "stream",
     "text": [
      "/srv/conda/lib/python3.6/site-packages/sklearn/linear_model/logistic.py:758: ConvergenceWarning: lbfgs failed to converge. Increase the number of iterations.\n",
      "  \"of iterations.\", ConvergenceWarning)\n"
     ]
    },
    {
     "name": "stdout",
     "output_type": "stream",
     "text": [
      "Trying these predictors ['zn', 'indus', 'chas', 'nox', 'rm', 'age', 'dis', 'rad', 'ptratio']\n"
     ]
    },
    {
     "name": "stderr",
     "output_type": "stream",
     "text": [
      "/srv/conda/lib/python3.6/site-packages/sklearn/linear_model/logistic.py:758: ConvergenceWarning: lbfgs failed to converge. Increase the number of iterations.\n",
      "  \"of iterations.\", ConvergenceWarning)\n"
     ]
    },
    {
     "name": "stdout",
     "output_type": "stream",
     "text": [
      "Trying these predictors ['zn', 'indus', 'chas', 'nox', 'rm', 'age', 'dis', 'tax', 'ptratio']\n"
     ]
    },
    {
     "name": "stderr",
     "output_type": "stream",
     "text": [
      "/srv/conda/lib/python3.6/site-packages/sklearn/linear_model/logistic.py:758: ConvergenceWarning: lbfgs failed to converge. Increase the number of iterations.\n",
      "  \"of iterations.\", ConvergenceWarning)\n"
     ]
    },
    {
     "name": "stdout",
     "output_type": "stream",
     "text": [
      "Trying these predictors ['zn', 'indus', 'chas', 'nox', 'rm', 'age', 'dis', 'ptratio', 'black']\n"
     ]
    },
    {
     "name": "stderr",
     "output_type": "stream",
     "text": [
      "/srv/conda/lib/python3.6/site-packages/sklearn/linear_model/logistic.py:758: ConvergenceWarning: lbfgs failed to converge. Increase the number of iterations.\n",
      "  \"of iterations.\", ConvergenceWarning)\n"
     ]
    },
    {
     "name": "stdout",
     "output_type": "stream",
     "text": [
      "Trying these predictors ['zn', 'indus', 'chas', 'nox', 'rm', 'age', 'dis', 'ptratio', 'lstat']\n"
     ]
    },
    {
     "name": "stderr",
     "output_type": "stream",
     "text": [
      "/srv/conda/lib/python3.6/site-packages/sklearn/linear_model/logistic.py:758: ConvergenceWarning: lbfgs failed to converge. Increase the number of iterations.\n",
      "  \"of iterations.\", ConvergenceWarning)\n"
     ]
    },
    {
     "name": "stdout",
     "output_type": "stream",
     "text": [
      "Trying these predictors ['zn', 'indus', 'chas', 'nox', 'rm', 'age', 'dis', 'ptratio', 'medv']\n"
     ]
    },
    {
     "name": "stderr",
     "output_type": "stream",
     "text": [
      "/srv/conda/lib/python3.6/site-packages/sklearn/linear_model/logistic.py:758: ConvergenceWarning: lbfgs failed to converge. Increase the number of iterations.\n",
      "  \"of iterations.\", ConvergenceWarning)\n"
     ]
    },
    {
     "name": "stdout",
     "output_type": "stream",
     "text": [
      "Trying these predictors ['zn', 'indus', 'chas', 'nox', 'rm', 'dis', 'rad', 'tax', 'ptratio']\n"
     ]
    },
    {
     "name": "stderr",
     "output_type": "stream",
     "text": [
      "/srv/conda/lib/python3.6/site-packages/sklearn/linear_model/logistic.py:758: ConvergenceWarning: lbfgs failed to converge. Increase the number of iterations.\n",
      "  \"of iterations.\", ConvergenceWarning)\n"
     ]
    },
    {
     "name": "stdout",
     "output_type": "stream",
     "text": [
      "Trying these predictors ['zn', 'indus', 'chas', 'nox', 'rm', 'dis', 'rad', 'ptratio', 'black']\n"
     ]
    },
    {
     "name": "stderr",
     "output_type": "stream",
     "text": [
      "/srv/conda/lib/python3.6/site-packages/sklearn/linear_model/logistic.py:758: ConvergenceWarning: lbfgs failed to converge. Increase the number of iterations.\n",
      "  \"of iterations.\", ConvergenceWarning)\n"
     ]
    },
    {
     "name": "stdout",
     "output_type": "stream",
     "text": [
      "Trying these predictors ['zn', 'indus', 'chas', 'nox', 'rm', 'dis', 'rad', 'ptratio', 'lstat']\n"
     ]
    },
    {
     "name": "stderr",
     "output_type": "stream",
     "text": [
      "/srv/conda/lib/python3.6/site-packages/sklearn/linear_model/logistic.py:758: ConvergenceWarning: lbfgs failed to converge. Increase the number of iterations.\n",
      "  \"of iterations.\", ConvergenceWarning)\n"
     ]
    },
    {
     "name": "stdout",
     "output_type": "stream",
     "text": [
      "Trying these predictors ['zn', 'indus', 'chas', 'nox', 'rm', 'dis', 'rad', 'ptratio', 'medv']\n"
     ]
    },
    {
     "name": "stderr",
     "output_type": "stream",
     "text": [
      "/srv/conda/lib/python3.6/site-packages/sklearn/linear_model/logistic.py:758: ConvergenceWarning: lbfgs failed to converge. Increase the number of iterations.\n",
      "  \"of iterations.\", ConvergenceWarning)\n"
     ]
    },
    {
     "name": "stdout",
     "output_type": "stream",
     "text": [
      "Trying these predictors ['zn', 'indus', 'chas', 'nox', 'rm', 'dis', 'tax', 'ptratio', 'black']\n"
     ]
    },
    {
     "name": "stderr",
     "output_type": "stream",
     "text": [
      "/srv/conda/lib/python3.6/site-packages/sklearn/linear_model/logistic.py:758: ConvergenceWarning: lbfgs failed to converge. Increase the number of iterations.\n",
      "  \"of iterations.\", ConvergenceWarning)\n"
     ]
    },
    {
     "name": "stdout",
     "output_type": "stream",
     "text": [
      "Trying these predictors ['zn', 'indus', 'chas', 'nox', 'rm', 'dis', 'tax', 'ptratio', 'lstat']\n"
     ]
    },
    {
     "name": "stderr",
     "output_type": "stream",
     "text": [
      "/srv/conda/lib/python3.6/site-packages/sklearn/linear_model/logistic.py:758: ConvergenceWarning: lbfgs failed to converge. Increase the number of iterations.\n",
      "  \"of iterations.\", ConvergenceWarning)\n",
      "/srv/conda/lib/python3.6/site-packages/sklearn/linear_model/logistic.py:758: ConvergenceWarning: lbfgs failed to converge. Increase the number of iterations.\n",
      "  \"of iterations.\", ConvergenceWarning)\n"
     ]
    },
    {
     "name": "stdout",
     "output_type": "stream",
     "text": [
      "Trying these predictors ['zn', 'indus', 'chas', 'nox', 'rm', 'dis', 'tax', 'ptratio', 'medv']\n",
      "Trying these predictors ['zn', 'indus', 'chas', 'nox', 'rm', 'dis', 'ptratio', 'black', 'lstat']\n"
     ]
    },
    {
     "name": "stderr",
     "output_type": "stream",
     "text": [
      "/srv/conda/lib/python3.6/site-packages/sklearn/linear_model/logistic.py:758: ConvergenceWarning: lbfgs failed to converge. Increase the number of iterations.\n",
      "  \"of iterations.\", ConvergenceWarning)\n"
     ]
    },
    {
     "name": "stdout",
     "output_type": "stream",
     "text": [
      "Trying these predictors ['zn', 'indus', 'chas', 'nox', 'rm', 'dis', 'ptratio', 'black', 'medv']\n"
     ]
    },
    {
     "name": "stderr",
     "output_type": "stream",
     "text": [
      "/srv/conda/lib/python3.6/site-packages/sklearn/linear_model/logistic.py:758: ConvergenceWarning: lbfgs failed to converge. Increase the number of iterations.\n",
      "  \"of iterations.\", ConvergenceWarning)\n"
     ]
    },
    {
     "name": "stdout",
     "output_type": "stream",
     "text": [
      "Trying these predictors ['zn', 'indus', 'chas', 'nox', 'rm', 'dis', 'ptratio', 'lstat', 'medv']\n"
     ]
    },
    {
     "name": "stderr",
     "output_type": "stream",
     "text": [
      "/srv/conda/lib/python3.6/site-packages/sklearn/linear_model/logistic.py:758: ConvergenceWarning: lbfgs failed to converge. Increase the number of iterations.\n",
      "  \"of iterations.\", ConvergenceWarning)\n"
     ]
    },
    {
     "name": "stdout",
     "output_type": "stream",
     "text": [
      "Trying these predictors ['zn', 'indus', 'chas', 'nox', 'age', 'dis', 'rad', 'tax', 'ptratio']\n"
     ]
    },
    {
     "name": "stderr",
     "output_type": "stream",
     "text": [
      "/srv/conda/lib/python3.6/site-packages/sklearn/linear_model/logistic.py:758: ConvergenceWarning: lbfgs failed to converge. Increase the number of iterations.\n",
      "  \"of iterations.\", ConvergenceWarning)\n"
     ]
    },
    {
     "name": "stdout",
     "output_type": "stream",
     "text": [
      "Trying these predictors ['zn', 'indus', 'chas', 'nox', 'age', 'dis', 'rad', 'ptratio', 'black']\n"
     ]
    },
    {
     "name": "stderr",
     "output_type": "stream",
     "text": [
      "/srv/conda/lib/python3.6/site-packages/sklearn/linear_model/logistic.py:758: ConvergenceWarning: lbfgs failed to converge. Increase the number of iterations.\n",
      "  \"of iterations.\", ConvergenceWarning)\n"
     ]
    },
    {
     "name": "stdout",
     "output_type": "stream",
     "text": [
      "Trying these predictors ['zn', 'indus', 'chas', 'nox', 'age', 'dis', 'rad', 'ptratio', 'lstat']\n"
     ]
    },
    {
     "name": "stderr",
     "output_type": "stream",
     "text": [
      "/srv/conda/lib/python3.6/site-packages/sklearn/linear_model/logistic.py:758: ConvergenceWarning: lbfgs failed to converge. Increase the number of iterations.\n",
      "  \"of iterations.\", ConvergenceWarning)\n"
     ]
    },
    {
     "name": "stdout",
     "output_type": "stream",
     "text": [
      "Trying these predictors ['zn', 'indus', 'chas', 'nox', 'age', 'dis', 'rad', 'ptratio', 'medv']\n"
     ]
    },
    {
     "name": "stderr",
     "output_type": "stream",
     "text": [
      "/srv/conda/lib/python3.6/site-packages/sklearn/linear_model/logistic.py:758: ConvergenceWarning: lbfgs failed to converge. Increase the number of iterations.\n",
      "  \"of iterations.\", ConvergenceWarning)\n"
     ]
    },
    {
     "name": "stdout",
     "output_type": "stream",
     "text": [
      "Trying these predictors ['zn', 'indus', 'chas', 'nox', 'age', 'dis', 'tax', 'ptratio', 'black']\n"
     ]
    },
    {
     "name": "stderr",
     "output_type": "stream",
     "text": [
      "/srv/conda/lib/python3.6/site-packages/sklearn/linear_model/logistic.py:758: ConvergenceWarning: lbfgs failed to converge. Increase the number of iterations.\n",
      "  \"of iterations.\", ConvergenceWarning)\n"
     ]
    },
    {
     "name": "stdout",
     "output_type": "stream",
     "text": [
      "Trying these predictors ['zn', 'indus', 'chas', 'nox', 'age', 'dis', 'tax', 'ptratio', 'lstat']\n"
     ]
    },
    {
     "name": "stderr",
     "output_type": "stream",
     "text": [
      "/srv/conda/lib/python3.6/site-packages/sklearn/linear_model/logistic.py:758: ConvergenceWarning: lbfgs failed to converge. Increase the number of iterations.\n",
      "  \"of iterations.\", ConvergenceWarning)\n"
     ]
    },
    {
     "name": "stdout",
     "output_type": "stream",
     "text": [
      "Trying these predictors ['zn', 'indus', 'chas', 'nox', 'age', 'dis', 'tax', 'ptratio', 'medv']\n"
     ]
    },
    {
     "name": "stderr",
     "output_type": "stream",
     "text": [
      "/srv/conda/lib/python3.6/site-packages/sklearn/linear_model/logistic.py:758: ConvergenceWarning: lbfgs failed to converge. Increase the number of iterations.\n",
      "  \"of iterations.\", ConvergenceWarning)\n"
     ]
    },
    {
     "name": "stdout",
     "output_type": "stream",
     "text": [
      "Trying these predictors ['zn', 'indus', 'chas', 'nox', 'age', 'dis', 'ptratio', 'black', 'lstat']\n"
     ]
    },
    {
     "name": "stderr",
     "output_type": "stream",
     "text": [
      "/srv/conda/lib/python3.6/site-packages/sklearn/linear_model/logistic.py:758: ConvergenceWarning: lbfgs failed to converge. Increase the number of iterations.\n",
      "  \"of iterations.\", ConvergenceWarning)\n"
     ]
    },
    {
     "name": "stdout",
     "output_type": "stream",
     "text": [
      "Trying these predictors ['zn', 'indus', 'chas', 'nox', 'age', 'dis', 'ptratio', 'black', 'medv']\n"
     ]
    },
    {
     "name": "stderr",
     "output_type": "stream",
     "text": [
      "/srv/conda/lib/python3.6/site-packages/sklearn/linear_model/logistic.py:758: ConvergenceWarning: lbfgs failed to converge. Increase the number of iterations.\n",
      "  \"of iterations.\", ConvergenceWarning)\n"
     ]
    },
    {
     "name": "stdout",
     "output_type": "stream",
     "text": [
      "Trying these predictors ['zn', 'indus', 'chas', 'nox', 'age', 'dis', 'ptratio', 'lstat', 'medv']\n"
     ]
    },
    {
     "name": "stderr",
     "output_type": "stream",
     "text": [
      "/srv/conda/lib/python3.6/site-packages/sklearn/linear_model/logistic.py:758: ConvergenceWarning: lbfgs failed to converge. Increase the number of iterations.\n",
      "  \"of iterations.\", ConvergenceWarning)\n"
     ]
    },
    {
     "name": "stdout",
     "output_type": "stream",
     "text": [
      "Trying these predictors ['zn', 'indus', 'chas', 'nox', 'dis', 'rad', 'tax', 'ptratio', 'black']\n"
     ]
    },
    {
     "name": "stderr",
     "output_type": "stream",
     "text": [
      "/srv/conda/lib/python3.6/site-packages/sklearn/linear_model/logistic.py:758: ConvergenceWarning: lbfgs failed to converge. Increase the number of iterations.\n",
      "  \"of iterations.\", ConvergenceWarning)\n"
     ]
    },
    {
     "name": "stdout",
     "output_type": "stream",
     "text": [
      "Trying these predictors ['zn', 'indus', 'chas', 'nox', 'dis', 'rad', 'tax', 'ptratio', 'lstat']\n"
     ]
    },
    {
     "name": "stderr",
     "output_type": "stream",
     "text": [
      "/srv/conda/lib/python3.6/site-packages/sklearn/linear_model/logistic.py:758: ConvergenceWarning: lbfgs failed to converge. Increase the number of iterations.\n",
      "  \"of iterations.\", ConvergenceWarning)\n"
     ]
    },
    {
     "name": "stdout",
     "output_type": "stream",
     "text": [
      "Trying these predictors ['zn', 'indus', 'chas', 'nox', 'dis', 'rad', 'tax', 'ptratio', 'medv']\n"
     ]
    },
    {
     "name": "stderr",
     "output_type": "stream",
     "text": [
      "/srv/conda/lib/python3.6/site-packages/sklearn/linear_model/logistic.py:758: ConvergenceWarning: lbfgs failed to converge. Increase the number of iterations.\n",
      "  \"of iterations.\", ConvergenceWarning)\n"
     ]
    },
    {
     "name": "stdout",
     "output_type": "stream",
     "text": [
      "Trying these predictors ['zn', 'indus', 'chas', 'nox', 'dis', 'rad', 'ptratio', 'black', 'lstat']\n"
     ]
    },
    {
     "name": "stderr",
     "output_type": "stream",
     "text": [
      "/srv/conda/lib/python3.6/site-packages/sklearn/linear_model/logistic.py:758: ConvergenceWarning: lbfgs failed to converge. Increase the number of iterations.\n",
      "  \"of iterations.\", ConvergenceWarning)\n"
     ]
    },
    {
     "name": "stdout",
     "output_type": "stream",
     "text": [
      "Trying these predictors ['zn', 'indus', 'chas', 'nox', 'dis', 'rad', 'ptratio', 'black', 'medv']\n"
     ]
    },
    {
     "name": "stderr",
     "output_type": "stream",
     "text": [
      "/srv/conda/lib/python3.6/site-packages/sklearn/linear_model/logistic.py:758: ConvergenceWarning: lbfgs failed to converge. Increase the number of iterations.\n",
      "  \"of iterations.\", ConvergenceWarning)\n"
     ]
    },
    {
     "name": "stdout",
     "output_type": "stream",
     "text": [
      "Trying these predictors ['zn', 'indus', 'chas', 'nox', 'dis', 'rad', 'ptratio', 'lstat', 'medv']\n"
     ]
    },
    {
     "name": "stderr",
     "output_type": "stream",
     "text": [
      "/srv/conda/lib/python3.6/site-packages/sklearn/linear_model/logistic.py:758: ConvergenceWarning: lbfgs failed to converge. Increase the number of iterations.\n",
      "  \"of iterations.\", ConvergenceWarning)\n"
     ]
    },
    {
     "name": "stdout",
     "output_type": "stream",
     "text": [
      "Trying these predictors ['zn', 'indus', 'chas', 'nox', 'dis', 'tax', 'ptratio', 'black', 'lstat']\n"
     ]
    },
    {
     "name": "stderr",
     "output_type": "stream",
     "text": [
      "/srv/conda/lib/python3.6/site-packages/sklearn/linear_model/logistic.py:758: ConvergenceWarning: lbfgs failed to converge. Increase the number of iterations.\n",
      "  \"of iterations.\", ConvergenceWarning)\n",
      "/srv/conda/lib/python3.6/site-packages/sklearn/linear_model/logistic.py:758: ConvergenceWarning: lbfgs failed to converge. Increase the number of iterations.\n",
      "  \"of iterations.\", ConvergenceWarning)\n"
     ]
    },
    {
     "name": "stdout",
     "output_type": "stream",
     "text": [
      "Trying these predictors ['zn', 'indus', 'chas', 'nox', 'dis', 'tax', 'ptratio', 'black', 'medv']\n",
      "Trying these predictors ['zn', 'indus', 'chas', 'nox', 'dis', 'tax', 'ptratio', 'lstat', 'medv']\n"
     ]
    },
    {
     "name": "stderr",
     "output_type": "stream",
     "text": [
      "/srv/conda/lib/python3.6/site-packages/sklearn/linear_model/logistic.py:758: ConvergenceWarning: lbfgs failed to converge. Increase the number of iterations.\n",
      "  \"of iterations.\", ConvergenceWarning)\n"
     ]
    },
    {
     "name": "stdout",
     "output_type": "stream",
     "text": [
      "Trying these predictors ['zn', 'indus', 'chas', 'nox', 'dis', 'ptratio', 'black', 'lstat', 'medv']\n"
     ]
    },
    {
     "name": "stderr",
     "output_type": "stream",
     "text": [
      "/srv/conda/lib/python3.6/site-packages/sklearn/linear_model/logistic.py:758: ConvergenceWarning: lbfgs failed to converge. Increase the number of iterations.\n",
      "  \"of iterations.\", ConvergenceWarning)\n"
     ]
    },
    {
     "name": "stdout",
     "output_type": "stream",
     "text": [
      "Trying these predictors ['zn', 'indus', 'chas', 'nox', 'rm', 'age', 'dis', 'rad', 'tax', 'ptratio']\n"
     ]
    },
    {
     "name": "stderr",
     "output_type": "stream",
     "text": [
      "/srv/conda/lib/python3.6/site-packages/sklearn/linear_model/logistic.py:758: ConvergenceWarning: lbfgs failed to converge. Increase the number of iterations.\n",
      "  \"of iterations.\", ConvergenceWarning)\n"
     ]
    },
    {
     "name": "stdout",
     "output_type": "stream",
     "text": [
      "Trying these predictors ['zn', 'indus', 'chas', 'nox', 'rm', 'age', 'dis', 'rad', 'ptratio', 'black']\n"
     ]
    },
    {
     "name": "stderr",
     "output_type": "stream",
     "text": [
      "/srv/conda/lib/python3.6/site-packages/sklearn/linear_model/logistic.py:758: ConvergenceWarning: lbfgs failed to converge. Increase the number of iterations.\n",
      "  \"of iterations.\", ConvergenceWarning)\n",
      "/srv/conda/lib/python3.6/site-packages/sklearn/linear_model/logistic.py:758: ConvergenceWarning: lbfgs failed to converge. Increase the number of iterations.\n",
      "  \"of iterations.\", ConvergenceWarning)\n"
     ]
    },
    {
     "name": "stdout",
     "output_type": "stream",
     "text": [
      "Trying these predictors ['zn', 'indus', 'chas', 'nox', 'rm', 'age', 'dis', 'rad', 'ptratio', 'lstat']\n",
      "Trying these predictors ['zn', 'indus', 'chas', 'nox', 'rm', 'age', 'dis', 'rad', 'ptratio', 'medv']\n"
     ]
    },
    {
     "name": "stderr",
     "output_type": "stream",
     "text": [
      "/srv/conda/lib/python3.6/site-packages/sklearn/linear_model/logistic.py:758: ConvergenceWarning: lbfgs failed to converge. Increase the number of iterations.\n",
      "  \"of iterations.\", ConvergenceWarning)\n"
     ]
    },
    {
     "name": "stdout",
     "output_type": "stream",
     "text": [
      "Trying these predictors ['zn', 'indus', 'chas', 'nox', 'rm', 'age', 'dis', 'tax', 'ptratio', 'black']\n"
     ]
    },
    {
     "name": "stderr",
     "output_type": "stream",
     "text": [
      "/srv/conda/lib/python3.6/site-packages/sklearn/linear_model/logistic.py:758: ConvergenceWarning: lbfgs failed to converge. Increase the number of iterations.\n",
      "  \"of iterations.\", ConvergenceWarning)\n"
     ]
    },
    {
     "name": "stdout",
     "output_type": "stream",
     "text": [
      "Trying these predictors ['zn', 'indus', 'chas', 'nox', 'rm', 'age', 'dis', 'tax', 'ptratio', 'lstat']\n"
     ]
    },
    {
     "name": "stderr",
     "output_type": "stream",
     "text": [
      "/srv/conda/lib/python3.6/site-packages/sklearn/linear_model/logistic.py:758: ConvergenceWarning: lbfgs failed to converge. Increase the number of iterations.\n",
      "  \"of iterations.\", ConvergenceWarning)\n"
     ]
    },
    {
     "name": "stdout",
     "output_type": "stream",
     "text": [
      "Trying these predictors ['zn', 'indus', 'chas', 'nox', 'rm', 'age', 'dis', 'tax', 'ptratio', 'medv']\n"
     ]
    },
    {
     "name": "stderr",
     "output_type": "stream",
     "text": [
      "/srv/conda/lib/python3.6/site-packages/sklearn/linear_model/logistic.py:758: ConvergenceWarning: lbfgs failed to converge. Increase the number of iterations.\n",
      "  \"of iterations.\", ConvergenceWarning)\n"
     ]
    },
    {
     "name": "stdout",
     "output_type": "stream",
     "text": [
      "Trying these predictors ['zn', 'indus', 'chas', 'nox', 'rm', 'age', 'dis', 'ptratio', 'black', 'lstat']\n"
     ]
    },
    {
     "name": "stderr",
     "output_type": "stream",
     "text": [
      "/srv/conda/lib/python3.6/site-packages/sklearn/linear_model/logistic.py:758: ConvergenceWarning: lbfgs failed to converge. Increase the number of iterations.\n",
      "  \"of iterations.\", ConvergenceWarning)\n"
     ]
    },
    {
     "name": "stdout",
     "output_type": "stream",
     "text": [
      "Trying these predictors ['zn', 'indus', 'chas', 'nox', 'rm', 'age', 'dis', 'ptratio', 'black', 'medv']\n"
     ]
    },
    {
     "name": "stderr",
     "output_type": "stream",
     "text": [
      "/srv/conda/lib/python3.6/site-packages/sklearn/linear_model/logistic.py:758: ConvergenceWarning: lbfgs failed to converge. Increase the number of iterations.\n",
      "  \"of iterations.\", ConvergenceWarning)\n"
     ]
    },
    {
     "name": "stdout",
     "output_type": "stream",
     "text": [
      "Trying these predictors ['zn', 'indus', 'chas', 'nox', 'rm', 'age', 'dis', 'ptratio', 'lstat', 'medv']\n"
     ]
    },
    {
     "name": "stderr",
     "output_type": "stream",
     "text": [
      "/srv/conda/lib/python3.6/site-packages/sklearn/linear_model/logistic.py:758: ConvergenceWarning: lbfgs failed to converge. Increase the number of iterations.\n",
      "  \"of iterations.\", ConvergenceWarning)\n"
     ]
    },
    {
     "name": "stdout",
     "output_type": "stream",
     "text": [
      "Trying these predictors ['zn', 'indus', 'chas', 'nox', 'rm', 'dis', 'rad', 'tax', 'ptratio', 'black']\n"
     ]
    },
    {
     "name": "stderr",
     "output_type": "stream",
     "text": [
      "/srv/conda/lib/python3.6/site-packages/sklearn/linear_model/logistic.py:758: ConvergenceWarning: lbfgs failed to converge. Increase the number of iterations.\n",
      "  \"of iterations.\", ConvergenceWarning)\n"
     ]
    },
    {
     "name": "stdout",
     "output_type": "stream",
     "text": [
      "Trying these predictors ['zn', 'indus', 'chas', 'nox', 'rm', 'dis', 'rad', 'tax', 'ptratio', 'lstat']\n"
     ]
    },
    {
     "name": "stderr",
     "output_type": "stream",
     "text": [
      "/srv/conda/lib/python3.6/site-packages/sklearn/linear_model/logistic.py:758: ConvergenceWarning: lbfgs failed to converge. Increase the number of iterations.\n",
      "  \"of iterations.\", ConvergenceWarning)\n"
     ]
    },
    {
     "name": "stdout",
     "output_type": "stream",
     "text": [
      "Trying these predictors ['zn', 'indus', 'chas', 'nox', 'rm', 'dis', 'rad', 'tax', 'ptratio', 'medv']\n"
     ]
    },
    {
     "name": "stderr",
     "output_type": "stream",
     "text": [
      "/srv/conda/lib/python3.6/site-packages/sklearn/linear_model/logistic.py:758: ConvergenceWarning: lbfgs failed to converge. Increase the number of iterations.\n",
      "  \"of iterations.\", ConvergenceWarning)\n"
     ]
    },
    {
     "name": "stdout",
     "output_type": "stream",
     "text": [
      "Trying these predictors ['zn', 'indus', 'chas', 'nox', 'rm', 'dis', 'rad', 'ptratio', 'black', 'lstat']\n"
     ]
    },
    {
     "name": "stderr",
     "output_type": "stream",
     "text": [
      "/srv/conda/lib/python3.6/site-packages/sklearn/linear_model/logistic.py:758: ConvergenceWarning: lbfgs failed to converge. Increase the number of iterations.\n",
      "  \"of iterations.\", ConvergenceWarning)\n"
     ]
    },
    {
     "name": "stdout",
     "output_type": "stream",
     "text": [
      "Trying these predictors ['zn', 'indus', 'chas', 'nox', 'rm', 'dis', 'rad', 'ptratio', 'black', 'medv']\n"
     ]
    },
    {
     "name": "stderr",
     "output_type": "stream",
     "text": [
      "/srv/conda/lib/python3.6/site-packages/sklearn/linear_model/logistic.py:758: ConvergenceWarning: lbfgs failed to converge. Increase the number of iterations.\n",
      "  \"of iterations.\", ConvergenceWarning)\n"
     ]
    },
    {
     "name": "stdout",
     "output_type": "stream",
     "text": [
      "Trying these predictors ['zn', 'indus', 'chas', 'nox', 'rm', 'dis', 'rad', 'ptratio', 'lstat', 'medv']\n"
     ]
    },
    {
     "name": "stderr",
     "output_type": "stream",
     "text": [
      "/srv/conda/lib/python3.6/site-packages/sklearn/linear_model/logistic.py:758: ConvergenceWarning: lbfgs failed to converge. Increase the number of iterations.\n",
      "  \"of iterations.\", ConvergenceWarning)\n"
     ]
    },
    {
     "name": "stdout",
     "output_type": "stream",
     "text": [
      "Trying these predictors ['zn', 'indus', 'chas', 'nox', 'rm', 'dis', 'tax', 'ptratio', 'black', 'lstat']\n"
     ]
    },
    {
     "name": "stderr",
     "output_type": "stream",
     "text": [
      "/srv/conda/lib/python3.6/site-packages/sklearn/linear_model/logistic.py:758: ConvergenceWarning: lbfgs failed to converge. Increase the number of iterations.\n",
      "  \"of iterations.\", ConvergenceWarning)\n"
     ]
    },
    {
     "name": "stdout",
     "output_type": "stream",
     "text": [
      "Trying these predictors ['zn', 'indus', 'chas', 'nox', 'rm', 'dis', 'tax', 'ptratio', 'black', 'medv']\n"
     ]
    },
    {
     "name": "stderr",
     "output_type": "stream",
     "text": [
      "/srv/conda/lib/python3.6/site-packages/sklearn/linear_model/logistic.py:758: ConvergenceWarning: lbfgs failed to converge. Increase the number of iterations.\n",
      "  \"of iterations.\", ConvergenceWarning)\n"
     ]
    },
    {
     "name": "stdout",
     "output_type": "stream",
     "text": [
      "Trying these predictors ['zn', 'indus', 'chas', 'nox', 'rm', 'dis', 'tax', 'ptratio', 'lstat', 'medv']\n"
     ]
    },
    {
     "name": "stderr",
     "output_type": "stream",
     "text": [
      "/srv/conda/lib/python3.6/site-packages/sklearn/linear_model/logistic.py:758: ConvergenceWarning: lbfgs failed to converge. Increase the number of iterations.\n",
      "  \"of iterations.\", ConvergenceWarning)\n"
     ]
    },
    {
     "name": "stdout",
     "output_type": "stream",
     "text": [
      "Trying these predictors ['zn', 'indus', 'chas', 'nox', 'rm', 'dis', 'ptratio', 'black', 'lstat', 'medv']\n"
     ]
    },
    {
     "name": "stderr",
     "output_type": "stream",
     "text": [
      "/srv/conda/lib/python3.6/site-packages/sklearn/linear_model/logistic.py:758: ConvergenceWarning: lbfgs failed to converge. Increase the number of iterations.\n",
      "  \"of iterations.\", ConvergenceWarning)\n"
     ]
    },
    {
     "name": "stdout",
     "output_type": "stream",
     "text": [
      "Trying these predictors ['zn', 'indus', 'chas', 'nox', 'age', 'dis', 'rad', 'tax', 'ptratio', 'black']\n"
     ]
    },
    {
     "name": "stderr",
     "output_type": "stream",
     "text": [
      "/srv/conda/lib/python3.6/site-packages/sklearn/linear_model/logistic.py:758: ConvergenceWarning: lbfgs failed to converge. Increase the number of iterations.\n",
      "  \"of iterations.\", ConvergenceWarning)\n"
     ]
    },
    {
     "name": "stdout",
     "output_type": "stream",
     "text": [
      "Trying these predictors ['zn', 'indus', 'chas', 'nox', 'age', 'dis', 'rad', 'tax', 'ptratio', 'lstat']\n"
     ]
    },
    {
     "name": "stderr",
     "output_type": "stream",
     "text": [
      "/srv/conda/lib/python3.6/site-packages/sklearn/linear_model/logistic.py:758: ConvergenceWarning: lbfgs failed to converge. Increase the number of iterations.\n",
      "  \"of iterations.\", ConvergenceWarning)\n",
      "/srv/conda/lib/python3.6/site-packages/sklearn/linear_model/logistic.py:758: ConvergenceWarning: lbfgs failed to converge. Increase the number of iterations.\n",
      "  \"of iterations.\", ConvergenceWarning)\n"
     ]
    },
    {
     "name": "stdout",
     "output_type": "stream",
     "text": [
      "Trying these predictors ['zn', 'indus', 'chas', 'nox', 'age', 'dis', 'rad', 'tax', 'ptratio', 'medv']\n",
      "Trying these predictors ['zn', 'indus', 'chas', 'nox', 'age', 'dis', 'rad', 'ptratio', 'black', 'lstat']\n",
      "Trying these predictors ['zn', 'indus', 'chas', 'nox', 'age', 'dis', 'rad', 'ptratio', 'black', 'medv']\n"
     ]
    },
    {
     "name": "stderr",
     "output_type": "stream",
     "text": [
      "/srv/conda/lib/python3.6/site-packages/sklearn/linear_model/logistic.py:758: ConvergenceWarning: lbfgs failed to converge. Increase the number of iterations.\n",
      "  \"of iterations.\", ConvergenceWarning)\n",
      "/srv/conda/lib/python3.6/site-packages/sklearn/linear_model/logistic.py:758: ConvergenceWarning: lbfgs failed to converge. Increase the number of iterations.\n",
      "  \"of iterations.\", ConvergenceWarning)\n"
     ]
    },
    {
     "name": "stdout",
     "output_type": "stream",
     "text": [
      "Trying these predictors ['zn', 'indus', 'chas', 'nox', 'age', 'dis', 'rad', 'ptratio', 'lstat', 'medv']\n"
     ]
    },
    {
     "name": "stderr",
     "output_type": "stream",
     "text": [
      "/srv/conda/lib/python3.6/site-packages/sklearn/linear_model/logistic.py:758: ConvergenceWarning: lbfgs failed to converge. Increase the number of iterations.\n",
      "  \"of iterations.\", ConvergenceWarning)\n"
     ]
    },
    {
     "name": "stdout",
     "output_type": "stream",
     "text": [
      "Trying these predictors ['zn', 'indus', 'chas', 'nox', 'age', 'dis', 'tax', 'ptratio', 'black', 'lstat']\n"
     ]
    },
    {
     "name": "stderr",
     "output_type": "stream",
     "text": [
      "/srv/conda/lib/python3.6/site-packages/sklearn/linear_model/logistic.py:758: ConvergenceWarning: lbfgs failed to converge. Increase the number of iterations.\n",
      "  \"of iterations.\", ConvergenceWarning)\n"
     ]
    },
    {
     "name": "stdout",
     "output_type": "stream",
     "text": [
      "Trying these predictors ['zn', 'indus', 'chas', 'nox', 'age', 'dis', 'tax', 'ptratio', 'black', 'medv']\n"
     ]
    },
    {
     "name": "stderr",
     "output_type": "stream",
     "text": [
      "/srv/conda/lib/python3.6/site-packages/sklearn/linear_model/logistic.py:758: ConvergenceWarning: lbfgs failed to converge. Increase the number of iterations.\n",
      "  \"of iterations.\", ConvergenceWarning)\n"
     ]
    },
    {
     "name": "stdout",
     "output_type": "stream",
     "text": [
      "Trying these predictors ['zn', 'indus', 'chas', 'nox', 'age', 'dis', 'tax', 'ptratio', 'lstat', 'medv']\n"
     ]
    },
    {
     "name": "stderr",
     "output_type": "stream",
     "text": [
      "/srv/conda/lib/python3.6/site-packages/sklearn/linear_model/logistic.py:758: ConvergenceWarning: lbfgs failed to converge. Increase the number of iterations.\n",
      "  \"of iterations.\", ConvergenceWarning)\n"
     ]
    },
    {
     "name": "stdout",
     "output_type": "stream",
     "text": [
      "Trying these predictors ['zn', 'indus', 'chas', 'nox', 'age', 'dis', 'ptratio', 'black', 'lstat', 'medv']\n"
     ]
    },
    {
     "name": "stderr",
     "output_type": "stream",
     "text": [
      "/srv/conda/lib/python3.6/site-packages/sklearn/linear_model/logistic.py:758: ConvergenceWarning: lbfgs failed to converge. Increase the number of iterations.\n",
      "  \"of iterations.\", ConvergenceWarning)\n"
     ]
    },
    {
     "name": "stdout",
     "output_type": "stream",
     "text": [
      "Trying these predictors ['zn', 'indus', 'chas', 'nox', 'dis', 'rad', 'tax', 'ptratio', 'black', 'lstat']\n"
     ]
    },
    {
     "name": "stderr",
     "output_type": "stream",
     "text": [
      "/srv/conda/lib/python3.6/site-packages/sklearn/linear_model/logistic.py:758: ConvergenceWarning: lbfgs failed to converge. Increase the number of iterations.\n",
      "  \"of iterations.\", ConvergenceWarning)\n",
      "/srv/conda/lib/python3.6/site-packages/sklearn/linear_model/logistic.py:758: ConvergenceWarning: lbfgs failed to converge. Increase the number of iterations.\n",
      "  \"of iterations.\", ConvergenceWarning)\n"
     ]
    },
    {
     "name": "stdout",
     "output_type": "stream",
     "text": [
      "Trying these predictors ['zn', 'indus', 'chas', 'nox', 'dis', 'rad', 'tax', 'ptratio', 'black', 'medv']\n",
      "Trying these predictors ['zn', 'indus', 'chas', 'nox', 'dis', 'rad', 'tax', 'ptratio', 'lstat', 'medv']\n"
     ]
    },
    {
     "name": "stderr",
     "output_type": "stream",
     "text": [
      "/srv/conda/lib/python3.6/site-packages/sklearn/linear_model/logistic.py:758: ConvergenceWarning: lbfgs failed to converge. Increase the number of iterations.\n",
      "  \"of iterations.\", ConvergenceWarning)\n"
     ]
    },
    {
     "name": "stdout",
     "output_type": "stream",
     "text": [
      "Trying these predictors ['zn', 'indus', 'chas', 'nox', 'dis', 'rad', 'ptratio', 'black', 'lstat', 'medv']\n"
     ]
    },
    {
     "name": "stderr",
     "output_type": "stream",
     "text": [
      "/srv/conda/lib/python3.6/site-packages/sklearn/linear_model/logistic.py:758: ConvergenceWarning: lbfgs failed to converge. Increase the number of iterations.\n",
      "  \"of iterations.\", ConvergenceWarning)\n"
     ]
    },
    {
     "name": "stdout",
     "output_type": "stream",
     "text": [
      "Trying these predictors ['zn', 'indus', 'chas', 'nox', 'dis', 'tax', 'ptratio', 'black', 'lstat', 'medv']\n"
     ]
    },
    {
     "name": "stderr",
     "output_type": "stream",
     "text": [
      "/srv/conda/lib/python3.6/site-packages/sklearn/linear_model/logistic.py:758: ConvergenceWarning: lbfgs failed to converge. Increase the number of iterations.\n",
      "  \"of iterations.\", ConvergenceWarning)\n"
     ]
    },
    {
     "name": "stdout",
     "output_type": "stream",
     "text": [
      "Trying these predictors ['zn', 'indus', 'chas', 'nox', 'rm', 'age', 'dis', 'rad', 'tax', 'ptratio', 'black']\n"
     ]
    },
    {
     "name": "stderr",
     "output_type": "stream",
     "text": [
      "/srv/conda/lib/python3.6/site-packages/sklearn/linear_model/logistic.py:758: ConvergenceWarning: lbfgs failed to converge. Increase the number of iterations.\n",
      "  \"of iterations.\", ConvergenceWarning)\n"
     ]
    },
    {
     "name": "stdout",
     "output_type": "stream",
     "text": [
      "Trying these predictors ['zn', 'indus', 'chas', 'nox', 'rm', 'age', 'dis', 'rad', 'tax', 'ptratio', 'lstat']\n"
     ]
    },
    {
     "name": "stderr",
     "output_type": "stream",
     "text": [
      "/srv/conda/lib/python3.6/site-packages/sklearn/linear_model/logistic.py:758: ConvergenceWarning: lbfgs failed to converge. Increase the number of iterations.\n",
      "  \"of iterations.\", ConvergenceWarning)\n"
     ]
    },
    {
     "name": "stdout",
     "output_type": "stream",
     "text": [
      "Trying these predictors ['zn', 'indus', 'chas', 'nox', 'rm', 'age', 'dis', 'rad', 'tax', 'ptratio', 'medv']\n"
     ]
    },
    {
     "name": "stderr",
     "output_type": "stream",
     "text": [
      "/srv/conda/lib/python3.6/site-packages/sklearn/linear_model/logistic.py:758: ConvergenceWarning: lbfgs failed to converge. Increase the number of iterations.\n",
      "  \"of iterations.\", ConvergenceWarning)\n"
     ]
    },
    {
     "name": "stdout",
     "output_type": "stream",
     "text": [
      "Trying these predictors ['zn', 'indus', 'chas', 'nox', 'rm', 'age', 'dis', 'rad', 'ptratio', 'black', 'lstat']\n"
     ]
    },
    {
     "name": "stderr",
     "output_type": "stream",
     "text": [
      "/srv/conda/lib/python3.6/site-packages/sklearn/linear_model/logistic.py:758: ConvergenceWarning: lbfgs failed to converge. Increase the number of iterations.\n",
      "  \"of iterations.\", ConvergenceWarning)\n",
      "/srv/conda/lib/python3.6/site-packages/sklearn/linear_model/logistic.py:758: ConvergenceWarning: lbfgs failed to converge. Increase the number of iterations.\n",
      "  \"of iterations.\", ConvergenceWarning)\n"
     ]
    },
    {
     "name": "stdout",
     "output_type": "stream",
     "text": [
      "Trying these predictors ['zn', 'indus', 'chas', 'nox', 'rm', 'age', 'dis', 'rad', 'ptratio', 'black', 'medv']\n",
      "Trying these predictors ['zn', 'indus', 'chas', 'nox', 'rm', 'age', 'dis', 'rad', 'ptratio', 'lstat', 'medv']\n"
     ]
    },
    {
     "name": "stderr",
     "output_type": "stream",
     "text": [
      "/srv/conda/lib/python3.6/site-packages/sklearn/linear_model/logistic.py:758: ConvergenceWarning: lbfgs failed to converge. Increase the number of iterations.\n",
      "  \"of iterations.\", ConvergenceWarning)\n",
      "/srv/conda/lib/python3.6/site-packages/sklearn/linear_model/logistic.py:758: ConvergenceWarning: lbfgs failed to converge. Increase the number of iterations.\n",
      "  \"of iterations.\", ConvergenceWarning)\n"
     ]
    },
    {
     "name": "stdout",
     "output_type": "stream",
     "text": [
      "Trying these predictors ['zn', 'indus', 'chas', 'nox', 'rm', 'age', 'dis', 'tax', 'ptratio', 'black', 'lstat']\n",
      "Trying these predictors ['zn', 'indus', 'chas', 'nox', 'rm', 'age', 'dis', 'tax', 'ptratio', 'black', 'medv']\n"
     ]
    },
    {
     "name": "stderr",
     "output_type": "stream",
     "text": [
      "/srv/conda/lib/python3.6/site-packages/sklearn/linear_model/logistic.py:758: ConvergenceWarning: lbfgs failed to converge. Increase the number of iterations.\n",
      "  \"of iterations.\", ConvergenceWarning)\n",
      "/srv/conda/lib/python3.6/site-packages/sklearn/linear_model/logistic.py:758: ConvergenceWarning: lbfgs failed to converge. Increase the number of iterations.\n",
      "  \"of iterations.\", ConvergenceWarning)\n"
     ]
    },
    {
     "name": "stdout",
     "output_type": "stream",
     "text": [
      "Trying these predictors ['zn', 'indus', 'chas', 'nox', 'rm', 'age', 'dis', 'tax', 'ptratio', 'lstat', 'medv']\n",
      "Trying these predictors ['zn', 'indus', 'chas', 'nox', 'rm', 'age', 'dis', 'ptratio', 'black', 'lstat', 'medv']\n"
     ]
    },
    {
     "name": "stderr",
     "output_type": "stream",
     "text": [
      "/srv/conda/lib/python3.6/site-packages/sklearn/linear_model/logistic.py:758: ConvergenceWarning: lbfgs failed to converge. Increase the number of iterations.\n",
      "  \"of iterations.\", ConvergenceWarning)\n",
      "/srv/conda/lib/python3.6/site-packages/sklearn/linear_model/logistic.py:758: ConvergenceWarning: lbfgs failed to converge. Increase the number of iterations.\n",
      "  \"of iterations.\", ConvergenceWarning)\n"
     ]
    },
    {
     "name": "stdout",
     "output_type": "stream",
     "text": [
      "Trying these predictors ['zn', 'indus', 'chas', 'nox', 'rm', 'dis', 'rad', 'tax', 'ptratio', 'black', 'lstat']\n",
      "Trying these predictors ['zn', 'indus', 'chas', 'nox', 'rm', 'dis', 'rad', 'tax', 'ptratio', 'black', 'medv']\n"
     ]
    },
    {
     "name": "stderr",
     "output_type": "stream",
     "text": [
      "/srv/conda/lib/python3.6/site-packages/sklearn/linear_model/logistic.py:758: ConvergenceWarning: lbfgs failed to converge. Increase the number of iterations.\n",
      "  \"of iterations.\", ConvergenceWarning)\n"
     ]
    },
    {
     "name": "stdout",
     "output_type": "stream",
     "text": [
      "Trying these predictors ['zn', 'indus', 'chas', 'nox', 'rm', 'dis', 'rad', 'tax', 'ptratio', 'lstat', 'medv']\n"
     ]
    },
    {
     "name": "stderr",
     "output_type": "stream",
     "text": [
      "/srv/conda/lib/python3.6/site-packages/sklearn/linear_model/logistic.py:758: ConvergenceWarning: lbfgs failed to converge. Increase the number of iterations.\n",
      "  \"of iterations.\", ConvergenceWarning)\n"
     ]
    },
    {
     "name": "stdout",
     "output_type": "stream",
     "text": [
      "Trying these predictors ['zn', 'indus', 'chas', 'nox', 'rm', 'dis', 'rad', 'ptratio', 'black', 'lstat', 'medv']\n"
     ]
    },
    {
     "name": "stderr",
     "output_type": "stream",
     "text": [
      "/srv/conda/lib/python3.6/site-packages/sklearn/linear_model/logistic.py:758: ConvergenceWarning: lbfgs failed to converge. Increase the number of iterations.\n",
      "  \"of iterations.\", ConvergenceWarning)\n"
     ]
    },
    {
     "name": "stdout",
     "output_type": "stream",
     "text": [
      "Trying these predictors ['zn', 'indus', 'chas', 'nox', 'rm', 'dis', 'tax', 'ptratio', 'black', 'lstat', 'medv']\n",
      "Trying these predictors ['zn', 'indus', 'chas', 'nox', 'age', 'dis', 'rad', 'tax', 'ptratio', 'black', 'lstat']\n"
     ]
    },
    {
     "name": "stderr",
     "output_type": "stream",
     "text": [
      "/srv/conda/lib/python3.6/site-packages/sklearn/linear_model/logistic.py:758: ConvergenceWarning: lbfgs failed to converge. Increase the number of iterations.\n",
      "  \"of iterations.\", ConvergenceWarning)\n",
      "/srv/conda/lib/python3.6/site-packages/sklearn/linear_model/logistic.py:758: ConvergenceWarning: lbfgs failed to converge. Increase the number of iterations.\n",
      "  \"of iterations.\", ConvergenceWarning)\n"
     ]
    },
    {
     "name": "stdout",
     "output_type": "stream",
     "text": [
      "Trying these predictors ['zn', 'indus', 'chas', 'nox', 'age', 'dis', 'rad', 'tax', 'ptratio', 'black', 'medv']\n",
      "Trying these predictors ['zn', 'indus', 'chas', 'nox', 'age', 'dis', 'rad', 'tax', 'ptratio', 'lstat', 'medv']\n"
     ]
    },
    {
     "name": "stderr",
     "output_type": "stream",
     "text": [
      "/srv/conda/lib/python3.6/site-packages/sklearn/linear_model/logistic.py:758: ConvergenceWarning: lbfgs failed to converge. Increase the number of iterations.\n",
      "  \"of iterations.\", ConvergenceWarning)\n",
      "/srv/conda/lib/python3.6/site-packages/sklearn/linear_model/logistic.py:758: ConvergenceWarning: lbfgs failed to converge. Increase the number of iterations.\n",
      "  \"of iterations.\", ConvergenceWarning)\n"
     ]
    },
    {
     "name": "stdout",
     "output_type": "stream",
     "text": [
      "Trying these predictors ['zn', 'indus', 'chas', 'nox', 'age', 'dis', 'rad', 'ptratio', 'black', 'lstat', 'medv']\n"
     ]
    },
    {
     "name": "stderr",
     "output_type": "stream",
     "text": [
      "/srv/conda/lib/python3.6/site-packages/sklearn/linear_model/logistic.py:758: ConvergenceWarning: lbfgs failed to converge. Increase the number of iterations.\n",
      "  \"of iterations.\", ConvergenceWarning)\n",
      "/srv/conda/lib/python3.6/site-packages/sklearn/linear_model/logistic.py:758: ConvergenceWarning: lbfgs failed to converge. Increase the number of iterations.\n",
      "  \"of iterations.\", ConvergenceWarning)\n"
     ]
    },
    {
     "name": "stdout",
     "output_type": "stream",
     "text": [
      "Trying these predictors ['zn', 'indus', 'chas', 'nox', 'age', 'dis', 'tax', 'ptratio', 'black', 'lstat', 'medv']\n",
      "Trying these predictors ['zn', 'indus', 'chas', 'nox', 'dis', 'rad', 'tax', 'ptratio', 'black', 'lstat', 'medv']\n"
     ]
    },
    {
     "name": "stderr",
     "output_type": "stream",
     "text": [
      "/srv/conda/lib/python3.6/site-packages/sklearn/linear_model/logistic.py:758: ConvergenceWarning: lbfgs failed to converge. Increase the number of iterations.\n",
      "  \"of iterations.\", ConvergenceWarning)\n"
     ]
    },
    {
     "name": "stdout",
     "output_type": "stream",
     "text": [
      "Trying these predictors ['zn', 'indus', 'chas', 'nox', 'rm', 'age', 'dis', 'rad', 'tax', 'ptratio', 'black', 'lstat']\n"
     ]
    },
    {
     "name": "stderr",
     "output_type": "stream",
     "text": [
      "/srv/conda/lib/python3.6/site-packages/sklearn/linear_model/logistic.py:758: ConvergenceWarning: lbfgs failed to converge. Increase the number of iterations.\n",
      "  \"of iterations.\", ConvergenceWarning)\n"
     ]
    },
    {
     "name": "stdout",
     "output_type": "stream",
     "text": [
      "Trying these predictors ['zn', 'indus', 'chas', 'nox', 'rm', 'age', 'dis', 'rad', 'tax', 'ptratio', 'black', 'medv']\n"
     ]
    },
    {
     "name": "stderr",
     "output_type": "stream",
     "text": [
      "/srv/conda/lib/python3.6/site-packages/sklearn/linear_model/logistic.py:758: ConvergenceWarning: lbfgs failed to converge. Increase the number of iterations.\n",
      "  \"of iterations.\", ConvergenceWarning)\n",
      "/srv/conda/lib/python3.6/site-packages/sklearn/linear_model/logistic.py:758: ConvergenceWarning: lbfgs failed to converge. Increase the number of iterations.\n",
      "  \"of iterations.\", ConvergenceWarning)\n"
     ]
    },
    {
     "name": "stdout",
     "output_type": "stream",
     "text": [
      "Trying these predictors ['zn', 'indus', 'chas', 'nox', 'rm', 'age', 'dis', 'rad', 'tax', 'ptratio', 'lstat', 'medv']\n",
      "Trying these predictors ['zn', 'indus', 'chas', 'nox', 'rm', 'age', 'dis', 'rad', 'ptratio', 'black', 'lstat', 'medv']\n"
     ]
    },
    {
     "name": "stderr",
     "output_type": "stream",
     "text": [
      "/srv/conda/lib/python3.6/site-packages/sklearn/linear_model/logistic.py:758: ConvergenceWarning: lbfgs failed to converge. Increase the number of iterations.\n",
      "  \"of iterations.\", ConvergenceWarning)\n"
     ]
    },
    {
     "name": "stdout",
     "output_type": "stream",
     "text": [
      "Trying these predictors ['zn', 'indus', 'chas', 'nox', 'rm', 'age', 'dis', 'tax', 'ptratio', 'black', 'lstat', 'medv']\n"
     ]
    },
    {
     "name": "stderr",
     "output_type": "stream",
     "text": [
      "/srv/conda/lib/python3.6/site-packages/sklearn/linear_model/logistic.py:758: ConvergenceWarning: lbfgs failed to converge. Increase the number of iterations.\n",
      "  \"of iterations.\", ConvergenceWarning)\n"
     ]
    },
    {
     "name": "stdout",
     "output_type": "stream",
     "text": [
      "Trying these predictors ['zn', 'indus', 'chas', 'nox', 'rm', 'dis', 'rad', 'tax', 'ptratio', 'black', 'lstat', 'medv']\n"
     ]
    },
    {
     "name": "stderr",
     "output_type": "stream",
     "text": [
      "/srv/conda/lib/python3.6/site-packages/sklearn/linear_model/logistic.py:758: ConvergenceWarning: lbfgs failed to converge. Increase the number of iterations.\n",
      "  \"of iterations.\", ConvergenceWarning)\n"
     ]
    },
    {
     "name": "stdout",
     "output_type": "stream",
     "text": [
      "Trying these predictors ['zn', 'indus', 'chas', 'nox', 'age', 'dis', 'rad', 'tax', 'ptratio', 'black', 'lstat', 'medv']\n"
     ]
    },
    {
     "name": "stderr",
     "output_type": "stream",
     "text": [
      "/srv/conda/lib/python3.6/site-packages/sklearn/linear_model/logistic.py:758: ConvergenceWarning: lbfgs failed to converge. Increase the number of iterations.\n",
      "  \"of iterations.\", ConvergenceWarning)\n"
     ]
    },
    {
     "name": "stdout",
     "output_type": "stream",
     "text": [
      "Trying these predictors ['zn', 'indus', 'chas', 'nox', 'rm', 'age', 'dis', 'rad', 'tax', 'ptratio', 'black', 'lstat', 'medv']\n",
      " \n",
      "The best {'pr_area': 0.9253163363835133, 'roc_area': 0.936747572815534, 'F1': 0.8749999999995032, 'predictors': ['zn', 'indus', 'chas', 'nox', 'dis', 'ptratio']}\n",
      " \n"
     ]
    },
    {
     "name": "stderr",
     "output_type": "stream",
     "text": [
      "/srv/conda/lib/python3.6/site-packages/sklearn/linear_model/logistic.py:758: ConvergenceWarning: lbfgs failed to converge. Increase the number of iterations.\n",
      "  \"of iterations.\", ConvergenceWarning)\n"
     ]
    }
   ],
   "source": [
    "# Find the best for Logistic Regression\n",
    "f = sklearn.linear_model.LogisticRegression(solver='lbfgs')\n",
    "best = find_best_predictors(X, Y, all_predictors, f)\n",
    "print(' ')\n",
    "print('The best {}'.format(best))\n",
    "print(' ')"
   ]
  },
  {
   "cell_type": "code",
   "execution_count": 11,
   "metadata": {},
   "outputs": [
    {
     "name": "stdout",
     "output_type": "stream",
     "text": [
      "Trying these predictors ['zn']\n",
      "\t\t UPDATED BEST RESULTS: {'pr_area': 0.350181681054256, 'roc_area': 0.7356796116504855, 'F1': 0.7791164658629687, 'predictors': ['zn']}\n",
      "Trying these predictors ['indus']\n",
      "\t\t UPDATED BEST RESULTS: {'pr_area': 0.7356590895158505, 'roc_area': 0.8624538924480682, 'F1': 0.8241758241753315, 'predictors': ['indus']}\n",
      "Trying these predictors ['chas']\n",
      "Trying these predictors ['nox']\n",
      "\t\t UPDATED BEST RESULTS: {'pr_area': 0.7897162843976058, 'roc_area': 0.9255339805825243, 'F1': 0.8557692307687307, 'predictors': ['nox']}\n",
      "Trying these predictors ['rm']\n",
      "Trying these predictors ['age']\n",
      "Trying these predictors ['dis']\n",
      "Trying these predictors ['rad']\n",
      "Trying these predictors ['tax']\n",
      "Trying these predictors ['ptratio']\n",
      "Trying these predictors ['black']\n",
      "Trying these predictors ['lstat']\n",
      "Trying these predictors ['medv']\n",
      "Trying these predictors ['zn', 'nox']\n",
      "\t\t UPDATED BEST RESULTS: {'pr_area': 0.7999494737260394, 'roc_area': 0.9428069490532892, 'F1': 0.8807339449536284, 'predictors': ['zn', 'nox']}\n",
      "Trying these predictors ['zn', 'indus', 'nox']\n",
      "Trying these predictors ['zn', 'chas', 'nox']\n",
      "Trying these predictors ['zn', 'nox', 'rm']\n",
      "Trying these predictors ['zn', 'nox', 'age']\n",
      "\t\t UPDATED BEST RESULTS: {'pr_area': 0.8534876866495564, 'roc_area': 0.9470663265306123, 'F1': 0.8936170212760969, 'predictors': ['zn', 'nox', 'age']}\n",
      "Trying these predictors ['zn', 'indus', 'nox', 'age']\n",
      "Trying these predictors ['zn', 'chas', 'nox', 'age']\n",
      "Trying these predictors ['zn', 'nox', 'rm', 'age']\n",
      "Trying these predictors ['zn', 'nox', 'age', 'dis']\n",
      "Trying these predictors ['zn', 'nox', 'age', 'rad']\n",
      "Trying these predictors ['zn', 'nox', 'age', 'tax']\n",
      "Trying these predictors ['zn', 'nox', 'age', 'ptratio']\n",
      "Trying these predictors ['zn', 'nox', 'age', 'black']\n",
      "Trying these predictors ['zn', 'nox', 'age', 'lstat']\n",
      "Trying these predictors ['zn', 'nox', 'age', 'medv']\n",
      "Trying these predictors ['zn', 'indus', 'chas', 'nox', 'age']\n",
      "Trying these predictors ['zn', 'indus', 'nox', 'rm', 'age']\n",
      "Trying these predictors ['zn', 'indus', 'nox', 'age', 'dis']\n",
      "Trying these predictors ['zn', 'indus', 'nox', 'age', 'rad']\n",
      "Trying these predictors ['zn', 'indus', 'nox', 'age', 'tax']\n",
      "Trying these predictors ['zn', 'indus', 'nox', 'age', 'ptratio']\n",
      "Trying these predictors ['zn', 'indus', 'nox', 'age', 'black']\n",
      "Trying these predictors ['zn', 'indus', 'nox', 'age', 'lstat']\n",
      "Trying these predictors ['zn', 'indus', 'nox', 'age', 'medv']\n",
      "Trying these predictors ['zn', 'chas', 'nox', 'rm', 'age']\n",
      "Trying these predictors ['zn', 'chas', 'nox', 'age', 'dis']\n",
      "Trying these predictors ['zn', 'chas', 'nox', 'age', 'rad']\n",
      "Trying these predictors ['zn', 'chas', 'nox', 'age', 'tax']\n",
      "Trying these predictors ['zn', 'chas', 'nox', 'age', 'ptratio']\n",
      "Trying these predictors ['zn', 'chas', 'nox', 'age', 'black']\n",
      "Trying these predictors ['zn', 'chas', 'nox', 'age', 'lstat']\n",
      "Trying these predictors ['zn', 'chas', 'nox', 'age', 'medv']\n",
      "Trying these predictors ['zn', 'nox', 'rm', 'age', 'dis']\n",
      "Trying these predictors ['zn', 'nox', 'rm', 'age', 'rad']\n",
      "Trying these predictors ['zn', 'nox', 'rm', 'age', 'tax']\n",
      "Trying these predictors ['zn', 'nox', 'rm', 'age', 'ptratio']\n",
      "Trying these predictors ['zn', 'nox', 'rm', 'age', 'black']\n",
      "Trying these predictors ['zn', 'nox', 'rm', 'age', 'lstat']\n",
      "Trying these predictors ['zn', 'nox', 'rm', 'age', 'medv']\n",
      "Trying these predictors ['zn', 'nox', 'age', 'dis', 'rad']\n",
      "Trying these predictors ['zn', 'nox', 'age', 'dis', 'tax']\n",
      "Trying these predictors ['zn', 'nox', 'age', 'dis', 'ptratio']\n",
      "Trying these predictors ['zn', 'nox', 'age', 'dis', 'black']\n",
      "Trying these predictors ['zn', 'nox', 'age', 'dis', 'lstat']\n",
      "Trying these predictors ['zn', 'nox', 'age', 'dis', 'medv']\n",
      "Trying these predictors ['zn', 'nox', 'age', 'rad', 'tax']\n",
      "Trying these predictors ['zn', 'nox', 'age', 'rad', 'ptratio']\n",
      "Trying these predictors ['zn', 'nox', 'age', 'rad', 'black']\n",
      "Trying these predictors ['zn', 'nox', 'age', 'rad', 'lstat']\n",
      "Trying these predictors ['zn', 'nox', 'age', 'rad', 'medv']\n",
      "Trying these predictors ['zn', 'nox', 'age', 'tax', 'ptratio']\n",
      "Trying these predictors ['zn', 'nox', 'age', 'tax', 'black']\n",
      "Trying these predictors ['zn', 'nox', 'age', 'tax', 'lstat']\n",
      "Trying these predictors ['zn', 'nox', 'age', 'tax', 'medv']\n",
      "Trying these predictors ['zn', 'nox', 'age', 'ptratio', 'black']\n",
      "Trying these predictors ['zn', 'nox', 'age', 'ptratio', 'lstat']\n",
      "Trying these predictors ['zn', 'nox', 'age', 'ptratio', 'medv']\n",
      "Trying these predictors ['zn', 'nox', 'age', 'black', 'lstat']\n",
      "Trying these predictors ['zn', 'nox', 'age', 'black', 'medv']\n",
      "Trying these predictors ['zn', 'nox', 'age', 'lstat', 'medv']\n",
      "Trying these predictors ['zn', 'indus', 'chas', 'nox', 'rm', 'age']\n",
      "Trying these predictors ['zn', 'indus', 'chas', 'nox', 'age', 'dis']\n",
      "Trying these predictors ['zn', 'indus', 'chas', 'nox', 'age', 'rad']\n",
      "Trying these predictors ['zn', 'indus', 'chas', 'nox', 'age', 'tax']\n",
      "Trying these predictors ['zn', 'indus', 'chas', 'nox', 'age', 'ptratio']\n",
      "Trying these predictors ['zn', 'indus', 'chas', 'nox', 'age', 'black']\n",
      "Trying these predictors ['zn', 'indus', 'chas', 'nox', 'age', 'lstat']\n",
      "Trying these predictors ['zn', 'indus', 'chas', 'nox', 'age', 'medv']\n",
      "Trying these predictors ['zn', 'indus', 'nox', 'rm', 'age', 'dis']\n",
      "Trying these predictors ['zn', 'indus', 'nox', 'rm', 'age', 'rad']\n",
      "Trying these predictors ['zn', 'indus', 'nox', 'rm', 'age', 'tax']\n",
      "Trying these predictors ['zn', 'indus', 'nox', 'rm', 'age', 'ptratio']\n",
      "Trying these predictors ['zn', 'indus', 'nox', 'rm', 'age', 'black']\n",
      "Trying these predictors ['zn', 'indus', 'nox', 'rm', 'age', 'lstat']\n",
      "Trying these predictors ['zn', 'indus', 'nox', 'rm', 'age', 'medv']\n",
      "Trying these predictors ['zn', 'indus', 'nox', 'age', 'dis', 'rad']\n",
      "Trying these predictors ['zn', 'indus', 'nox', 'age', 'dis', 'tax']\n",
      "Trying these predictors ['zn', 'indus', 'nox', 'age', 'dis', 'ptratio']\n",
      "Trying these predictors ['zn', 'indus', 'nox', 'age', 'dis', 'black']\n",
      "Trying these predictors ['zn', 'indus', 'nox', 'age', 'dis', 'lstat']\n",
      "Trying these predictors ['zn', 'indus', 'nox', 'age', 'dis', 'medv']\n",
      "Trying these predictors ['zn', 'indus', 'nox', 'age', 'rad', 'tax']\n",
      "Trying these predictors ['zn', 'indus', 'nox', 'age', 'rad', 'ptratio']\n",
      "Trying these predictors ['zn', 'indus', 'nox', 'age', 'rad', 'black']\n",
      "Trying these predictors ['zn', 'indus', 'nox', 'age', 'rad', 'lstat']\n",
      "Trying these predictors ['zn', 'indus', 'nox', 'age', 'rad', 'medv']\n",
      "Trying these predictors ['zn', 'indus', 'nox', 'age', 'tax', 'ptratio']\n",
      "Trying these predictors ['zn', 'indus', 'nox', 'age', 'tax', 'black']\n",
      "Trying these predictors ['zn', 'indus', 'nox', 'age', 'tax', 'lstat']\n",
      "Trying these predictors ['zn', 'indus', 'nox', 'age', 'tax', 'medv']\n",
      "Trying these predictors ['zn', 'indus', 'nox', 'age', 'ptratio', 'black']\n",
      "Trying these predictors ['zn', 'indus', 'nox', 'age', 'ptratio', 'lstat']\n",
      "Trying these predictors ['zn', 'indus', 'nox', 'age', 'ptratio', 'medv']\n",
      "Trying these predictors ['zn', 'indus', 'nox', 'age', 'black', 'lstat']\n",
      "Trying these predictors ['zn', 'indus', 'nox', 'age', 'black', 'medv']\n",
      "\t\t UPDATED BEST RESULTS: {'pr_area': 0.8592918627966957, 'roc_area': 0.9618298368298368, 'F1': 0.8938053097340164, 'predictors': ['zn', 'indus', 'nox', 'age', 'black', 'medv']}\n",
      "Trying these predictors ['zn', 'indus', 'chas', 'nox', 'age', 'black', 'medv']\n",
      "Trying these predictors ['zn', 'indus', 'nox', 'rm', 'age', 'black', 'medv']\n",
      "Trying these predictors ['zn', 'indus', 'nox', 'age', 'dis', 'black', 'medv']\n",
      "Trying these predictors ['zn', 'indus', 'nox', 'age', 'rad', 'black', 'medv']\n",
      "Trying these predictors ['zn', 'indus', 'nox', 'age', 'tax', 'black', 'medv']\n",
      "Trying these predictors ['zn', 'indus', 'nox', 'age', 'ptratio', 'black', 'medv']\n",
      "Trying these predictors ['zn', 'indus', 'nox', 'age', 'black', 'lstat', 'medv']\n",
      "Trying these predictors ['zn', 'indus', 'chas', 'nox', 'rm', 'age', 'black', 'medv']\n",
      "Trying these predictors ['zn', 'indus', 'chas', 'nox', 'age', 'dis', 'black', 'medv']\n",
      "Trying these predictors ['zn', 'indus', 'chas', 'nox', 'age', 'rad', 'black', 'medv']\n",
      "Trying these predictors ['zn', 'indus', 'chas', 'nox', 'age', 'tax', 'black', 'medv']\n",
      "Trying these predictors ['zn', 'indus', 'chas', 'nox', 'age', 'ptratio', 'black', 'medv']\n",
      "Trying these predictors ['zn', 'indus', 'chas', 'nox', 'age', 'black', 'lstat', 'medv']\n",
      "Trying these predictors ['zn', 'indus', 'nox', 'rm', 'age', 'dis', 'black', 'medv']\n",
      "Trying these predictors ['zn', 'indus', 'nox', 'rm', 'age', 'rad', 'black', 'medv']\n",
      "Trying these predictors ['zn', 'indus', 'nox', 'rm', 'age', 'tax', 'black', 'medv']\n",
      "Trying these predictors ['zn', 'indus', 'nox', 'rm', 'age', 'ptratio', 'black', 'medv']\n",
      "Trying these predictors ['zn', 'indus', 'nox', 'rm', 'age', 'black', 'lstat', 'medv']\n",
      "Trying these predictors ['zn', 'indus', 'nox', 'age', 'dis', 'rad', 'black', 'medv']\n",
      "Trying these predictors ['zn', 'indus', 'nox', 'age', 'dis', 'tax', 'black', 'medv']\n",
      "Trying these predictors ['zn', 'indus', 'nox', 'age', 'dis', 'ptratio', 'black', 'medv']\n",
      "Trying these predictors ['zn', 'indus', 'nox', 'age', 'dis', 'black', 'lstat', 'medv']\n",
      "Trying these predictors ['zn', 'indus', 'nox', 'age', 'rad', 'tax', 'black', 'medv']\n",
      "Trying these predictors ['zn', 'indus', 'nox', 'age', 'rad', 'ptratio', 'black', 'medv']\n",
      "Trying these predictors ['zn', 'indus', 'nox', 'age', 'rad', 'black', 'lstat', 'medv']\n",
      "Trying these predictors ['zn', 'indus', 'nox', 'age', 'tax', 'ptratio', 'black', 'medv']\n",
      "Trying these predictors ['zn', 'indus', 'nox', 'age', 'tax', 'black', 'lstat', 'medv']\n",
      "Trying these predictors ['zn', 'indus', 'nox', 'age', 'ptratio', 'black', 'lstat', 'medv']\n",
      "Trying these predictors ['zn', 'indus', 'chas', 'nox', 'rm', 'age', 'dis', 'black', 'medv']\n",
      "Trying these predictors ['zn', 'indus', 'chas', 'nox', 'rm', 'age', 'rad', 'black', 'medv']\n",
      "Trying these predictors ['zn', 'indus', 'chas', 'nox', 'rm', 'age', 'tax', 'black', 'medv']\n",
      "Trying these predictors ['zn', 'indus', 'chas', 'nox', 'rm', 'age', 'ptratio', 'black', 'medv']\n",
      "Trying these predictors ['zn', 'indus', 'chas', 'nox', 'rm', 'age', 'black', 'lstat', 'medv']\n",
      "Trying these predictors ['zn', 'indus', 'chas', 'nox', 'age', 'dis', 'rad', 'black', 'medv']\n",
      "Trying these predictors ['zn', 'indus', 'chas', 'nox', 'age', 'dis', 'tax', 'black', 'medv']\n",
      "Trying these predictors ['zn', 'indus', 'chas', 'nox', 'age', 'dis', 'ptratio', 'black', 'medv']\n",
      "Trying these predictors ['zn', 'indus', 'chas', 'nox', 'age', 'dis', 'black', 'lstat', 'medv']\n",
      "Trying these predictors ['zn', 'indus', 'chas', 'nox', 'age', 'rad', 'tax', 'black', 'medv']\n",
      "Trying these predictors ['zn', 'indus', 'chas', 'nox', 'age', 'rad', 'ptratio', 'black', 'medv']\n",
      "Trying these predictors ['zn', 'indus', 'chas', 'nox', 'age', 'rad', 'black', 'lstat', 'medv']\n",
      "Trying these predictors ['zn', 'indus', 'chas', 'nox', 'age', 'tax', 'ptratio', 'black', 'medv']\n",
      "Trying these predictors ['zn', 'indus', 'chas', 'nox', 'age', 'tax', 'black', 'lstat', 'medv']\n",
      "Trying these predictors ['zn', 'indus', 'chas', 'nox', 'age', 'ptratio', 'black', 'lstat', 'medv']\n",
      "Trying these predictors ['zn', 'indus', 'nox', 'rm', 'age', 'dis', 'rad', 'black', 'medv']\n",
      "Trying these predictors ['zn', 'indus', 'nox', 'rm', 'age', 'dis', 'tax', 'black', 'medv']\n",
      "Trying these predictors ['zn', 'indus', 'nox', 'rm', 'age', 'dis', 'ptratio', 'black', 'medv']\n",
      "Trying these predictors ['zn', 'indus', 'nox', 'rm', 'age', 'dis', 'black', 'lstat', 'medv']\n",
      "Trying these predictors ['zn', 'indus', 'nox', 'rm', 'age', 'rad', 'tax', 'black', 'medv']\n",
      "Trying these predictors ['zn', 'indus', 'nox', 'rm', 'age', 'rad', 'ptratio', 'black', 'medv']\n",
      "Trying these predictors ['zn', 'indus', 'nox', 'rm', 'age', 'rad', 'black', 'lstat', 'medv']\n",
      "Trying these predictors ['zn', 'indus', 'nox', 'rm', 'age', 'tax', 'ptratio', 'black', 'medv']\n",
      "Trying these predictors ['zn', 'indus', 'nox', 'rm', 'age', 'tax', 'black', 'lstat', 'medv']\n",
      "Trying these predictors ['zn', 'indus', 'nox', 'rm', 'age', 'ptratio', 'black', 'lstat', 'medv']\n",
      "Trying these predictors ['zn', 'indus', 'nox', 'age', 'dis', 'rad', 'tax', 'black', 'medv']\n",
      "Trying these predictors ['zn', 'indus', 'nox', 'age', 'dis', 'rad', 'ptratio', 'black', 'medv']\n",
      "Trying these predictors ['zn', 'indus', 'nox', 'age', 'dis', 'rad', 'black', 'lstat', 'medv']\n",
      "Trying these predictors ['zn', 'indus', 'nox', 'age', 'dis', 'tax', 'ptratio', 'black', 'medv']\n",
      "Trying these predictors ['zn', 'indus', 'nox', 'age', 'dis', 'tax', 'black', 'lstat', 'medv']\n",
      "Trying these predictors ['zn', 'indus', 'nox', 'age', 'dis', 'ptratio', 'black', 'lstat', 'medv']\n",
      "Trying these predictors ['zn', 'indus', 'nox', 'age', 'rad', 'tax', 'ptratio', 'black', 'medv']\n",
      "Trying these predictors ['zn', 'indus', 'nox', 'age', 'rad', 'tax', 'black', 'lstat', 'medv']\n",
      "Trying these predictors ['zn', 'indus', 'nox', 'age', 'rad', 'ptratio', 'black', 'lstat', 'medv']\n",
      "Trying these predictors ['zn', 'indus', 'nox', 'age', 'tax', 'ptratio', 'black', 'lstat', 'medv']\n",
      "Trying these predictors ['zn', 'indus', 'chas', 'nox', 'rm', 'age', 'dis', 'rad', 'black', 'medv']\n",
      "Trying these predictors ['zn', 'indus', 'chas', 'nox', 'rm', 'age', 'dis', 'tax', 'black', 'medv']\n",
      "Trying these predictors ['zn', 'indus', 'chas', 'nox', 'rm', 'age', 'dis', 'ptratio', 'black', 'medv']\n",
      "Trying these predictors ['zn', 'indus', 'chas', 'nox', 'rm', 'age', 'dis', 'black', 'lstat', 'medv']\n",
      "Trying these predictors ['zn', 'indus', 'chas', 'nox', 'rm', 'age', 'rad', 'tax', 'black', 'medv']\n",
      "Trying these predictors ['zn', 'indus', 'chas', 'nox', 'rm', 'age', 'rad', 'ptratio', 'black', 'medv']\n",
      "Trying these predictors ['zn', 'indus', 'chas', 'nox', 'rm', 'age', 'rad', 'black', 'lstat', 'medv']\n",
      "Trying these predictors ['zn', 'indus', 'chas', 'nox', 'rm', 'age', 'tax', 'ptratio', 'black', 'medv']\n",
      "Trying these predictors ['zn', 'indus', 'chas', 'nox', 'rm', 'age', 'tax', 'black', 'lstat', 'medv']\n",
      "Trying these predictors ['zn', 'indus', 'chas', 'nox', 'rm', 'age', 'ptratio', 'black', 'lstat', 'medv']\n",
      "Trying these predictors ['zn', 'indus', 'chas', 'nox', 'age', 'dis', 'rad', 'tax', 'black', 'medv']\n",
      "Trying these predictors ['zn', 'indus', 'chas', 'nox', 'age', 'dis', 'rad', 'ptratio', 'black', 'medv']\n",
      "Trying these predictors ['zn', 'indus', 'chas', 'nox', 'age', 'dis', 'rad', 'black', 'lstat', 'medv']\n",
      "Trying these predictors ['zn', 'indus', 'chas', 'nox', 'age', 'dis', 'tax', 'ptratio', 'black', 'medv']\n",
      "Trying these predictors ['zn', 'indus', 'chas', 'nox', 'age', 'dis', 'tax', 'black', 'lstat', 'medv']\n",
      "Trying these predictors ['zn', 'indus', 'chas', 'nox', 'age', 'dis', 'ptratio', 'black', 'lstat', 'medv']\n",
      "Trying these predictors ['zn', 'indus', 'chas', 'nox', 'age', 'rad', 'tax', 'ptratio', 'black', 'medv']\n",
      "Trying these predictors ['zn', 'indus', 'chas', 'nox', 'age', 'rad', 'tax', 'black', 'lstat', 'medv']\n",
      "Trying these predictors ['zn', 'indus', 'chas', 'nox', 'age', 'rad', 'ptratio', 'black', 'lstat', 'medv']\n",
      "Trying these predictors ['zn', 'indus', 'chas', 'nox', 'age', 'tax', 'ptratio', 'black', 'lstat', 'medv']\n",
      "Trying these predictors ['zn', 'indus', 'nox', 'rm', 'age', 'dis', 'rad', 'tax', 'black', 'medv']\n",
      "Trying these predictors ['zn', 'indus', 'nox', 'rm', 'age', 'dis', 'rad', 'ptratio', 'black', 'medv']\n",
      "Trying these predictors ['zn', 'indus', 'nox', 'rm', 'age', 'dis', 'rad', 'black', 'lstat', 'medv']\n",
      "Trying these predictors ['zn', 'indus', 'nox', 'rm', 'age', 'dis', 'tax', 'ptratio', 'black', 'medv']\n",
      "Trying these predictors ['zn', 'indus', 'nox', 'rm', 'age', 'dis', 'tax', 'black', 'lstat', 'medv']\n",
      "Trying these predictors ['zn', 'indus', 'nox', 'rm', 'age', 'dis', 'ptratio', 'black', 'lstat', 'medv']\n",
      "Trying these predictors ['zn', 'indus', 'nox', 'rm', 'age', 'rad', 'tax', 'ptratio', 'black', 'medv']\n",
      "Trying these predictors ['zn', 'indus', 'nox', 'rm', 'age', 'rad', 'tax', 'black', 'lstat', 'medv']\n",
      "Trying these predictors ['zn', 'indus', 'nox', 'rm', 'age', 'rad', 'ptratio', 'black', 'lstat', 'medv']\n",
      "Trying these predictors ['zn', 'indus', 'nox', 'rm', 'age', 'tax', 'ptratio', 'black', 'lstat', 'medv']\n",
      "Trying these predictors ['zn', 'indus', 'nox', 'age', 'dis', 'rad', 'tax', 'ptratio', 'black', 'medv']\n",
      "Trying these predictors ['zn', 'indus', 'nox', 'age', 'dis', 'rad', 'tax', 'black', 'lstat', 'medv']\n",
      "Trying these predictors ['zn', 'indus', 'nox', 'age', 'dis', 'rad', 'ptratio', 'black', 'lstat', 'medv']\n",
      "Trying these predictors ['zn', 'indus', 'nox', 'age', 'dis', 'tax', 'ptratio', 'black', 'lstat', 'medv']\n",
      "Trying these predictors ['zn', 'indus', 'nox', 'age', 'rad', 'tax', 'ptratio', 'black', 'lstat', 'medv']\n",
      "Trying these predictors ['zn', 'indus', 'chas', 'nox', 'rm', 'age', 'dis', 'rad', 'tax', 'black', 'medv']\n",
      "Trying these predictors ['zn', 'indus', 'chas', 'nox', 'rm', 'age', 'dis', 'rad', 'ptratio', 'black', 'medv']\n",
      "Trying these predictors ['zn', 'indus', 'chas', 'nox', 'rm', 'age', 'dis', 'rad', 'black', 'lstat', 'medv']\n",
      "Trying these predictors ['zn', 'indus', 'chas', 'nox', 'rm', 'age', 'dis', 'tax', 'ptratio', 'black', 'medv']\n",
      "Trying these predictors ['zn', 'indus', 'chas', 'nox', 'rm', 'age', 'dis', 'tax', 'black', 'lstat', 'medv']\n",
      "Trying these predictors ['zn', 'indus', 'chas', 'nox', 'rm', 'age', 'dis', 'ptratio', 'black', 'lstat', 'medv']\n",
      "Trying these predictors ['zn', 'indus', 'chas', 'nox', 'rm', 'age', 'rad', 'tax', 'ptratio', 'black', 'medv']\n",
      "Trying these predictors ['zn', 'indus', 'chas', 'nox', 'rm', 'age', 'rad', 'tax', 'black', 'lstat', 'medv']\n",
      "Trying these predictors ['zn', 'indus', 'chas', 'nox', 'rm', 'age', 'rad', 'ptratio', 'black', 'lstat', 'medv']\n",
      "Trying these predictors ['zn', 'indus', 'chas', 'nox', 'rm', 'age', 'tax', 'ptratio', 'black', 'lstat', 'medv']\n",
      "Trying these predictors ['zn', 'indus', 'chas', 'nox', 'age', 'dis', 'rad', 'tax', 'ptratio', 'black', 'medv']\n",
      "Trying these predictors ['zn', 'indus', 'chas', 'nox', 'age', 'dis', 'rad', 'tax', 'black', 'lstat', 'medv']\n",
      "Trying these predictors ['zn', 'indus', 'chas', 'nox', 'age', 'dis', 'rad', 'ptratio', 'black', 'lstat', 'medv']\n",
      "Trying these predictors ['zn', 'indus', 'chas', 'nox', 'age', 'dis', 'tax', 'ptratio', 'black', 'lstat', 'medv']\n",
      "Trying these predictors ['zn', 'indus', 'chas', 'nox', 'age', 'rad', 'tax', 'ptratio', 'black', 'lstat', 'medv']\n",
      "Trying these predictors ['zn', 'indus', 'nox', 'rm', 'age', 'dis', 'rad', 'tax', 'ptratio', 'black', 'medv']\n",
      "Trying these predictors ['zn', 'indus', 'nox', 'rm', 'age', 'dis', 'rad', 'tax', 'black', 'lstat', 'medv']\n",
      "Trying these predictors ['zn', 'indus', 'nox', 'rm', 'age', 'dis', 'rad', 'ptratio', 'black', 'lstat', 'medv']\n",
      "Trying these predictors ['zn', 'indus', 'nox', 'rm', 'age', 'dis', 'tax', 'ptratio', 'black', 'lstat', 'medv']\n",
      "Trying these predictors ['zn', 'indus', 'nox', 'rm', 'age', 'rad', 'tax', 'ptratio', 'black', 'lstat', 'medv']\n",
      "Trying these predictors ['zn', 'indus', 'nox', 'age', 'dis', 'rad', 'tax', 'ptratio', 'black', 'lstat', 'medv']\n",
      "Trying these predictors ['zn', 'indus', 'chas', 'nox', 'rm', 'age', 'dis', 'rad', 'tax', 'ptratio', 'black', 'medv']\n",
      "Trying these predictors ['zn', 'indus', 'chas', 'nox', 'rm', 'age', 'dis', 'rad', 'tax', 'black', 'lstat', 'medv']\n",
      "Trying these predictors ['zn', 'indus', 'chas', 'nox', 'rm', 'age', 'dis', 'rad', 'ptratio', 'black', 'lstat', 'medv']\n",
      "Trying these predictors ['zn', 'indus', 'chas', 'nox', 'rm', 'age', 'dis', 'tax', 'ptratio', 'black', 'lstat', 'medv']\n",
      "Trying these predictors ['zn', 'indus', 'chas', 'nox', 'rm', 'age', 'rad', 'tax', 'ptratio', 'black', 'lstat', 'medv']\n",
      "Trying these predictors ['zn', 'indus', 'chas', 'nox', 'age', 'dis', 'rad', 'tax', 'ptratio', 'black', 'lstat', 'medv']\n",
      "Trying these predictors ['zn', 'indus', 'nox', 'rm', 'age', 'dis', 'rad', 'tax', 'ptratio', 'black', 'lstat', 'medv']\n",
      "Trying these predictors ['zn', 'indus', 'chas', 'nox', 'rm', 'age', 'dis', 'rad', 'tax', 'ptratio', 'black', 'lstat', 'medv']\n",
      " \n",
      "The best {'pr_area': 0.8592918627966957, 'roc_area': 0.9618298368298368, 'F1': 0.8938053097340164, 'predictors': ['zn', 'indus', 'nox', 'age', 'black', 'medv']}\n",
      " \n"
     ]
    }
   ],
   "source": [
    "# Find the best with Linear Discriminant Analysis\n",
    "f = sklearn.discriminant_analysis.LinearDiscriminantAnalysis()\n",
    "best = find_best_predictors(X, Y, all_predictors, f)\n",
    "print(' ')\n",
    "print('The best {}'.format(best))\n",
    "print(' ')"
   ]
  },
  {
   "cell_type": "markdown",
   "metadata": {},
   "source": [
    "Despues de 5 intentos con logistic regression tengo 5 resultados diferentes"
   ]
  },
  {
   "cell_type": "markdown",
   "metadata": {},
   "source": [
    "The best {'pr_area': 0.95927442200708224, 'roc_area': 0.95343137254901966, 'F1': 0.90607734806580087, \n",
    "'predictors': ['zn', 'indus', 'chas', 'nox', 'rm', 'age', 'dis', 'tax', 'ptratio']}\n",
    "\n",
    "\n",
    "The best {'pr_area': 0.93341850837668949, 'roc_area': 0.95667550839964632, 'F1': 0.90647482014338687, \n",
    "'predictors': ['zn', 'chas', 'nox', 'tax', 'medv']}\n",
    "\n",
    "\n",
    "The best {'pr_area': 0.91882803724052686, 'roc_area': 0.93843537414965983, 'F1': 0.88235294117597096, \n",
    "'predictors': ['zn', 'nox', 'ptratio', 'black']}\n",
    "\n",
    "\n",
    "The best {'pr_area': 0.94901269335444871, 'roc_area': 0.95237864077669909, 'F1': 0.87850467289669842, \n",
    "'predictors': ['zn', 'chas', 'nox', 'age', 'dis', 'tax', 'lstat']}\n",
    "\n",
    "\n",
    "The best {'pr_area': 0.95658316625643014, 'roc_area': 0.9477582846003898, 'F1': 0.89497716894927182, \n",
    "'predictors': ['chas', 'nox', 'age', 'tax', 'lstat']}"
   ]
  },
  {
   "cell_type": "markdown",
   "metadata": {},
   "source": [
    "El único predictor que se encuentran en todos los 5 intentos es nox, se encuentran 4 veces chas, tax, zn\n",
    "\n",
    "\n",
    "Despues de 5 intentos con Linear Discriminant Analysis tengo 5 resultados diferentes"
   ]
  },
  {
   "cell_type": "markdown",
   "metadata": {},
   "source": [
    "The best {'pr_area': 0.93705403867125503, 'roc_area': 0.95151426907396619, 'F1': 0.89592760180945774, \n",
    "          'predictors': ['indus', 'nox', 'dis']}\n",
    "          \n",
    "          \n",
    "The best {'pr_area': 0.85648960827681753, 'roc_area': 0.95633145302470335, 'F1': 0.8927038626604481, \n",
    "    'predictors': ['chas', 'nox', 'age', 'dis', 'tax', 'lstat']}\n",
    "    \n",
    "    \n",
    "The best {'pr_area': 0.92179711248156537, 'roc_area': 0.96482021379980565, 'F1': 0.90350877192932766, \n",
    "'predictors': ['zn', 'indus', 'chas', 'rm', 'age', 'dis', 'rad', 'tax', 'ptratio', 'lstat', 'medv']}\n",
    "\n",
    "\n",
    "The best {'pr_area': 0.84667733614022478, 'roc_area': 0.95971655989128324, 'F1': 0.91866028708083991, \n",
    "'predictors': ['zn', 'nox']}\n",
    "\n",
    "\n",
    "The best {'pr_area': 0.88329262131391273, 'roc_area': 0.96158334954289049, 'F1': 0.89177489177439506, \n",
    "'predictors': ['nox', 'dis']}"
   ]
  },
  {
   "cell_type": "markdown",
   "metadata": {},
   "source": [
    "Ningún predictor se encuentra en todos los 5 intentos. nox y dis se encuentran 4 veces."
   ]
  },
  {
   "cell_type": "markdown",
   "metadata": {},
   "source": [
    "# Cambios efectuados a la función anterior\n",
    "\n",
    "Acá se hace una pequeña variación con un programa que lea todos los outputs y luego determine con cierta presición que variables serán las más adecuadas"
   ]
  },
  {
   "cell_type": "code",
   "execution_count": 20,
   "metadata": {},
   "outputs": [],
   "source": [
    "def summary_fit(X, Y, f_method, plot=True):\n",
    "    # Split in train and test\n",
    "    X_train, X_test, Y_train, Y_test = sklearn.model_selection.train_test_split(X,Y, test_size=0.4)\n",
    "\n",
    "    #  Fit with train\n",
    "    f_method.fit(X_train, Y_train)\n",
    "\n",
    "    # Predict with test\n",
    "    predict = f_method.predict(X_test)\n",
    "\n",
    "    # This is the probability for the '+' class\n",
    "    proba_yes = f_method.predict_proba(X_test)[:,1]\n",
    "\n",
    "    # loop over n_p different values for the threshold probabiity\n",
    "    n_p = 100\n",
    "    error_rate = np.zeros(n_p)\n",
    "    precision = np.zeros(n_p)\n",
    "    recall = np.zeros(n_p)\n",
    "    tp_rate = np.zeros(n_p)\n",
    "    fp_rate = np.zeros(n_p)\n",
    "    threshold = np.linspace(0,0.99, n_p)\n",
    "\n",
    "    for i in range(n_p):\n",
    "        ii = proba_yes>threshold[i]\n",
    "        predict[ii] = 'Yes'\n",
    "        predict[~ii] = 'No'\n",
    "        true_positive = (Y_test == 'Yes') & (predict == 'Yes') \n",
    "        false_positive = (Y_test == 'No') & (predict == 'Yes')\n",
    "        false_negative = (Y_test == 'Yes') & (predict == 'No')\n",
    "        true_negative = (Y_test == 'No') & (predict == 'No')\n",
    "        n_tp = np.count_nonzero(true_positive)\n",
    "        n_fp= np.count_nonzero(false_positive)\n",
    "        n_fn = np.count_nonzero(false_negative)\n",
    "        n_tn = np.count_nonzero(true_negative)\n",
    "        if((n_tp+n_fp)>0): precision[i] = n_tp/(n_tp + n_fp)\n",
    "        if((n_tp+n_fn)>0): recall[i] = n_tp/(n_tp + n_fn); tp_rate[i] = recall[i]  \n",
    "        if((n_fp+n_tn)>0): fp_rate[i] = n_fp/(n_fp+n_tn)\n",
    "\n",
    "    # compute the area under each curve\n",
    "    ii = np.argsort(recall)\n",
    "    pr_area = scipy.integrate.trapz(precision[ii], recall[ii])\n",
    "    \n",
    "    ii = np.argsort(fp_rate)\n",
    "    roc_area = scipy.integrate.trapz(tp_rate[ii], fp_rate[ii])\n",
    "            \n",
    "    # compute F1\n",
    "    F1 = np.max(2.0*precision*recall/(precision+recall+1E-12))\n",
    "    if plot:\n",
    "        l = 'Predictors:'\n",
    "        for k in X.keys(): \n",
    "            l=l+' '+k\n",
    "        \n",
    "        plt.figure(figsize=(10,5))\n",
    "        plt.subplot(1,2,1)\n",
    "        plt.plot(recall, precision)\n",
    "        plt.xlabel('RECALL')\n",
    "        plt.ylabel('PRECISION')\n",
    "        plt.title('PRECISION-RECALL, AREA={:.2f}'.format(pr_area))\n",
    "        plt.xlim([0,1])\n",
    "        plt.ylim([0,1])\n",
    "\n",
    "        plt.subplot(1,2,2)\n",
    "        plt.plot(fp_rate, tp_rate, label=l)\n",
    "        plt.xlabel('FALSE POSITIVE RATE')\n",
    "        plt.ylabel('TRUE POSITIVE RATE')\n",
    "        plt.title('ROC, AREA={:.2f}'.format(roc_area))\n",
    "        plt.xlim([0,1])\n",
    "        plt.ylim([0,1])\n",
    "        plt.legend()\n",
    "        plt.show()\n",
    "    return {'pr_area':pr_area, 'roc_area':roc_area, 'F1':F1}"
   ]
  },
  {
   "cell_type": "code",
   "execution_count": 21,
   "metadata": {},
   "outputs": [],
   "source": [
    "def find_best_predictors(X, Y, all_predictors, f_method):\n",
    "    best = {'pr_area':0.0, 'roc_area':0.0, 'F1':0.0, 'predictors':''}\n",
    "\n",
    "    # loop over all possible number of predictors\n",
    "    for n_predictors in range(1,len(all_predictors)+1):\n",
    "    \n",
    "        # get all combinations of predictors of lenght=n_predictors\n",
    "        combinations = itertools.combinations(all_predictors, n_predictors)\n",
    "        for c in combinations:\n",
    "            predictors = list(c)\n",
    "            X_in = X[predictors]\n",
    "            \n",
    "            # if n_predictors=1, try it\n",
    "            if(n_predictors==1): \n",
    "                # print('Trying these predictors', predictors) #We comment this printing\n",
    "                areas = summary_fit(X_in, Y, f, plot=False)\n",
    "            else:\n",
    "                intersection = list(set(best['predictors']) & set(predictors))\n",
    "                # only try the new predictors if they include the best['predictors']\n",
    "                if len(intersection)==len(best['predictors']):\n",
    "                    # print('Trying these predictors', predictors) #We comment this printing\n",
    "                    areas = summary_fit(X_in, Y, f, plot=False)\n",
    "                    \n",
    "            # update the best values if needed. The best model increases, the ROC area and the Prec-Recall area and F1.\n",
    "            if areas['pr_area']>best['pr_area'] and areas['roc_area']>best['roc_area'] and areas['F1'] > best['F1']:\n",
    "                best['pr_area'] = areas['pr_area']\n",
    "                best['roc_area'] = areas['roc_area']\n",
    "                best['F1'] = areas['F1']\n",
    "                best['predictors'] = predictors\n",
    "                # print('\\t\\t UPDATED BEST RESULTS: {}'.format(best)) #We comment this printing\n",
    "    return best"
   ]
  },
  {
   "cell_type": "code",
   "execution_count": 22,
   "metadata": {},
   "outputs": [],
   "source": [
    "data = pd.read_csv(\"Auto.csv\")\n",
    "Mpgbinary = np.repeat('Yes', len(data))"
   ]
  },
  {
   "cell_type": "code",
   "execution_count": 23,
   "metadata": {},
   "outputs": [],
   "source": [
    "ii = np.array(data['mpg']>np.median(data['mpg']))\n",
    "Mpgbinary[~ii] = 'No'\n",
    "data[\"MPG_Binary\"] = Mpgbinary\n",
    "# print(Mpgbinary)\n",
    "all_predictors=[\"cylinders\",\"displacement\",\"horsepower\",\"acceleration\",\"year\"]\n",
    "X = data[all_predictors]\n",
    "Y = data['MPG_Binary']\n",
    "metodos=[\"Logistic\",\"Discriminant\"]"
   ]
  },
  {
   "cell_type": "code",
   "execution_count": 24,
   "metadata": {},
   "outputs": [
    {
     "name": "stdout",
     "output_type": "stream",
     "text": [
      "0.01\n",
      "0.02\n",
      "0.03\n",
      "0.04\n",
      "0.05\n",
      "0.06\n",
      "0.07\n",
      "0.08\n",
      "0.09\n",
      "0.1\n",
      "0.11\n",
      "0.12\n",
      "0.13\n",
      "0.14\n",
      "0.15\n",
      "0.16\n",
      "0.17\n",
      "0.18\n",
      "0.19\n",
      "0.2\n",
      "0.21\n",
      "0.22\n",
      "0.23\n",
      "0.24\n",
      "0.25\n",
      "0.26\n",
      "0.27\n",
      "0.28\n",
      "0.29\n",
      "0.3\n",
      "0.31\n",
      "0.32\n",
      "0.33\n",
      "0.34\n",
      "0.35\n",
      "0.36\n",
      "0.37\n",
      "0.38\n",
      "0.39\n",
      "0.4\n",
      "0.41\n",
      "0.42\n",
      "0.43\n",
      "0.44\n",
      "0.45\n",
      "0.46\n",
      "0.47\n",
      "0.48\n",
      "0.49\n",
      "0.5\n",
      "0.51\n",
      "0.52\n",
      "0.53\n",
      "0.54\n",
      "0.55\n",
      "0.56\n",
      "0.57\n",
      "0.58\n",
      "0.59\n",
      "0.6\n",
      "0.61\n",
      "0.62\n",
      "0.63\n",
      "0.64\n",
      "0.65\n",
      "0.66\n",
      "0.67\n",
      "0.68\n",
      "0.69\n",
      "0.7\n",
      "0.71\n",
      "0.72\n",
      "0.73\n",
      "0.74\n",
      "0.75\n",
      "0.76\n",
      "0.77\n",
      "0.78\n",
      "0.79\n",
      "0.8\n",
      "0.81\n",
      "0.82\n",
      "0.83\n",
      "0.84\n",
      "0.85\n",
      "0.86\n",
      "0.87\n",
      "0.88\n",
      "0.89\n",
      "0.9\n",
      "0.91\n",
      "0.92\n",
      "0.93\n",
      "0.94\n",
      "0.95\n",
      "0.96\n",
      "0.97\n",
      "0.98\n",
      "0.99\n",
      "1.0\n",
      "Done Logistic\n",
      "0.01\n",
      "0.02\n",
      "0.03\n",
      "0.04\n",
      "0.05\n",
      "0.06\n",
      "0.07\n",
      "0.08\n",
      "0.09\n",
      "0.1\n",
      "0.11\n",
      "0.12\n",
      "0.13\n",
      "0.14\n",
      "0.15\n",
      "0.16\n",
      "0.17\n",
      "0.18\n",
      "0.19\n",
      "0.2\n",
      "0.21\n",
      "0.22\n",
      "0.23\n",
      "0.24\n",
      "0.25\n",
      "0.26\n",
      "0.27\n",
      "0.28\n",
      "0.29\n",
      "0.3\n",
      "0.31\n",
      "0.32\n",
      "0.33\n",
      "0.34\n",
      "0.35\n",
      "0.36\n",
      "0.37\n",
      "0.38\n",
      "0.39\n",
      "0.4\n",
      "0.41\n",
      "0.42\n",
      "0.43\n",
      "0.44\n",
      "0.45\n",
      "0.46\n",
      "0.47\n",
      "0.48\n",
      "0.49\n",
      "0.5\n",
      "0.51\n",
      "0.52\n",
      "0.53\n",
      "0.54\n",
      "0.55\n",
      "0.56\n",
      "0.57\n",
      "0.58\n",
      "0.59\n",
      "0.6\n",
      "0.61\n",
      "0.62\n",
      "0.63\n",
      "0.64\n",
      "0.65\n",
      "0.66\n",
      "0.67\n",
      "0.68\n",
      "0.69\n",
      "0.7\n",
      "0.71\n",
      "0.72\n",
      "0.73\n",
      "0.74\n",
      "0.75\n",
      "0.76\n",
      "0.77\n",
      "0.78\n",
      "0.79\n",
      "0.8\n",
      "0.81\n",
      "0.82\n",
      "0.83\n",
      "0.84\n",
      "0.85\n",
      "0.86\n",
      "0.87\n",
      "0.88\n",
      "0.89\n",
      "0.9\n",
      "0.91\n",
      "0.92\n",
      "0.93\n",
      "0.94\n",
      "0.95\n",
      "0.96\n",
      "0.97\n",
      "0.98\n",
      "0.99\n",
      "1.0\n",
      "Done Discriminant\n"
     ]
    }
   ],
   "source": [
    "for metodo in metodos:\n",
    "    N=100\n",
    "    if metodo == \"Logistic\":\n",
    "        # Find the best for Logistic Regression\n",
    "        f = sklearn.linear_model.LogisticRegression(solver='lbfgs')\n",
    "        # best = find_best_predictors(X, Y, all_predictors, f)\n",
    "        # print(best[\"predictors\"])\n",
    "        archivo = open(\"Logistic_regression.txt\",\"w\")\n",
    "        for i in range(N):\n",
    "            best = find_best_predictors(X, Y, all_predictors, f)\n",
    "            archivo.write(str(best[\"predictors\"])+\"\\n\")\n",
    "            print((i+1)/N)\n",
    "        archivo.close()\n",
    "        print(\"Done \" + metodo)\n",
    "    else:\n",
    "        # Find the best with Linear Discriminant Analysis\n",
    "        f = sklearn.discriminant_analysis.LinearDiscriminantAnalysis()\n",
    "        archivo = open(\"Linear_Discriminant.txt\",\"w\")\n",
    "        for i in range(N):\n",
    "            best = find_best_predictors(X, Y, all_predictors, f)\n",
    "            archivo.write(str(best[\"predictors\"])+\"\\n\")\n",
    "            print((i+1)/N)\n",
    "        archivo.close()\n",
    "        print(\"Done \" + metodo)"
   ]
  },
  {
   "cell_type": "code",
   "execution_count": 25,
   "metadata": {},
   "outputs": [
    {
     "name": "stdout",
     "output_type": "stream",
     "text": [
      "the revelant variables are:  [\"'cylinders'\"]\n",
      "the revelant variables are:  [\"'cylinders'\", \" 'displacement'\"]\n"
     ]
    }
   ],
   "source": [
    "def Analisis_of_data(archivo,tolerance):\n",
    "    a= open(archivo,\"r\")\n",
    "    lines= a.readlines()\n",
    "    total=[]\n",
    "    for i in lines:\n",
    "        i=i[1:-2]\n",
    "        l = i.split(\",\")\n",
    "        total += l\n",
    "    variables={}\n",
    "    for i in total:\n",
    "        if i in variables:\n",
    "            continue\n",
    "        else:\n",
    "            variables[i]=total.count(i) \n",
    "    decide = []\n",
    "    for i in variables.keys():\n",
    "        if variables[i] < tolerance*len(lines):\n",
    "            continue\n",
    "        else:\n",
    "            decide.append(i)\n",
    "    print(\"the revelant variables are: \",decide)\n",
    "prec=0.5\n",
    "Analisis_of_data(\"Logistic_regression.txt\",prec)\n",
    "Analisis_of_data(\"Linear_Discriminant.txt\",prec)"
   ]
  },
  {
   "cell_type": "code",
   "execution_count": null,
   "metadata": {},
   "outputs": [],
   "source": []
  }
 ],
 "metadata": {
  "kernelspec": {
   "display_name": "Python 3",
   "language": "python",
   "name": "python3"
  },
  "language_info": {
   "codemirror_mode": {
    "name": "ipython",
    "version": 3
   },
   "file_extension": ".py",
   "mimetype": "text/x-python",
   "name": "python",
   "nbconvert_exporter": "python",
   "pygments_lexer": "ipython3",
   "version": "3.6.6"
  }
 },
 "nbformat": 4,
 "nbformat_minor": 2
}
