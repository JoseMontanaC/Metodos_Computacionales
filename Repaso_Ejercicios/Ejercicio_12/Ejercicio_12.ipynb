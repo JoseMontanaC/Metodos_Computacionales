{
 "cells": [
  {
   "cell_type": "markdown",
   "metadata": {},
   "source": [
    "# Ejercicio 12"
   ]
  },
  {
   "cell_type": "markdown",
   "metadata": {},
   "source": [
    "Reproduzca el panel derecho la Figura 2.9 de ISLR (solamente las curvas de test y training) utilizando los datos de fitting.txt y métodos MCMC para encontrar los mejor parámetros de los modelos polinomiales de grado cero hasta diez."
   ]
  },
  {
   "cell_type": "code",
   "execution_count": 2,
   "metadata": {},
   "outputs": [],
   "source": [
    "from IPython.display import Image\n",
    "#Image(\"Imagen29.png\",width=500, height=500,align=\"center\")\n"
   ]
  },
  {
   "cell_type": "markdown",
   "metadata": {},
   "source": [
    "<img src=\"./Imagen29.png\" width=\"500\" height=\"500\" align=\"center\"/>"
   ]
  },
  {
   "cell_type": "markdown",
   "metadata": {},
   "source": [
    "Con el fin de evaluar el desempeño del metodo estadistico de aprendizaje para una serie de datos dados, es necesario medir que tan bien sus predicciones coinciden con los datos observados. De esta forma es necesario cuantificar que tan cerca está un valor de una predicción con un valor de un dato observado.\n",
    "\n",
    "Fijada una regresión, lo más común es evaluar sus distancias medias cuadradas (MSE), las cuales están dadas por:\n",
    "\n",
    "$$MSE=\\frac{1}{n}\\sum_{i=1}^{n}(y_{i}-\\hat{f}(x_i))^2 $$\n",
    "\n",
    "En donde $\\hat{f}(x_i)$ es la predicción que $\\hat{f}$ da para la i-ésima observación. El valor de MSE será pequeño si las respuestas predichas están muy cercanas a los datos observados, de lo contrario esto puede crecer de forma arbitraria.\n"
   ]
  },
  {
   "cell_type": "code",
   "execution_count": 3,
   "metadata": {},
   "outputs": [],
   "source": [
    "import numpy as np\n",
    "import matplotlib.pylab as plt\n",
    "import pandas as pd"
   ]
  },
  {
   "cell_type": "code",
   "execution_count": 4,
   "metadata": {},
   "outputs": [],
   "source": [
    "def model(x_datos,param):\n",
    "    y=x_datos.copy()\n",
    "    y[:]=0\n",
    "    for i in range(len(param)):\n",
    "        y += param[i]*x_datos**(i)\n",
    "    return y\n",
    "def logprior(param):\n",
    "    for i in range(len(param)):\n",
    "        if np.abs(param[i])<1:\n",
    "            p = 0.0\n",
    "        else:        \n",
    "            p = -np.inf\n",
    "    return p\n",
    "def loglikelihood(x_obs, y_obs, sigma_y_obs, param):\n",
    "    d = y_obs -  model(x_obs,param)\n",
    "    d = d/sigma_y_obs\n",
    "    d = -0.5 * d**2\n",
    "    norm = 2.0*np.pi*sigma_y_obs**2\n",
    "    return np.sum(d-(len(x_obs)/2.0)*np.log(norm))"
   ]
  },
  {
   "cell_type": "code",
   "execution_count": 5,
   "metadata": {},
   "outputs": [],
   "source": [
    "def Monte_carlo_Hastings(x_obs, y_obs, sigma_y_obs, N,Order):\n",
    "    l_param =[np.random.uniform(-1,1,size=Order)]\n",
    "    sigma_param = np.random.uniform(0,1,size=Order)\n",
    "    n_param = len(sigma_param)\n",
    "    logposterior = np.zeros(N)\n",
    "    for i in range(1,N):\n",
    "        propuesta  = l_param[i-1] + np.random.normal(size=n_param)*sigma_param\n",
    "        logposterior_viejo = loglikelihood(x_obs, y_obs, sigma_y_obs, l_param[i-1]) + logprior(l_param[i-1])\n",
    "        logposterior_nuevo = loglikelihood(x_obs, y_obs,sigma_y_obs, propuesta) + logprior(propuesta)\n",
    "\n",
    "        r = min(1,np.exp(logposterior_nuevo-logposterior_viejo))\n",
    "        alpha = np.random.random()\n",
    "        if(alpha<r):\n",
    "            l_param.append(propuesta)\n",
    "            logposterior[i]= logposterior_nuevo\n",
    "        else:\n",
    "            l_param.append(l_param[i-1])\n",
    "            logposterior[i] = logposterior_viejo\n",
    "    l_param=np.array(l_param)\n",
    "    l_param = l_param[N//10:,:]\n",
    "    return l_param"
   ]
  },
  {
   "cell_type": "code",
   "execution_count": 6,
   "metadata": {},
   "outputs": [],
   "source": [
    "data = pd.read_csv(\"fitting.txt\",sep=\" \")\n",
    "X=np.array(data[\"x\"])\n",
    "Y=np.array(data[\"y\"])\n",
    "sigma=np.array(data[\"sigma_y\"])"
   ]
  },
  {
   "cell_type": "code",
   "execution_count": 7,
   "metadata": {},
   "outputs": [],
   "source": [
    "N=50000\n",
    "x_obs = X\n",
    "y_obs = Y\n",
    "sigma_y = sigma\n",
    "Orden_max = 10\n",
    "escogencia = np.random.choice(len(x_obs),replace=False, size = len(data))\n",
    "# se escoje aleatoriamente los indices de los datos"
   ]
  },
  {
   "cell_type": "code",
   "execution_count": 26,
   "metadata": {},
   "outputs": [],
   "source": [
    "X_train=[]\n",
    "Y_train=[]\n",
    "sigma_train=[]\n",
    "for i in escogencia[:int(len(data)/2)]: # se toman los primero diez\n",
    "    X_train.append(x_obs[i])\n",
    "    Y_train.append(y_obs[i])\n",
    "    sigma_train.append(sigma_y[i])\n",
    "\n",
    "X_train=np.array(X_train)\n",
    "Y_train=np.array(Y_train)\n",
    "sigma_train=np.array(sigma_train)"
   ]
  },
  {
   "cell_type": "code",
   "execution_count": 27,
   "metadata": {},
   "outputs": [
    {
     "name": "stderr",
     "output_type": "stream",
     "text": [
      "/srv/conda/lib/python3.6/site-packages/ipykernel_launcher.py:11: RuntimeWarning: overflow encountered in exp\n",
      "  # This is added back by InteractiveShellApp.init_path()\n"
     ]
    }
   ],
   "source": [
    "param = [np.zeros(Orden_max)] # esto se usa para que todos los arreglos queden del mismo tamaño\n",
    "for i in range(Orden_max):\n",
    "    param.append(Monte_carlo_Hastings(X_train, Y_train, sigma_train, N,i+1))"
   ]
  },
  {
   "cell_type": "code",
   "execution_count": 28,
   "metadata": {},
   "outputs": [],
   "source": [
    "param.pop(0) # se elimina el primer elemento\n",
    "Parametros=np.zeros((Orden_max,Orden_max))"
   ]
  },
  {
   "cell_type": "code",
   "execution_count": 29,
   "metadata": {},
   "outputs": [],
   "source": [
    "for i in range(Orden_max):\n",
    "    new_param=np.array(param[i])\n",
    "    for j in range(len(new_param[i])):\n",
    "       Parametros[i,j]=new_param[i,j]"
   ]
  },
  {
   "cell_type": "code",
   "execution_count": 30,
   "metadata": {},
   "outputs": [],
   "source": [
    "# se calcula el error para el conunto de datos de entrenamiento     \n",
    "R_sq_1=np.zeros(Orden_max)\n",
    "for i in range(Orden_max):\n",
    "    Y_teorico =model(X_train,Parametros[i])\n",
    "    R2 =np.sum((Y_train-Y_teorico)**2/sigma_train**2)\n",
    "    R2 = R2/10\n",
    "    R_sq_1[i]=R2"
   ]
  },
  {
   "cell_type": "code",
   "execution_count": 41,
   "metadata": {},
   "outputs": [],
   "source": [
    "def MSE(Y_pred,Y_datos,sigma):\n",
    "    mse=np.sum((Y_pred-Y_datos)**2/sigma**2)\n",
    "    mse=mse/len(Y_pred)\n",
    "    return mse\n",
    "    "
   ]
  },
  {
   "cell_type": "code",
   "execution_count": 42,
   "metadata": {},
   "outputs": [],
   "source": [
    "R_sq_1=np.zeros(Orden_max)\n",
    "for i in range(Orden_max):\n",
    "    Y_teorico =model(X_train,Parametros[i])\n",
    "    R_sq_1[i]=MSE(Y_teorico,Y_train,sigma_train)\n"
   ]
  },
  {
   "cell_type": "code",
   "execution_count": null,
   "metadata": {},
   "outputs": [],
   "source": []
  },
  {
   "cell_type": "code",
   "execution_count": 43,
   "metadata": {},
   "outputs": [],
   "source": [
    "Xobs=[]\n",
    "Yobs=[]\n",
    "sigmaobs=[]\n",
    "for i in escogencia[10:]:\n",
    "    Xobs.append(x_obs[i])\n",
    "    Yobs.append(y_obs[i])\n",
    "    sigmaobs.append(sigma_y[i])\n",
    "Xobs=np.array(Xobs)\n",
    "Yobs=np.array(Yobs)\n",
    "sigmaobs=np.array(sigmaobs)"
   ]
  },
  {
   "cell_type": "code",
   "execution_count": 44,
   "metadata": {},
   "outputs": [],
   "source": [
    "\n",
    "# se calcula ahora el error para el nuevo conjunto de datos\n",
    "R_sq_2=np.zeros(Orden_max)\n",
    "for i in range(Orden_max):\n",
    "    Y_teorico =model(Xobs,Parametros[i])\n",
    "    R2 =np.sum((Yobs-Y_teorico)**2/sigmaobs**2)\n",
    "    R2 = R2/10\n",
    "    R_sq_2[i]=R2\n"
   ]
  },
  {
   "cell_type": "code",
   "execution_count": 46,
   "metadata": {},
   "outputs": [],
   "source": [
    "R_sq_2=np.zeros(Orden_max)\n",
    "for i in range(Orden_max):\n",
    "    Y_teorico =model(Xobs,Parametros[i])\n",
    "    R_sq_2[i]=MSE(Y_teorico,Yobs,sigmaobs)"
   ]
  },
  {
   "cell_type": "code",
   "execution_count": 47,
   "metadata": {},
   "outputs": [
    {
     "data": {
      "image/png": "[encoded data removed]",
      "text/plain": [
       "<Figure size 432x288 with 1 Axes>"
      ]
     },
     "metadata": {
      "needs_background": "light"
     },
     "output_type": "display_data"
    }
   ],
   "source": [
    "Grados=np.arange(0,Orden_max)\n",
    "plt.scatter(Grados,R_sq_1)\n",
    "plt.scatter(Grados,R_sq_2)\n",
    "plt.plot(Grados,R_sq_1,label=\"Train\")\n",
    "plt.plot(Grados,R_sq_2,label=\"Test\")\n",
    "plt.savefig(\"R2_grados.pdf\")\n",
    "plt.legend()\n",
    "plt.show()"
   ]
  },
  {
   "cell_type": "code",
   "execution_count": null,
   "metadata": {},
   "outputs": [],
   "source": []
  }
 ],
 "metadata": {
  "kernelspec": {
   "display_name": "Python 3",
   "language": "python",
   "name": "python3"
  },
  "language_info": {
   "codemirror_mode": {
    "name": "ipython",
    "version": 3
   },
   "file_extension": ".py",
   "mimetype": "text/x-python",
   "name": "python",
   "nbconvert_exporter": "python",
   "pygments_lexer": "ipython3",
   "version": "3.6.6"
  }
 },
 "nbformat": 4,
 "nbformat_minor": 2
}
