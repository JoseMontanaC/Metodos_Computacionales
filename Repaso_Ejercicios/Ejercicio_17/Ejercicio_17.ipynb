{
 "cells": [
  {
   "cell_type": "markdown",
   "metadata": {},
   "source": [
    "# Ejercicio 17\n",
    "\n",
    "Usando los siguientes datos:\n",
    "\n",
    "https://vincentarelbundock.github.io/Rdatasets/doc/ISLR/Default.html\n",
    "\n",
    "https://vincentarelbundock.github.io/Rdatasets/csv/ISLR/Default.csv\n",
    "\n",
    "Reproduzca las siguientes Figuras del texto guia:\n",
    "\n",
    "Figura 4.1.\n",
    "Panel derecho Figura 4.2.\n",
    "Figura 4.3.\n",
    "Haga los ajustes usando scikit-learn http://scikit-learn.org/stable/modules/generated/sklearn.linear_model.LogisticRegression.html\n",
    "\n",
    "(segunda parte)\n",
    "\n",
    "Divida los datos anteriores en training y test. Calcule la matriz de confusión para esos dos conjuntos de datos. Diría que estos resultados son buenos para predecir Default?\n",
    "\n",
    "Usando los siguientes datos: https://vincentarelbundock.github.io/Rdatasets/doc/ISLR/Smarket.html https://vincentarelbundock.github.io/Rdatasets/csv/ISLR/Smarket.csv\n",
    "\n",
    "Dividida también los datos en training y test, en training van todos los datos hasta el año 2004, en test van los demás. Use la regresión logística para predecir Direction en función de las demás variables. Calcule la matriz de confusión para esos dos conjuntos de datos. Diría que estos resultados son buenos para predecir Direction?"
   ]
  },
  {
   "cell_type": "code",
   "execution_count": 1,
   "metadata": {},
   "outputs": [],
   "source": [
    "import numpy as np\n",
    "import pandas as pd\n",
    "import matplotlib.pylab as plt\n",
    "from sklearn.linear_model import LogisticRegression\n",
    "import sklearn.linear_model"
   ]
  },
  {
   "cell_type": "code",
   "execution_count": 2,
   "metadata": {},
   "outputs": [],
   "source": [
    "datos=pd.read_csv(\"Default.csv\")\n",
    "def matriz_confusion_1(prediccion,Y):\n",
    "    v_p=0\n",
    "    v_n=0\n",
    "    f_p=0\n",
    "    f_n=0\n",
    "    for i in range(len(prediccion)):\n",
    "        if prediccion[i]==\"Yes\" and Y[i]==\"Yes\":\n",
    "            v_p +=1\n",
    "        if prediccion[i]==\"Yes\" and Y[i]==\"No\":\n",
    "            f_p +=1\n",
    "        if prediccion[i]==\"No\" and Y[i]==\"Yes\":\n",
    "            f_n +=1\n",
    "        if prediccion[i]==\"No\" and Y[i]==\"No\":\n",
    "            v_n +=1\n",
    "    return np.array([[v_p,f_p],[f_n,v_n]])\n",
    "def matriz_confusion_2(prediccion,Y):\n",
    "    v_p=0\n",
    "    v_n=0\n",
    "    f_p=0\n",
    "    f_n=0\n",
    "    for i in range(len(prediccion)):\n",
    "        if prediccion[i]==\"Up\" and Y[i]==\"Up\":\n",
    "            v_p +=1\n",
    "        if prediccion[i]==\"Up\" and Y[i]==\"Down\":\n",
    "            f_p +=1\n",
    "        if prediccion[i]==\"Down\" and Y[i]==\"Up\":\n",
    "            f_n +=1\n",
    "        if prediccion[i]==\"Down\" and Y[i]==\"Down\":\n",
    "            v_n +=1\n",
    "    return np.array([[v_p,f_p],[f_n,v_n]])"
   ]
  },
  {
   "cell_type": "code",
   "execution_count": 4,
   "metadata": {},
   "outputs": [],
   "source": [
    "X, Y =np.array( datos[\"balance\"].values.reshape(-1,1)),np.array(datos[\"default\"])\n",
    "X_train, X_validation, Y_train, Y_validation = sklearn.model_selection.train_test_split(X, Y, test_size=0.5)"
   ]
  },
  {
   "cell_type": "code",
   "execution_count": 5,
   "metadata": {},
   "outputs": [
    {
     "name": "stdout",
     "output_type": "stream",
     "text": [
      "[[  49   28]\n",
      " [ 124 4799]]\n"
     ]
    }
   ],
   "source": [
    "clf = LogisticRegression(random_state=0, solver='lbfgs').fit(X_train,Y_train)\n",
    "prob=clf.predict(X_train)\n",
    "print(matriz_confusion_1(prob,Y_train))"
   ]
  },
  {
   "cell_type": "code",
   "execution_count": 6,
   "metadata": {},
   "outputs": [
    {
     "name": "stdout",
     "output_type": "stream",
     "text": [
      "[[  50   11]\n",
      " [ 110 4829]]\n"
     ]
    }
   ],
   "source": [
    "prob=clf.predict(X_validation)\n",
    "print(matriz_confusion_1(prob,Y_validation))"
   ]
  },
  {
   "cell_type": "markdown",
   "metadata": {},
   "source": [
    "Como los elementos de la diagonal son más grandes que los de fuera de la digonal, podemos decir que tanto para \"test\" como para \"validation\" se tiene que si es un buen modelo para predecir \"Default\" en función de \"Balance\" "
   ]
  },
  {
   "cell_type": "markdown",
   "metadata": {},
   "source": [
    "# Segunda Parte"
   ]
  },
  {
   "cell_type": "code",
   "execution_count": 7,
   "metadata": {},
   "outputs": [],
   "source": [
    "datos_2=pd.read_csv(\"Smarket.csv\")"
   ]
  },
  {
   "cell_type": "code",
   "execution_count": 8,
   "metadata": {},
   "outputs": [],
   "source": [
    "X=np.array(datos_2[[\"Lag1\",\"Lag2\",\"Lag3\",\"Lag4\",\"Lag5\",\"Volume\"]])\n",
    "Y=np.array(datos_2[\"Direction\"])\n",
    "a=np.array(datos_2[\"Year\"]<=2004)"
   ]
  },
  {
   "cell_type": "code",
   "execution_count": 9,
   "metadata": {},
   "outputs": [
    {
     "name": "stdout",
     "output_type": "stream",
     "text": [
      "[[349 316]\n",
      " [158 175]]\n"
     ]
    }
   ],
   "source": [
    "X_train,X_test,Y_train,Y_test=X[a],X[~a],Y[a],Y[~a]\n",
    "clf_2 = LogisticRegression(random_state=0, solver='lbfgs').fit(X_train,Y_train)\n",
    "prob_2=clf_2.predict(X_train)\n",
    "print(matriz_confusion_2(prob_2,Y_train))"
   ]
  },
  {
   "cell_type": "code",
   "execution_count": 10,
   "metadata": {},
   "outputs": [
    {
     "name": "stdout",
     "output_type": "stream",
     "text": [
      "[[48 37]\n",
      " [93 74]]\n"
     ]
    }
   ],
   "source": [
    "prob_2=clf_2.predict(X_test)\n",
    "print(matriz_confusion_2(prob_2,Y_test))"
   ]
  },
  {
   "cell_type": "markdown",
   "metadata": {},
   "source": [
    "Como los terminos fuera de la diagonal son más grandes que los que están en la diagonal, se concluye que no es un buen modelo."
   ]
  },
  {
   "cell_type": "code",
   "execution_count": 12,
   "metadata": {},
   "outputs": [
    {
     "data": {
      "image/png": "[encoded data removed]",
      "text/plain": [
       "<Figure size 432x288 with 1 Axes>"
      ]
     },
     "metadata": {
      "needs_background": "light"
     },
     "output_type": "display_data"
    }
   ],
   "source": [
    "a =np.array(datos[\"default\"]==\"Yes\")\n",
    "Balance_y,Income_y= np.array(datos[\"balance\"]),np.array(datos[\"income\"])\n",
    "Balance_y,Income_y=Balance_y[a],Income_y[a]\n",
    "a =np.array(datos[\"default\"]==\"No\")\n",
    "Balance_n,Income_n= np.array(datos[\"balance\"]),np.array(datos[\"income\"])\n",
    "Balance_n,Income_n=Balance_n[a],Income_n[a]\n",
    "# plt.plot(Balance_n,Income_n,marker=\"x\",color=\"orangered\")\n",
    "# plt.plot(Balance_y,Income_y,marker=\"+\",color=\"navy\")\n",
    "plt.plot(Balance_y,Income_y,\"xb\")\n",
    "plt.plot(Balance_n,Income_n,\"+r\")\n",
    "plt.show()"
   ]
  },
  {
   "cell_type": "code",
   "execution_count": 13,
   "metadata": {},
   "outputs": [
    {
     "data": {
      "image/png": "[encoded data removed]",
      "text/plain": [
       "<Figure size 432x288 with 1 Axes>"
      ]
     },
     "metadata": {
      "needs_background": "light"
     },
     "output_type": "display_data"
    },
    {
     "data": {
      "image/png": "[encoded data removed]",
      "text/plain": [
       "<Figure size 432x288 with 1 Axes>"
      ]
     },
     "metadata": {
      "needs_background": "light"
     },
     "output_type": "display_data"
    }
   ],
   "source": [
    "datos.boxplot(column='balance', by=\"default\")\n",
    "plt.show()\n",
    "datos.boxplot(column='income', by=\"default\")\n",
    "plt.show()"
   ]
  },
  {
   "cell_type": "code",
   "execution_count": 14,
   "metadata": {},
   "outputs": [],
   "source": [
    "X, Y =np.array( datos[\"balance\"].values.reshape(-1,1)),np.array(datos[\"default\"])\n",
    "clf = LogisticRegression(random_state=0, solver='lbfgs').fit(X,Y)\n",
    "prob=clf.predict_proba(X)"
   ]
  },
  {
   "cell_type": "code",
   "execution_count": 17,
   "metadata": {},
   "outputs": [
    {
     "data": {
      "image/png": "[encoded data removed]",
      "text/plain": [
       "<Figure size 432x288 with 1 Axes>"
      ]
     },
     "metadata": {
      "needs_background": "light"
     },
     "output_type": "display_data"
    }
   ],
   "source": [
    "plt.scatter(datos[\"balance\"],prob[:,1])\n",
    "plt.show()"
   ]
  },
  {
   "cell_type": "code",
   "execution_count": null,
   "metadata": {},
   "outputs": [],
   "source": []
  },
  {
   "cell_type": "code",
   "execution_count": null,
   "metadata": {},
   "outputs": [],
   "source": []
  }
 ],
 "metadata": {
  "kernelspec": {
   "display_name": "Python 3",
   "language": "python",
   "name": "python3"
  },
  "language_info": {
   "codemirror_mode": {
    "name": "ipython",
    "version": 3
   },
   "file_extension": ".py",
   "mimetype": "text/x-python",
   "name": "python",
   "nbconvert_exporter": "python",
   "pygments_lexer": "ipython3",
   "version": "3.6.6"
  }
 },
 "nbformat": 4,
 "nbformat_minor": 2
}
