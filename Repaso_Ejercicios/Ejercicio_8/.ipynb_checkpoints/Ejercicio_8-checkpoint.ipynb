{
 "cells": [
  {
   "cell_type": "markdown",
   "metadata": {},
   "source": [
    "# Ejercicio 8\n",
    "\n",
    "A través de fotos aéreas se tienen medidas del alcance de un lanzador de proyectiles. Se tienen cinco valores (en metros): 880, 795, 782, 976, 178. Todas las mediciones tienen una incertidumbre de 5 metros. Los valores diferentes del alcance se deben a diferentes ángulos de lanzamiento, la velocidad inicial es aproximadamente la misma. Utilice el teorema de Bayes y el método de Metropolis-Hastings para encontrar la distribución de probabilidad de la velocidad inicial dados los datos observacionales. La respuesta debe estar implementada dentro de un archivo .py. El código debe producir una única gráfica de la distribución de probabilidad pedidad donde en el título se anotan la velocidad que maximiza la probabilidad, el valor medio y la desviación estándar."
   ]
  },
  {
   "cell_type": "markdown",
   "metadata": {},
   "source": [
    "[Pista](https://github.com/ComputoCienciasUniandes/MetodosComputacionales/blob/master/ejercicios/2018-10/ej26-1.md)"
   ]
  },
  {
   "cell_type": "markdown",
   "metadata": {},
   "source": [
    "# solucion presentada en el curso\n",
    "\n",
    "Esta solucion presentaba un problema pues se consideraba el angulo aleatorio y al ser un alcance máximo se debe dar a $45^{\\circ}$ entonces se debe fijar el angulo a $45^{\\circ}$"
   ]
  },
  {
   "cell_type": "code",
   "execution_count": 10,
   "metadata": {},
   "outputs": [],
   "source": [
    "import numpy as np\n",
    "import matplotlib.pyplot as plt"
   ]
  },
  {
   "cell_type": "code",
   "execution_count": 11,
   "metadata": {},
   "outputs": [],
   "source": [
    "def model(v, theta):\n",
    "    g = 9.8\n",
    "    return v**2 * np.sin(2*theta)/g\n",
    "\n",
    "def loglikelihood(x_obs, sigmas, v, theta):\n",
    "    d = x_obs -  model(v,theta)\n",
    "    d = d/sigmas\n",
    "    d = -0.5 * np.sum(d**2)\n",
    "    return d\n",
    "\n",
    "def logprior(v, theta):\n",
    "    p = -np.inf\n",
    "    if v < 100 and v >90 and theta >0 and theta<np.pi/2.0:\n",
    "        p = 0.0\n",
    "    return p"
   ]
  },
  {
   "cell_type": "code",
   "execution_count": 12,
   "metadata": {},
   "outputs": [],
   "source": [
    "N = 100000\n",
    "d_obs = np.array([880, 795, 782, 976, 178])\n",
    "sigma_d = 5.0\n",
    "lista_v = [np.random.uniform(90.0,100.0)]\n",
    "lista_theta = [np.random.uniform(0, np.pi/2.0)]\n",
    "logposterior = [loglikelihood(d_obs, sigma_d, lista_v[0], lista_theta[0]) + logprior(lista_v[0], lista_theta[0])]\n",
    "\n",
    "sigma_delta_v = 1.0\n",
    "sigma_delta_theta = 0.2\n",
    "\n",
    "for i in range(1,N):\n",
    "    propuesta_v  = lista_v[i-1] + np.random.normal(loc=0.0, scale=sigma_delta_v)\n",
    "    propuesta_theta  = lista_theta[i-1] + np.random.normal(loc=0.0, scale=sigma_delta_theta)\n",
    "\n",
    "    logposterior_viejo = loglikelihood(d_obs, sigma_d, lista_v[i-1], lista_theta[i-1]) + logprior(lista_v[i-1], lista_theta[i-1])\n",
    "    logposterior_nuevo = loglikelihood(d_obs, sigma_d, propuesta_v, propuesta_theta) + logprior(propuesta_v, propuesta_theta)\n",
    "\n",
    "    r = min(1,np.exp(logposterior_nuevo-logposterior_viejo))\n",
    "    alpha = np.random.random()\n",
    "    if(alpha<r):\n",
    "        lista_v.append(propuesta_v)\n",
    "        lista_theta.append(propuesta_theta)\n",
    "        logposterior.append(logposterior_nuevo)\n",
    "    else:\n",
    "        lista_v.append(lista_v[i-1])\n",
    "        lista_theta.append(lista_theta[i-1])\n",
    "        logposterior.append(logposterior_viejo)\n"
   ]
  },
  {
   "cell_type": "code",
   "execution_count": 13,
   "metadata": {},
   "outputs": [],
   "source": [
    "lista_v = np.array(lista_v)\n",
    "lista_theta = np.array(lista_theta)\n",
    "logposterior = np.array(logposterior)\n",
    "maximo=np.max(lista_v)\n",
    "val_esp= np.mean(lista_v)\n",
    "val_esp2= np.mean(lista_v*lista_v)"
   ]
  },
  {
   "cell_type": "code",
   "execution_count": 14,
   "metadata": {},
   "outputs": [
    {
     "data": {
      "image/png": "[encoded data removed]",
      "text/plain": [
       "<Figure size 432x288 with 1 Axes>"
      ]
     },
     "metadata": {
      "needs_background": "light"
     },
     "output_type": "display_data"
    },
    {
     "data": {
      "image/png": "[encoded data removed]",
      "text/plain": [
       "<Figure size 432x288 with 1 Axes>"
      ]
     },
     "metadata": {
      "needs_background": "light"
     },
     "output_type": "display_data"
    }
   ],
   "source": [
    "std= val_esp2-val_esp\n",
    "_=plt.hist(lista_v, bins=40,density=True,)\n",
    "plt.xlabel(\"v0\")\n",
    "plt.ylabel(\"density\")\n",
    "plt.title(\"Max= \"+ str(maximo)+\" mean= \"+ str(val_esp)+\" std= \"+ str(std) )\n",
    "plt.show()\n",
    "\n",
    "_=plt.hist(lista_theta, bins=40,density=True)\n",
    "plt.show()"
   ]
  },
  {
   "cell_type": "markdown",
   "metadata": {},
   "source": [
    "# Corrección al ejercicio\n",
    "Una de las diferencias es:\n",
    "* Se fija el elemento inicial de la velocidad $v=10$ y $\\theta = 45^{\\circ}$\n",
    "* se pone el prior de la velocidad en $0<v<1000$, $0<\\theta<\\pi/2$"
   ]
  },
  {
   "cell_type": "code",
   "execution_count": 23,
   "metadata": {},
   "outputs": [],
   "source": [
    "def loglikelihood(x_obs, sigmas, v, theta):\n",
    "    d = x_obs -  model(v,theta)\n",
    "    d = d/sigmas\n",
    "    d = -0.5 * np.sum(d**2)\n",
    "    return d\n",
    "\n",
    "def logprior(v, theta):\n",
    "    # p = -np.inf\n",
    "    if v < 1000 and v >0 and theta >0 and theta<np.pi/2.0:\n",
    "        p = 0.0\n",
    "    else:\n",
    "        p=-np.inf\n",
    "    return p\n"
   ]
  },
  {
   "cell_type": "code",
   "execution_count": 24,
   "metadata": {},
   "outputs": [
    {
     "name": "stderr",
     "output_type": "stream",
     "text": [
      "/srv/conda/lib/python3.6/site-packages/ipykernel_launcher.py:11: RuntimeWarning: overflow encountered in exp\n",
      "  # This is added back by InteractiveShellApp.init_path()\n"
     ]
    }
   ],
   "source": [
    "N = 100000\n",
    "d_obs = np.array([880.0, 795.0, 782.0, 976.0, 178.0])\n",
    "sigma_d = 5.0*np.ones(len(d_obs))\n",
    "\n",
    "lista_v = [10.0]\n",
    "lista_theta = [np.pi/4.]\n",
    "sigma_delta_v = 1.0\n",
    "sigma_delta_theta = 0.1\n",
    "\n",
    "for i in range(1,N):\n",
    "    propuesta_v  = lista_v[i-1] + np.random.normal(loc=0.0, scale=sigma_delta_v)\n",
    "    propuesta_theta  = lista_theta[i-1] + np.random.normal(loc=0.0, scale=sigma_delta_theta)\n",
    "\n",
    "    logposterior_viejo = loglikelihood(d_obs, sigma_d, lista_v[i-1], lista_theta[i-1]) + logprior(lista_v[i-1], lista_theta[i-1])\n",
    "    logposterior_nuevo = loglikelihood(d_obs, sigma_d, propuesta_v, propuesta_theta) + logprior(propuesta_v, propuesta_theta)\n",
    "\n",
    "    r = min(1,np.exp(logposterior_nuevo-logposterior_viejo))\n",
    "    alpha = np.random.random()\n",
    "    if(alpha<r):\n",
    "        lista_v.append(propuesta_v)\n",
    "        lista_theta.append(propuesta_theta)\n",
    "        # logposterior.append(logposterior_nuevo)\n",
    "    else:\n",
    "        lista_v.append(lista_v[i-1])\n",
    "        lista_theta.append(lista_theta[i-1])\n",
    "        # logposterior.append(logposterior_viejo)\n",
    "\n",
    "lista_v = np.array(lista_v)\n",
    "lista_theta = np.array(lista_theta)\n",
    "# logposterior = np.array(logposterior)\n",
    "\n",
    "lista_v = lista_v[N//10:]\n",
    "lista_theta = lista_theta[N//10:]\n",
    "v_medio=np.mean(lista_v)\n",
    "v_sigma=np.std(lista_v)\n",
    "theta_medio=np.mean(lista_theta)\n",
    "theta_sigma=np.std(lista_theta)"
   ]
  },
  {
   "cell_type": "code",
   "execution_count": 25,
   "metadata": {},
   "outputs": [
    {
     "data": {
      "image/png": "[encoded data removed]",
      "text/plain": [
       "<Figure size 432x288 with 1 Axes>"
      ]
     },
     "metadata": {
      "needs_background": "light"
     },
     "output_type": "display_data"
    }
   ],
   "source": [
    "_=plt.hist(lista_v, bins=40,density=True,)\n",
    "plt.xlabel(\"v0\")\n",
    "plt.ylabel(\"density\")\n",
    "plt.title(\"Max= \"+ str(maximo)+\" mean= \"+ str(val_esp)+\" std= \"+ str(std) )\n",
    "plt.show()"
   ]
  },
  {
   "cell_type": "code",
   "execution_count": 27,
   "metadata": {},
   "outputs": [
    {
     "data": {
      "text/plain": [
       "Text(0, 0.5, '$v_0$ (m/s)')"
      ]
     },
     "execution_count": 27,
     "metadata": {},
     "output_type": "execute_result"
    },
    {
     "data": {
      "image/png": "[encoded data removed]",
      "text/plain": [
       "<Figure size 432x288 with 1 Axes>"
      ]
     },
     "metadata": {
      "needs_background": "light"
     },
     "output_type": "display_data"
    }
   ],
   "source": [
    "plt.scatter(lista_theta,lista_v, s=1.0, alpha=0.1)\n",
    "plt.xlabel(r'$\\theta$ (radianes)')\n",
    "plt.ylabel(r'$v_0$ (m/s)')"
   ]
  },
  {
   "cell_type": "markdown",
   "metadata": {},
   "source": [
    "# Otra forma de solucionarlo"
   ]
  },
  {
   "cell_type": "code",
   "execution_count": 28,
   "metadata": {},
   "outputs": [],
   "source": [
    "def alcance(v, theta):\n",
    "    g = 9.8\n",
    "    return v**2 * np.sin(2*theta)/g"
   ]
  },
  {
   "cell_type": "code",
   "execution_count": null,
   "metadata": {},
   "outputs": [],
   "source": [
    "n_puntos = 10000000\n",
    "d_obs = np.array([880.0, 795.0, 782.0, 976.0, 178.0])\n",
    "sigma_d = 5.0\n",
    "\n",
    "v_prior = np.random.uniform(0,1000.0, n_puntos)\n",
    "theta_prior = np.random.uniform(0, np.pi/2.0, n_puntos)\n",
    "\n",
    "prior = {}\n",
    "prior[0] = v_prior\n",
    "\n",
    "for i in range(len(d_obs)):\n",
    "    d = alcance(v_prior, theta_prior)    \n",
    "    ii = (d > d_obs[i]-sigma_d) & (d < d_obs[i]+sigma_d)\n",
    "    v_posterior = v_prior[ii]\n",
    "    v_prior = np.random.choice(v_posterior,n_puntos)\n",
    "    theta_prior = np.random.uniform(0, np.pi/2.0, n_puntos)\n",
    "    prior[i+1] = v_prior\n",
    "\n",
    "\n",
    "plt.figure()\n",
    "plt.rc('text', usetex=True)\n",
    "\n",
    "for i in range(len(d_obs)+1):\n",
    "    hist, edges = np.histogram(prior[i], bins=np.arange(35,45,0.2), density=True)\n",
    "    plt.plot(edges[:-1], hist, label='cantidad de datos = {}'.format(i))\n",
    "\n",
    "plt.xlabel(r\"$v_0$ (km/s)\")\n",
    "plt.ylabel(\"Densidad de Probabilidad\")\n",
    "plt.grid()\n",
    "plt.legend()"
   ]
  },
  {
   "cell_type": "code",
   "execution_count": null,
   "metadata": {},
   "outputs": [],
   "source": []
  }
 ],
 "metadata": {
  "kernelspec": {
   "display_name": "Python 3",
   "language": "python",
   "name": "python3"
  },
  "language_info": {
   "codemirror_mode": {
    "name": "ipython",
    "version": 3
   },
   "file_extension": ".py",
   "mimetype": "text/x-python",
   "name": "python",
   "nbconvert_exporter": "python",
   "pygments_lexer": "ipython3",
   "version": "3.6.6"
  }
 },
 "nbformat": 4,
 "nbformat_minor": 2
}
