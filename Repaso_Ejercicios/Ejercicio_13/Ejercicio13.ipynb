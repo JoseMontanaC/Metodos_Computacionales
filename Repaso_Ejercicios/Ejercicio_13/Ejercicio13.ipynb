{
 "cells": [
  {
   "cell_type": "markdown",
   "metadata": {},
   "source": [
    "# Ejercicio 13"
   ]
  },
  {
   "cell_type": "code",
   "execution_count": 1,
   "metadata": {},
   "outputs": [],
   "source": [
    "import numpy as np\n",
    "import matplotlib.pyplot as plt\n",
    "import pandas as pd\n",
    "%matplotlib inline"
   ]
  },
  {
   "cell_type": "markdown",
   "metadata": {},
   "source": [
    "# Modelos Lineales\n",
    "\n",
    "Los modelos lineales tienen grandes ventajas: son fáciles de implementar e interpretar.\n",
    "Esto los convierte en una base conceptual importante que es necesario revisar antes de pasar a métodos \n",
    "más complejos.\n",
    "\n",
    "En un modelo lineal la respuesta, o target, $Y$ se modela como una combinación lineal de variables $X_1, \\ldots, X_p$:\n",
    "\n",
    "$$\n",
    "Y = \\beta_0 + \\beta_1 X_1 + \\ldots + \\beta_p X_p\n",
    "$$\n",
    "\n",
    "En este notebook vamos a utilizar `scikit-learn` para ajustar diferentes modelos lineales a un conjunto de datos.\n",
    "\n",
    "\n",
    "Primero importamos el submódulo necesario"
   ]
  },
  {
   "cell_type": "code",
   "execution_count": 3,
   "metadata": {},
   "outputs": [],
   "source": [
    "import sklearn.linear_model"
   ]
  },
  {
   "cell_type": "markdown",
   "metadata": {},
   "source": [
    "sklearn.linear_model tiene una gran variedad de objetos que implementan diferentes tipos de modelos lineales.\n",
    "La lista completa se pueden encontrar en http://scikit-learn.org/stable/modules/classes.html#module-sklearn.linear_model\n",
    "\n",
    "En este notebook vamos a empezar con el modelo más sencillo de todos: la regresión lineal por mínimos cuadrados."
   ]
  },
  {
   "cell_type": "markdown",
   "metadata": {},
   "source": [
    "## Precios de Carros en Estados Unidos en 1993\n",
    "\n",
    "Para hacer la discusión más concreta vamos a cargar datos sobre precios y características de carros en Estados Unidos \n",
    "en el año 1993. Los datos que se encuentran en este repositorio son una copia tomada de https://vincentarelbundock.github.io/Rdatasets/doc/MASS/Cars93.html\n",
    "\n",
    "En esa página se encuentra la descripción de cada una de las variables.\n",
    "Por ahora vamos a cargar el archivo usando pandas"
   ]
  },
  {
   "cell_type": "code",
   "execution_count": 6,
   "metadata": {},
   "outputs": [],
   "source": [
    "data = pd.read_csv('Cars93.csv')"
   ]
  },
  {
   "cell_type": "markdown",
   "metadata": {},
   "source": [
    "El número total de entradas es"
   ]
  },
  {
   "cell_type": "code",
   "execution_count": 7,
   "metadata": {},
   "outputs": [
    {
     "data": {
      "text/plain": [
       "93"
      ]
     },
     "execution_count": 7,
     "metadata": {},
     "output_type": "execute_result"
    }
   ],
   "source": [
    "len(data)"
   ]
  },
  {
   "cell_type": "markdown",
   "metadata": {},
   "source": [
    "El número de columnas es"
   ]
  },
  {
   "cell_type": "code",
   "execution_count": 8,
   "metadata": {},
   "outputs": [
    {
     "data": {
      "text/plain": [
       "28"
      ]
     },
     "execution_count": 8,
     "metadata": {},
     "output_type": "execute_result"
    }
   ],
   "source": [
    "len(data.keys())"
   ]
  },
  {
   "cell_type": "markdown",
   "metadata": {},
   "source": [
    "Los nombres de las columnas son"
   ]
  },
  {
   "cell_type": "code",
   "execution_count": 9,
   "metadata": {},
   "outputs": [
    {
     "data": {
      "text/plain": [
       "Index(['Unnamed: 0', 'Manufacturer', 'Model', 'Type', 'Min.Price', 'Price',\n",
       "       'Max.Price', 'MPG.city', 'MPG.highway', 'AirBags', 'DriveTrain',\n",
       "       'Cylinders', 'EngineSize', 'Horsepower', 'RPM', 'Rev.per.mile',\n",
       "       'Man.trans.avail', 'Fuel.tank.capacity', 'Passengers', 'Length',\n",
       "       'Wheelbase', 'Width', 'Turn.circle', 'Rear.seat.room', 'Luggage.room',\n",
       "       'Weight', 'Origin', 'Make'],\n",
       "      dtype='object')"
      ]
     },
     "execution_count": 9,
     "metadata": {},
     "output_type": "execute_result"
    }
   ],
   "source": [
    "data.keys()"
   ]
  },
  {
   "cell_type": "markdown",
   "metadata": {},
   "source": [
    "Una visión rápida de los primeros 10 elementos"
   ]
  },
  {
   "cell_type": "code",
   "execution_count": 10,
   "metadata": {},
   "outputs": [
    {
     "data": {
      "text/html": [
       "<div>\n",
       "<style scoped>\n",
       "    .dataframe tbody tr th:only-of-type {\n",
       "        vertical-align: middle;\n",
       "    }\n",
       "\n",
       "    .dataframe tbody tr th {\n",
       "        vertical-align: top;\n",
       "    }\n",
       "\n",
       "    .dataframe thead th {\n",
       "        text-align: right;\n",
       "    }\n",
       "</style>\n",
       "<table border=\"1\" class=\"dataframe\">\n",
       "  <thead>\n",
       "    <tr style=\"text-align: right;\">\n",
       "      <th></th>\n",
       "      <th>Unnamed: 0</th>\n",
       "      <th>Manufacturer</th>\n",
       "      <th>Model</th>\n",
       "      <th>Type</th>\n",
       "      <th>Min.Price</th>\n",
       "      <th>Price</th>\n",
       "      <th>Max.Price</th>\n",
       "      <th>MPG.city</th>\n",
       "      <th>MPG.highway</th>\n",
       "      <th>AirBags</th>\n",
       "      <th>...</th>\n",
       "      <th>Passengers</th>\n",
       "      <th>Length</th>\n",
       "      <th>Wheelbase</th>\n",
       "      <th>Width</th>\n",
       "      <th>Turn.circle</th>\n",
       "      <th>Rear.seat.room</th>\n",
       "      <th>Luggage.room</th>\n",
       "      <th>Weight</th>\n",
       "      <th>Origin</th>\n",
       "      <th>Make</th>\n",
       "    </tr>\n",
       "  </thead>\n",
       "  <tbody>\n",
       "    <tr>\n",
       "      <th>0</th>\n",
       "      <td>1</td>\n",
       "      <td>Acura</td>\n",
       "      <td>Integra</td>\n",
       "      <td>Small</td>\n",
       "      <td>12.9</td>\n",
       "      <td>15.9</td>\n",
       "      <td>18.8</td>\n",
       "      <td>25</td>\n",
       "      <td>31</td>\n",
       "      <td>None</td>\n",
       "      <td>...</td>\n",
       "      <td>5</td>\n",
       "      <td>177</td>\n",
       "      <td>102</td>\n",
       "      <td>68</td>\n",
       "      <td>37</td>\n",
       "      <td>26.5</td>\n",
       "      <td>11.0</td>\n",
       "      <td>2705</td>\n",
       "      <td>non-USA</td>\n",
       "      <td>Acura Integra</td>\n",
       "    </tr>\n",
       "    <tr>\n",
       "      <th>1</th>\n",
       "      <td>2</td>\n",
       "      <td>Acura</td>\n",
       "      <td>Legend</td>\n",
       "      <td>Midsize</td>\n",
       "      <td>29.2</td>\n",
       "      <td>33.9</td>\n",
       "      <td>38.7</td>\n",
       "      <td>18</td>\n",
       "      <td>25</td>\n",
       "      <td>Driver &amp; Passenger</td>\n",
       "      <td>...</td>\n",
       "      <td>5</td>\n",
       "      <td>195</td>\n",
       "      <td>115</td>\n",
       "      <td>71</td>\n",
       "      <td>38</td>\n",
       "      <td>30.0</td>\n",
       "      <td>15.0</td>\n",
       "      <td>3560</td>\n",
       "      <td>non-USA</td>\n",
       "      <td>Acura Legend</td>\n",
       "    </tr>\n",
       "    <tr>\n",
       "      <th>2</th>\n",
       "      <td>3</td>\n",
       "      <td>Audi</td>\n",
       "      <td>90</td>\n",
       "      <td>Compact</td>\n",
       "      <td>25.9</td>\n",
       "      <td>29.1</td>\n",
       "      <td>32.3</td>\n",
       "      <td>20</td>\n",
       "      <td>26</td>\n",
       "      <td>Driver only</td>\n",
       "      <td>...</td>\n",
       "      <td>5</td>\n",
       "      <td>180</td>\n",
       "      <td>102</td>\n",
       "      <td>67</td>\n",
       "      <td>37</td>\n",
       "      <td>28.0</td>\n",
       "      <td>14.0</td>\n",
       "      <td>3375</td>\n",
       "      <td>non-USA</td>\n",
       "      <td>Audi 90</td>\n",
       "    </tr>\n",
       "    <tr>\n",
       "      <th>3</th>\n",
       "      <td>4</td>\n",
       "      <td>Audi</td>\n",
       "      <td>100</td>\n",
       "      <td>Midsize</td>\n",
       "      <td>30.8</td>\n",
       "      <td>37.7</td>\n",
       "      <td>44.6</td>\n",
       "      <td>19</td>\n",
       "      <td>26</td>\n",
       "      <td>Driver &amp; Passenger</td>\n",
       "      <td>...</td>\n",
       "      <td>6</td>\n",
       "      <td>193</td>\n",
       "      <td>106</td>\n",
       "      <td>70</td>\n",
       "      <td>37</td>\n",
       "      <td>31.0</td>\n",
       "      <td>17.0</td>\n",
       "      <td>3405</td>\n",
       "      <td>non-USA</td>\n",
       "      <td>Audi 100</td>\n",
       "    </tr>\n",
       "    <tr>\n",
       "      <th>4</th>\n",
       "      <td>5</td>\n",
       "      <td>BMW</td>\n",
       "      <td>535i</td>\n",
       "      <td>Midsize</td>\n",
       "      <td>23.7</td>\n",
       "      <td>30.0</td>\n",
       "      <td>36.2</td>\n",
       "      <td>22</td>\n",
       "      <td>30</td>\n",
       "      <td>Driver only</td>\n",
       "      <td>...</td>\n",
       "      <td>4</td>\n",
       "      <td>186</td>\n",
       "      <td>109</td>\n",
       "      <td>69</td>\n",
       "      <td>39</td>\n",
       "      <td>27.0</td>\n",
       "      <td>13.0</td>\n",
       "      <td>3640</td>\n",
       "      <td>non-USA</td>\n",
       "      <td>BMW 535i</td>\n",
       "    </tr>\n",
       "    <tr>\n",
       "      <th>5</th>\n",
       "      <td>6</td>\n",
       "      <td>Buick</td>\n",
       "      <td>Century</td>\n",
       "      <td>Midsize</td>\n",
       "      <td>14.2</td>\n",
       "      <td>15.7</td>\n",
       "      <td>17.3</td>\n",
       "      <td>22</td>\n",
       "      <td>31</td>\n",
       "      <td>Driver only</td>\n",
       "      <td>...</td>\n",
       "      <td>6</td>\n",
       "      <td>189</td>\n",
       "      <td>105</td>\n",
       "      <td>69</td>\n",
       "      <td>41</td>\n",
       "      <td>28.0</td>\n",
       "      <td>16.0</td>\n",
       "      <td>2880</td>\n",
       "      <td>USA</td>\n",
       "      <td>Buick Century</td>\n",
       "    </tr>\n",
       "    <tr>\n",
       "      <th>6</th>\n",
       "      <td>7</td>\n",
       "      <td>Buick</td>\n",
       "      <td>LeSabre</td>\n",
       "      <td>Large</td>\n",
       "      <td>19.9</td>\n",
       "      <td>20.8</td>\n",
       "      <td>21.7</td>\n",
       "      <td>19</td>\n",
       "      <td>28</td>\n",
       "      <td>Driver only</td>\n",
       "      <td>...</td>\n",
       "      <td>6</td>\n",
       "      <td>200</td>\n",
       "      <td>111</td>\n",
       "      <td>74</td>\n",
       "      <td>42</td>\n",
       "      <td>30.5</td>\n",
       "      <td>17.0</td>\n",
       "      <td>3470</td>\n",
       "      <td>USA</td>\n",
       "      <td>Buick LeSabre</td>\n",
       "    </tr>\n",
       "    <tr>\n",
       "      <th>7</th>\n",
       "      <td>8</td>\n",
       "      <td>Buick</td>\n",
       "      <td>Roadmaster</td>\n",
       "      <td>Large</td>\n",
       "      <td>22.6</td>\n",
       "      <td>23.7</td>\n",
       "      <td>24.9</td>\n",
       "      <td>16</td>\n",
       "      <td>25</td>\n",
       "      <td>Driver only</td>\n",
       "      <td>...</td>\n",
       "      <td>6</td>\n",
       "      <td>216</td>\n",
       "      <td>116</td>\n",
       "      <td>78</td>\n",
       "      <td>45</td>\n",
       "      <td>30.5</td>\n",
       "      <td>21.0</td>\n",
       "      <td>4105</td>\n",
       "      <td>USA</td>\n",
       "      <td>Buick Roadmaster</td>\n",
       "    </tr>\n",
       "    <tr>\n",
       "      <th>8</th>\n",
       "      <td>9</td>\n",
       "      <td>Buick</td>\n",
       "      <td>Riviera</td>\n",
       "      <td>Midsize</td>\n",
       "      <td>26.3</td>\n",
       "      <td>26.3</td>\n",
       "      <td>26.3</td>\n",
       "      <td>19</td>\n",
       "      <td>27</td>\n",
       "      <td>Driver only</td>\n",
       "      <td>...</td>\n",
       "      <td>5</td>\n",
       "      <td>198</td>\n",
       "      <td>108</td>\n",
       "      <td>73</td>\n",
       "      <td>41</td>\n",
       "      <td>26.5</td>\n",
       "      <td>14.0</td>\n",
       "      <td>3495</td>\n",
       "      <td>USA</td>\n",
       "      <td>Buick Riviera</td>\n",
       "    </tr>\n",
       "    <tr>\n",
       "      <th>9</th>\n",
       "      <td>10</td>\n",
       "      <td>Cadillac</td>\n",
       "      <td>DeVille</td>\n",
       "      <td>Large</td>\n",
       "      <td>33.0</td>\n",
       "      <td>34.7</td>\n",
       "      <td>36.3</td>\n",
       "      <td>16</td>\n",
       "      <td>25</td>\n",
       "      <td>Driver only</td>\n",
       "      <td>...</td>\n",
       "      <td>6</td>\n",
       "      <td>206</td>\n",
       "      <td>114</td>\n",
       "      <td>73</td>\n",
       "      <td>43</td>\n",
       "      <td>35.0</td>\n",
       "      <td>18.0</td>\n",
       "      <td>3620</td>\n",
       "      <td>USA</td>\n",
       "      <td>Cadillac DeVille</td>\n",
       "    </tr>\n",
       "  </tbody>\n",
       "</table>\n",
       "<p>10 rows × 28 columns</p>\n",
       "</div>"
      ],
      "text/plain": [
       "   Unnamed: 0 Manufacturer       Model     Type  Min.Price  Price  Max.Price  \\\n",
       "0           1        Acura     Integra    Small       12.9   15.9       18.8   \n",
       "1           2        Acura      Legend  Midsize       29.2   33.9       38.7   \n",
       "2           3         Audi          90  Compact       25.9   29.1       32.3   \n",
       "3           4         Audi         100  Midsize       30.8   37.7       44.6   \n",
       "4           5          BMW        535i  Midsize       23.7   30.0       36.2   \n",
       "5           6        Buick     Century  Midsize       14.2   15.7       17.3   \n",
       "6           7        Buick     LeSabre    Large       19.9   20.8       21.7   \n",
       "7           8        Buick  Roadmaster    Large       22.6   23.7       24.9   \n",
       "8           9        Buick     Riviera  Midsize       26.3   26.3       26.3   \n",
       "9          10     Cadillac     DeVille    Large       33.0   34.7       36.3   \n",
       "\n",
       "   MPG.city  MPG.highway             AirBags        ...        Passengers  \\\n",
       "0        25           31                None        ...                 5   \n",
       "1        18           25  Driver & Passenger        ...                 5   \n",
       "2        20           26         Driver only        ...                 5   \n",
       "3        19           26  Driver & Passenger        ...                 6   \n",
       "4        22           30         Driver only        ...                 4   \n",
       "5        22           31         Driver only        ...                 6   \n",
       "6        19           28         Driver only        ...                 6   \n",
       "7        16           25         Driver only        ...                 6   \n",
       "8        19           27         Driver only        ...                 5   \n",
       "9        16           25         Driver only        ...                 6   \n",
       "\n",
       "  Length  Wheelbase  Width  Turn.circle  Rear.seat.room Luggage.room  Weight  \\\n",
       "0    177        102     68           37            26.5         11.0    2705   \n",
       "1    195        115     71           38            30.0         15.0    3560   \n",
       "2    180        102     67           37            28.0         14.0    3375   \n",
       "3    193        106     70           37            31.0         17.0    3405   \n",
       "4    186        109     69           39            27.0         13.0    3640   \n",
       "5    189        105     69           41            28.0         16.0    2880   \n",
       "6    200        111     74           42            30.5         17.0    3470   \n",
       "7    216        116     78           45            30.5         21.0    4105   \n",
       "8    198        108     73           41            26.5         14.0    3495   \n",
       "9    206        114     73           43            35.0         18.0    3620   \n",
       "\n",
       "    Origin              Make  \n",
       "0  non-USA     Acura Integra  \n",
       "1  non-USA      Acura Legend  \n",
       "2  non-USA           Audi 90  \n",
       "3  non-USA          Audi 100  \n",
       "4  non-USA          BMW 535i  \n",
       "5      USA     Buick Century  \n",
       "6      USA     Buick LeSabre  \n",
       "7      USA  Buick Roadmaster  \n",
       "8      USA     Buick Riviera  \n",
       "9      USA  Cadillac DeVille  \n",
       "\n",
       "[10 rows x 28 columns]"
      ]
     },
     "execution_count": 10,
     "metadata": {},
     "output_type": "execute_result"
    }
   ],
   "source": [
    "data[:10]"
   ]
  },
  {
   "cell_type": "markdown",
   "metadata": {},
   "source": [
    "Como respuesta vamos a utilizar `Price` y como variables `Turn.circle`, `Horsepower` y  `MPG.Highway`\n",
    "Vamos a recortar entonces las columnas a esas variables "
   ]
  },
  {
   "cell_type": "code",
   "execution_count": 12,
   "metadata": {},
   "outputs": [
    {
     "data": {
      "text/html": [
       "<div>\n",
       "<style scoped>\n",
       "    .dataframe tbody tr th:only-of-type {\n",
       "        vertical-align: middle;\n",
       "    }\n",
       "\n",
       "    .dataframe tbody tr th {\n",
       "        vertical-align: top;\n",
       "    }\n",
       "\n",
       "    .dataframe thead th {\n",
       "        text-align: right;\n",
       "    }\n",
       "</style>\n",
       "<table border=\"1\" class=\"dataframe\">\n",
       "  <thead>\n",
       "    <tr style=\"text-align: right;\">\n",
       "      <th></th>\n",
       "      <th>Price</th>\n",
       "      <th>Horsepower</th>\n",
       "      <th>MPG.highway</th>\n",
       "      <th>Turn.circle</th>\n",
       "    </tr>\n",
       "  </thead>\n",
       "  <tbody>\n",
       "    <tr>\n",
       "      <th>0</th>\n",
       "      <td>15.9</td>\n",
       "      <td>140</td>\n",
       "      <td>31</td>\n",
       "      <td>37</td>\n",
       "    </tr>\n",
       "    <tr>\n",
       "      <th>1</th>\n",
       "      <td>33.9</td>\n",
       "      <td>200</td>\n",
       "      <td>25</td>\n",
       "      <td>38</td>\n",
       "    </tr>\n",
       "    <tr>\n",
       "      <th>2</th>\n",
       "      <td>29.1</td>\n",
       "      <td>172</td>\n",
       "      <td>26</td>\n",
       "      <td>37</td>\n",
       "    </tr>\n",
       "    <tr>\n",
       "      <th>3</th>\n",
       "      <td>37.7</td>\n",
       "      <td>172</td>\n",
       "      <td>26</td>\n",
       "      <td>37</td>\n",
       "    </tr>\n",
       "    <tr>\n",
       "      <th>4</th>\n",
       "      <td>30.0</td>\n",
       "      <td>208</td>\n",
       "      <td>30</td>\n",
       "      <td>39</td>\n",
       "    </tr>\n",
       "    <tr>\n",
       "      <th>5</th>\n",
       "      <td>15.7</td>\n",
       "      <td>110</td>\n",
       "      <td>31</td>\n",
       "      <td>41</td>\n",
       "    </tr>\n",
       "    <tr>\n",
       "      <th>6</th>\n",
       "      <td>20.8</td>\n",
       "      <td>170</td>\n",
       "      <td>28</td>\n",
       "      <td>42</td>\n",
       "    </tr>\n",
       "    <tr>\n",
       "      <th>7</th>\n",
       "      <td>23.7</td>\n",
       "      <td>180</td>\n",
       "      <td>25</td>\n",
       "      <td>45</td>\n",
       "    </tr>\n",
       "    <tr>\n",
       "      <th>8</th>\n",
       "      <td>26.3</td>\n",
       "      <td>170</td>\n",
       "      <td>27</td>\n",
       "      <td>41</td>\n",
       "    </tr>\n",
       "    <tr>\n",
       "      <th>9</th>\n",
       "      <td>34.7</td>\n",
       "      <td>200</td>\n",
       "      <td>25</td>\n",
       "      <td>43</td>\n",
       "    </tr>\n",
       "    <tr>\n",
       "      <th>10</th>\n",
       "      <td>40.1</td>\n",
       "      <td>295</td>\n",
       "      <td>25</td>\n",
       "      <td>44</td>\n",
       "    </tr>\n",
       "    <tr>\n",
       "      <th>11</th>\n",
       "      <td>13.4</td>\n",
       "      <td>110</td>\n",
       "      <td>36</td>\n",
       "      <td>38</td>\n",
       "    </tr>\n",
       "    <tr>\n",
       "      <th>12</th>\n",
       "      <td>11.4</td>\n",
       "      <td>110</td>\n",
       "      <td>34</td>\n",
       "      <td>39</td>\n",
       "    </tr>\n",
       "    <tr>\n",
       "      <th>13</th>\n",
       "      <td>15.1</td>\n",
       "      <td>160</td>\n",
       "      <td>28</td>\n",
       "      <td>43</td>\n",
       "    </tr>\n",
       "    <tr>\n",
       "      <th>14</th>\n",
       "      <td>15.9</td>\n",
       "      <td>110</td>\n",
       "      <td>29</td>\n",
       "      <td>40</td>\n",
       "    </tr>\n",
       "    <tr>\n",
       "      <th>15</th>\n",
       "      <td>16.3</td>\n",
       "      <td>170</td>\n",
       "      <td>23</td>\n",
       "      <td>44</td>\n",
       "    </tr>\n",
       "    <tr>\n",
       "      <th>16</th>\n",
       "      <td>16.6</td>\n",
       "      <td>165</td>\n",
       "      <td>20</td>\n",
       "      <td>42</td>\n",
       "    </tr>\n",
       "    <tr>\n",
       "      <th>17</th>\n",
       "      <td>18.8</td>\n",
       "      <td>170</td>\n",
       "      <td>26</td>\n",
       "      <td>42</td>\n",
       "    </tr>\n",
       "    <tr>\n",
       "      <th>18</th>\n",
       "      <td>38.0</td>\n",
       "      <td>300</td>\n",
       "      <td>25</td>\n",
       "      <td>43</td>\n",
       "    </tr>\n",
       "    <tr>\n",
       "      <th>19</th>\n",
       "      <td>18.4</td>\n",
       "      <td>153</td>\n",
       "      <td>28</td>\n",
       "      <td>40</td>\n",
       "    </tr>\n",
       "    <tr>\n",
       "      <th>20</th>\n",
       "      <td>15.8</td>\n",
       "      <td>141</td>\n",
       "      <td>28</td>\n",
       "      <td>41</td>\n",
       "    </tr>\n",
       "    <tr>\n",
       "      <th>21</th>\n",
       "      <td>29.5</td>\n",
       "      <td>147</td>\n",
       "      <td>26</td>\n",
       "      <td>44</td>\n",
       "    </tr>\n",
       "    <tr>\n",
       "      <th>22</th>\n",
       "      <td>9.2</td>\n",
       "      <td>92</td>\n",
       "      <td>33</td>\n",
       "      <td>32</td>\n",
       "    </tr>\n",
       "    <tr>\n",
       "      <th>23</th>\n",
       "      <td>11.3</td>\n",
       "      <td>93</td>\n",
       "      <td>29</td>\n",
       "      <td>38</td>\n",
       "    </tr>\n",
       "    <tr>\n",
       "      <th>24</th>\n",
       "      <td>13.3</td>\n",
       "      <td>100</td>\n",
       "      <td>27</td>\n",
       "      <td>39</td>\n",
       "    </tr>\n",
       "    <tr>\n",
       "      <th>25</th>\n",
       "      <td>19.0</td>\n",
       "      <td>142</td>\n",
       "      <td>21</td>\n",
       "      <td>42</td>\n",
       "    </tr>\n",
       "    <tr>\n",
       "      <th>26</th>\n",
       "      <td>15.6</td>\n",
       "      <td>100</td>\n",
       "      <td>27</td>\n",
       "      <td>42</td>\n",
       "    </tr>\n",
       "    <tr>\n",
       "      <th>27</th>\n",
       "      <td>25.8</td>\n",
       "      <td>300</td>\n",
       "      <td>24</td>\n",
       "      <td>40</td>\n",
       "    </tr>\n",
       "    <tr>\n",
       "      <th>28</th>\n",
       "      <td>12.2</td>\n",
       "      <td>92</td>\n",
       "      <td>33</td>\n",
       "      <td>36</td>\n",
       "    </tr>\n",
       "    <tr>\n",
       "      <th>29</th>\n",
       "      <td>19.3</td>\n",
       "      <td>214</td>\n",
       "      <td>28</td>\n",
       "      <td>40</td>\n",
       "    </tr>\n",
       "    <tr>\n",
       "      <th>...</th>\n",
       "      <td>...</td>\n",
       "      <td>...</td>\n",
       "      <td>...</td>\n",
       "      <td>...</td>\n",
       "    </tr>\n",
       "    <tr>\n",
       "      <th>63</th>\n",
       "      <td>11.8</td>\n",
       "      <td>110</td>\n",
       "      <td>33</td>\n",
       "      <td>33</td>\n",
       "    </tr>\n",
       "    <tr>\n",
       "      <th>64</th>\n",
       "      <td>15.7</td>\n",
       "      <td>150</td>\n",
       "      <td>30</td>\n",
       "      <td>40</td>\n",
       "    </tr>\n",
       "    <tr>\n",
       "      <th>65</th>\n",
       "      <td>19.1</td>\n",
       "      <td>151</td>\n",
       "      <td>23</td>\n",
       "      <td>41</td>\n",
       "    </tr>\n",
       "    <tr>\n",
       "      <th>66</th>\n",
       "      <td>21.5</td>\n",
       "      <td>160</td>\n",
       "      <td>26</td>\n",
       "      <td>41</td>\n",
       "    </tr>\n",
       "    <tr>\n",
       "      <th>67</th>\n",
       "      <td>13.5</td>\n",
       "      <td>155</td>\n",
       "      <td>31</td>\n",
       "      <td>39</td>\n",
       "    </tr>\n",
       "    <tr>\n",
       "      <th>68</th>\n",
       "      <td>16.3</td>\n",
       "      <td>110</td>\n",
       "      <td>31</td>\n",
       "      <td>42</td>\n",
       "    </tr>\n",
       "    <tr>\n",
       "      <th>69</th>\n",
       "      <td>19.5</td>\n",
       "      <td>170</td>\n",
       "      <td>23</td>\n",
       "      <td>44</td>\n",
       "    </tr>\n",
       "    <tr>\n",
       "      <th>70</th>\n",
       "      <td>20.7</td>\n",
       "      <td>170</td>\n",
       "      <td>28</td>\n",
       "      <td>42</td>\n",
       "    </tr>\n",
       "    <tr>\n",
       "      <th>71</th>\n",
       "      <td>14.4</td>\n",
       "      <td>92</td>\n",
       "      <td>30</td>\n",
       "      <td>39</td>\n",
       "    </tr>\n",
       "    <tr>\n",
       "      <th>72</th>\n",
       "      <td>9.0</td>\n",
       "      <td>74</td>\n",
       "      <td>41</td>\n",
       "      <td>35</td>\n",
       "    </tr>\n",
       "    <tr>\n",
       "      <th>73</th>\n",
       "      <td>11.1</td>\n",
       "      <td>110</td>\n",
       "      <td>31</td>\n",
       "      <td>39</td>\n",
       "    </tr>\n",
       "    <tr>\n",
       "      <th>74</th>\n",
       "      <td>17.7</td>\n",
       "      <td>160</td>\n",
       "      <td>28</td>\n",
       "      <td>43</td>\n",
       "    </tr>\n",
       "    <tr>\n",
       "      <th>75</th>\n",
       "      <td>18.5</td>\n",
       "      <td>200</td>\n",
       "      <td>27</td>\n",
       "      <td>41</td>\n",
       "    </tr>\n",
       "    <tr>\n",
       "      <th>76</th>\n",
       "      <td>24.4</td>\n",
       "      <td>170</td>\n",
       "      <td>28</td>\n",
       "      <td>43</td>\n",
       "    </tr>\n",
       "    <tr>\n",
       "      <th>77</th>\n",
       "      <td>28.7</td>\n",
       "      <td>140</td>\n",
       "      <td>26</td>\n",
       "      <td>37</td>\n",
       "    </tr>\n",
       "    <tr>\n",
       "      <th>78</th>\n",
       "      <td>11.1</td>\n",
       "      <td>85</td>\n",
       "      <td>38</td>\n",
       "      <td>40</td>\n",
       "    </tr>\n",
       "    <tr>\n",
       "      <th>79</th>\n",
       "      <td>8.4</td>\n",
       "      <td>73</td>\n",
       "      <td>37</td>\n",
       "      <td>32</td>\n",
       "    </tr>\n",
       "    <tr>\n",
       "      <th>80</th>\n",
       "      <td>10.9</td>\n",
       "      <td>90</td>\n",
       "      <td>30</td>\n",
       "      <td>35</td>\n",
       "    </tr>\n",
       "    <tr>\n",
       "      <th>81</th>\n",
       "      <td>19.5</td>\n",
       "      <td>130</td>\n",
       "      <td>30</td>\n",
       "      <td>37</td>\n",
       "    </tr>\n",
       "    <tr>\n",
       "      <th>82</th>\n",
       "      <td>8.6</td>\n",
       "      <td>70</td>\n",
       "      <td>43</td>\n",
       "      <td>34</td>\n",
       "    </tr>\n",
       "    <tr>\n",
       "      <th>83</th>\n",
       "      <td>9.8</td>\n",
       "      <td>82</td>\n",
       "      <td>37</td>\n",
       "      <td>36</td>\n",
       "    </tr>\n",
       "    <tr>\n",
       "      <th>84</th>\n",
       "      <td>18.4</td>\n",
       "      <td>135</td>\n",
       "      <td>32</td>\n",
       "      <td>39</td>\n",
       "    </tr>\n",
       "    <tr>\n",
       "      <th>85</th>\n",
       "      <td>18.2</td>\n",
       "      <td>130</td>\n",
       "      <td>29</td>\n",
       "      <td>38</td>\n",
       "    </tr>\n",
       "    <tr>\n",
       "      <th>86</th>\n",
       "      <td>22.7</td>\n",
       "      <td>138</td>\n",
       "      <td>22</td>\n",
       "      <td>41</td>\n",
       "    </tr>\n",
       "    <tr>\n",
       "      <th>87</th>\n",
       "      <td>9.1</td>\n",
       "      <td>81</td>\n",
       "      <td>33</td>\n",
       "      <td>34</td>\n",
       "    </tr>\n",
       "    <tr>\n",
       "      <th>88</th>\n",
       "      <td>19.7</td>\n",
       "      <td>109</td>\n",
       "      <td>21</td>\n",
       "      <td>38</td>\n",
       "    </tr>\n",
       "    <tr>\n",
       "      <th>89</th>\n",
       "      <td>20.0</td>\n",
       "      <td>134</td>\n",
       "      <td>30</td>\n",
       "      <td>35</td>\n",
       "    </tr>\n",
       "    <tr>\n",
       "      <th>90</th>\n",
       "      <td>23.3</td>\n",
       "      <td>178</td>\n",
       "      <td>25</td>\n",
       "      <td>36</td>\n",
       "    </tr>\n",
       "    <tr>\n",
       "      <th>91</th>\n",
       "      <td>22.7</td>\n",
       "      <td>114</td>\n",
       "      <td>28</td>\n",
       "      <td>37</td>\n",
       "    </tr>\n",
       "    <tr>\n",
       "      <th>92</th>\n",
       "      <td>26.7</td>\n",
       "      <td>168</td>\n",
       "      <td>28</td>\n",
       "      <td>38</td>\n",
       "    </tr>\n",
       "  </tbody>\n",
       "</table>\n",
       "<p>93 rows × 4 columns</p>\n",
       "</div>"
      ],
      "text/plain": [
       "    Price  Horsepower  MPG.highway  Turn.circle\n",
       "0    15.9         140           31           37\n",
       "1    33.9         200           25           38\n",
       "2    29.1         172           26           37\n",
       "3    37.7         172           26           37\n",
       "4    30.0         208           30           39\n",
       "5    15.7         110           31           41\n",
       "6    20.8         170           28           42\n",
       "7    23.7         180           25           45\n",
       "8    26.3         170           27           41\n",
       "9    34.7         200           25           43\n",
       "10   40.1         295           25           44\n",
       "11   13.4         110           36           38\n",
       "12   11.4         110           34           39\n",
       "13   15.1         160           28           43\n",
       "14   15.9         110           29           40\n",
       "15   16.3         170           23           44\n",
       "16   16.6         165           20           42\n",
       "17   18.8         170           26           42\n",
       "18   38.0         300           25           43\n",
       "19   18.4         153           28           40\n",
       "20   15.8         141           28           41\n",
       "21   29.5         147           26           44\n",
       "22    9.2          92           33           32\n",
       "23   11.3          93           29           38\n",
       "24   13.3         100           27           39\n",
       "25   19.0         142           21           42\n",
       "26   15.6         100           27           42\n",
       "27   25.8         300           24           40\n",
       "28   12.2          92           33           36\n",
       "29   19.3         214           28           40\n",
       "..    ...         ...          ...          ...\n",
       "63   11.8         110           33           33\n",
       "64   15.7         150           30           40\n",
       "65   19.1         151           23           41\n",
       "66   21.5         160           26           41\n",
       "67   13.5         155           31           39\n",
       "68   16.3         110           31           42\n",
       "69   19.5         170           23           44\n",
       "70   20.7         170           28           42\n",
       "71   14.4          92           30           39\n",
       "72    9.0          74           41           35\n",
       "73   11.1         110           31           39\n",
       "74   17.7         160           28           43\n",
       "75   18.5         200           27           41\n",
       "76   24.4         170           28           43\n",
       "77   28.7         140           26           37\n",
       "78   11.1          85           38           40\n",
       "79    8.4          73           37           32\n",
       "80   10.9          90           30           35\n",
       "81   19.5         130           30           37\n",
       "82    8.6          70           43           34\n",
       "83    9.8          82           37           36\n",
       "84   18.4         135           32           39\n",
       "85   18.2         130           29           38\n",
       "86   22.7         138           22           41\n",
       "87    9.1          81           33           34\n",
       "88   19.7         109           21           38\n",
       "89   20.0         134           30           35\n",
       "90   23.3         178           25           36\n",
       "91   22.7         114           28           37\n",
       "92   26.7         168           28           38\n",
       "\n",
       "[93 rows x 4 columns]"
      ]
     },
     "execution_count": 12,
     "metadata": {},
     "output_type": "execute_result"
    }
   ],
   "source": [
    "subset_data = data[['Price', 'Horsepower', 'MPG.highway', 'Turn.circle']]\n",
    "subset_data"
   ]
  },
  {
   "cell_type": "markdown",
   "metadata": {},
   "source": [
    "Para empezar vamos a graficar las propiedades de `subset_data`"
   ]
  },
  {
   "cell_type": "code",
   "execution_count": 20,
   "metadata": {},
   "outputs": [
    {
     "name": "stderr",
     "output_type": "stream",
     "text": [
      "/srv/conda/lib/python3.6/site-packages/ipykernel_launcher.py:3: FutureWarning: 'pandas.tools.plotting.scatter_matrix' is deprecated, import 'pandas.plotting.scatter_matrix' instead.\n",
      "  This is separate from the ipykernel package so we can avoid doing imports until\n"
     ]
    },
    {
     "data": {
      "image/png": "[encoded data removed]",
      "text/plain": [
       "<Figure size 720x648 with 16 Axes>"
      ]
     },
     "metadata": {
      "needs_background": "light"
     },
     "output_type": "display_data"
    }
   ],
   "source": [
    "from pandas.tools import plotting\n",
    "\n",
    "_ = plotting.scatter_matrix(subset_data, figsize=(10,9))"
   ]
  },
  {
   "cell_type": "markdown",
   "metadata": {},
   "source": [
    "La primera fila de la figura anterior nos muestra que en efecto hay correlaciones entre `Price` y las variables de interés.\n",
    "Lo que vamos a hacer para empezar es encontrar los mejores parámetros para el modelo `Price` = $\\beta_0$ + $\\beta_1 \\times $`Horsepower`.\n",
    "\n",
    "Para esto vamos a inicializar la clase `sklearn.linear_model.LinearRegression`"
   ]
  },
  {
   "cell_type": "code",
   "execution_count": 21,
   "metadata": {},
   "outputs": [],
   "source": [
    "linear = sklearn.linear_model.LinearRegression()"
   ]
  },
  {
   "cell_type": "markdown",
   "metadata": {},
   "source": [
    "En este momento `linear` es una objeto que representa la clase `sklearn.linear_model.LinearRegression`.\n",
    "Por eso es posible acceder a varios métodos a través de `linear`. \n",
    "\n",
    "La lista completa de métodos disponibles es:"
   ]
  },
  {
   "cell_type": "code",
   "execution_count": 22,
   "metadata": {},
   "outputs": [
    {
     "data": {
      "text/plain": [
       "['__abstractmethods__',\n",
       " '__class__',\n",
       " '__delattr__',\n",
       " '__dict__',\n",
       " '__dir__',\n",
       " '__doc__',\n",
       " '__eq__',\n",
       " '__format__',\n",
       " '__ge__',\n",
       " '__getattribute__',\n",
       " '__getstate__',\n",
       " '__gt__',\n",
       " '__hash__',\n",
       " '__init__',\n",
       " '__init_subclass__',\n",
       " '__le__',\n",
       " '__lt__',\n",
       " '__module__',\n",
       " '__ne__',\n",
       " '__new__',\n",
       " '__reduce__',\n",
       " '__reduce_ex__',\n",
       " '__repr__',\n",
       " '__setattr__',\n",
       " '__setstate__',\n",
       " '__sizeof__',\n",
       " '__str__',\n",
       " '__subclasshook__',\n",
       " '__weakref__',\n",
       " '_abc_cache',\n",
       " '_abc_negative_cache',\n",
       " '_abc_negative_cache_version',\n",
       " '_abc_registry',\n",
       " '_decision_function',\n",
       " '_estimator_type',\n",
       " '_get_param_names',\n",
       " '_preprocess_data',\n",
       " '_set_intercept',\n",
       " 'copy_X',\n",
       " 'fit',\n",
       " 'fit_intercept',\n",
       " 'get_params',\n",
       " 'n_jobs',\n",
       " 'normalize',\n",
       " 'predict',\n",
       " 'score',\n",
       " 'set_params']"
      ]
     },
     "execution_count": 22,
     "metadata": {},
     "output_type": "execute_result"
    }
   ],
   "source": [
    "dir(linear)"
   ]
  },
  {
   "cell_type": "markdown",
   "metadata": {},
   "source": [
    "Para empezar nos vamos a interesar en los métodos `fit`, `predict`  y  `score`."
   ]
  },
  {
   "cell_type": "markdown",
   "metadata": {},
   "source": [
    "## **`fit`**\n",
    "\n",
    "`fit` es el método que hace el ajuste. Espera al menos dos parámetros de entrada: `X` y `Y`.\n",
    "`Y` es el target y `X` son las variables del modelo. \n",
    "Es importante notar que `X` debe tener la forma `[n_samples, n_features]`.\n",
    "Tal como se encuentra ahora `data[`Horsepower`]` tiene una forma de `[n_samples]`.\n",
    "Para convertirlo al formato adecuado podemos escribir"
   ]
  },
  {
   "cell_type": "code",
   "execution_count": 23,
   "metadata": {},
   "outputs": [],
   "source": [
    "X = data['Horsepower'].values.reshape(-1,1)\n",
    "Y = data['Price'].values.reshape(-1,1)"
   ]
  },
  {
   "cell_type": "markdown",
   "metadata": {},
   "source": [
    "Con esta definición el ajuste se hace simplemente como"
   ]
  },
  {
   "cell_type": "code",
   "execution_count": 24,
   "metadata": {},
   "outputs": [
    {
     "data": {
      "text/plain": [
       "LinearRegression(copy_X=True, fit_intercept=True, n_jobs=None,\n",
       "         normalize=False)"
      ]
     },
     "execution_count": 24,
     "metadata": {},
     "output_type": "execute_result"
    }
   ],
   "source": [
    "linear.fit(X,Y)"
   ]
  },
  {
   "cell_type": "markdown",
   "metadata": {},
   "source": [
    "Ahora los atributos de linear contienen los valores de los coeficientes $\\beta_i$.\n",
    "\n",
    "Para $\\beta_0$ usamos el atributo `intercept_`"
   ]
  },
  {
   "cell_type": "code",
   "execution_count": 25,
   "metadata": {},
   "outputs": [
    {
     "name": "stdout",
     "output_type": "stream",
     "text": [
      "[-1.39876912]\n"
     ]
    }
   ],
   "source": [
    "print(linear.intercept_)"
   ]
  },
  {
   "cell_type": "markdown",
   "metadata": {},
   "source": [
    "Para $\\beta_1$ usamos el atributo `coef_`"
   ]
  },
  {
   "cell_type": "code",
   "execution_count": 26,
   "metadata": {},
   "outputs": [
    {
     "name": "stdout",
     "output_type": "stream",
     "text": [
      "[[0.14537123]]\n"
     ]
    }
   ],
   "source": [
    "print(linear.coef_)"
   ]
  },
  {
   "cell_type": "markdown",
   "metadata": {},
   "source": [
    "Esto quiere decir que podemos escribir el modelo como \n",
    "\n",
    "`Price` = `-1.39` + `0.14` $\\times$ `Horsepower`  "
   ]
  },
  {
   "cell_type": "markdown",
   "metadata": {},
   "source": [
    "## **`predict`**\n",
    "\n",
    "El método `predict` hace una predicción de `Y` dados valores de entrada de `X`.\n",
    "Si llamamamos el metodos con las variable `X` de entrada, entonces vamos a obtener la recta de mejor ajuste"
   ]
  },
  {
   "cell_type": "code",
   "execution_count": 27,
   "metadata": {},
   "outputs": [
    {
     "data": {
      "image/png": "[encoded data removed]",
      "text/plain": [
       "<Figure size 432x288 with 1 Axes>"
      ]
     },
     "metadata": {
      "needs_background": "light"
     },
     "output_type": "display_data"
    }
   ],
   "source": [
    "Y_predict = linear.predict(X)\n",
    "plt.plot(X, Y_predict, label='modelo')\n",
    "plt.scatter(X, Y, label='datos', color='red')\n",
    "plt.legend()\n",
    "plt.xlabel('Horsepower')\n",
    "_ = plt.ylabel('Price')"
   ]
  },
  {
   "cell_type": "markdown",
   "metadata": {},
   "source": [
    "## **`score`**\n",
    "\n",
    "Para tener una medida de que tan bueno es el ajuste usamos el coeficiente $R^2$\n",
    "definido como \n",
    "\n",
    "$$\n",
    "R^2 = 1 - \\frac{\\sum (y_{\\rm obs} - y_{\\rm model})^2}{\\sum (y_{\\rm obs} - \\bar{y}_{\\rm obs})^2}\n",
    "$$\n",
    "\n",
    "donde $\\bar{y}_{\\rm model}$ es el promedio de los valores observados.\n",
    "\n",
    "En nuestro caso tenemos"
   ]
  },
  {
   "cell_type": "code",
   "execution_count": 28,
   "metadata": {},
   "outputs": [
    {
     "name": "stdout",
     "output_type": "stream",
     "text": [
      "0.6212869500338225\n"
     ]
    }
   ],
   "source": [
    "print(linear.score(X, Y))"
   ]
  },
  {
   "cell_type": "markdown",
   "metadata": {},
   "source": [
    "### Ejercicio 13.1\n",
    "\n",
    "Haga los ajustes, gráficas de modelo vs. datos y cálculo de score para los siguientes modelos:\n",
    "\n",
    "* `Price` = $\\beta_0$ + $\\beta_1 \\times $`MPG.Highway`.\n",
    "\n",
    "* `Price` = $\\beta_0$ + $\\beta_1 \\times $`Turn.circle`.\n",
    "\n",
    "De acuerdo al $R^2$ score, cual de los tres modelos es el mejor?"
   ]
  },
  {
   "cell_type": "code",
   "execution_count": 32,
   "metadata": {},
   "outputs": [],
   "source": [
    "linear_1 = sklearn.linear_model.LinearRegression()\n",
    "MPG = data['MPG.highway'].values.reshape(-1,1)\n",
    "Turn = data['Turn.circle'].values.reshape(-1,1)\n",
    "Y = data['Price'].values.reshape(-1,1)"
   ]
  },
  {
   "cell_type": "code",
   "execution_count": 35,
   "metadata": {},
   "outputs": [],
   "source": [
    "model_1=linear_1.fit(MPG,Y)\n",
    "#print(model_1.coef_)\n",
    "#print(model_1.intercept_)"
   ]
  },
  {
   "cell_type": "code",
   "execution_count": 34,
   "metadata": {},
   "outputs": [
    {
     "name": "stdout",
     "output_type": "stream",
     "text": [
      "R^2=  0.314362468002246\n"
     ]
    },
    {
     "data": {
      "image/png": "[encoded data removed]",
      "text/plain": [
       "<Figure size 432x288 with 1 Axes>"
      ]
     },
     "metadata": {
      "needs_background": "light"
     },
     "output_type": "display_data"
    }
   ],
   "source": [
    "Y_predict = model_1.predict(MPG)\n",
    "plt.plot(MPG, Y_predict, label='modelo')\n",
    "plt.scatter(MPG, Y, label='datos', color='red')\n",
    "plt.legend()\n",
    "plt.xlabel('MPG highway')\n",
    "_ = plt.ylabel('Price')\n",
    "print(\"R^2= \",model_1.score(MPG, Y))"
   ]
  },
  {
   "cell_type": "code",
   "execution_count": 37,
   "metadata": {},
   "outputs": [
    {
     "name": "stdout",
     "output_type": "stream",
     "text": [
      "R^2=  0.15412685056314557\n"
     ]
    },
    {
     "data": {
      "image/png": "[encoded data removed]",
      "text/plain": [
       "<Figure size 432x288 with 1 Axes>"
      ]
     },
     "metadata": {
      "needs_background": "light"
     },
     "output_type": "display_data"
    }
   ],
   "source": [
    "linear_2 = sklearn.linear_model.LinearRegression()\n",
    "model_2=linear_2.fit(Turn,Y)\n",
    "#print(model_2.coef_)\n",
    "#print(model_2.intercept_)\n",
    "Y_predict = model_2.predict(Turn)\n",
    "plt.plot(Turn, Y_predict, label='modelo')\n",
    "plt.scatter(Turn, Y, label='datos', color='red')\n",
    "plt.legend()\n",
    "plt.xlabel('Turn circle')\n",
    "_ = plt.ylabel('Price')\n",
    "print(\"R^2= \",model_2.score(Turn, Y))"
   ]
  },
  {
   "cell_type": "markdown",
   "metadata": {},
   "source": [
    "El mejor es el de Horsepower vs Price, pues se tiene un valor de $R^2$=0.621"
   ]
  },
  {
   "cell_type": "markdown",
   "metadata": {},
   "source": [
    "### Ejercicio 13.2\n",
    "\n",
    "Haga los ajustes, gráficas de modelo vs. datos y cálculo de score para los tres modelos lineales que incluyan dos variables.\n",
    "\n",
    "De acuerdo al $R^2$ score, es alguno de estos modelos mejor que los tres anteriores?"
   ]
  },
  {
   "cell_type": "code",
   "execution_count": 38,
   "metadata": {},
   "outputs": [
    {
     "name": "stdout",
     "output_type": "stream",
     "text": [
      "R^2=  0.3198708229328998\n"
     ]
    },
    {
     "data": {
      "image/png": "[encoded data removed]",
      "text/plain": [
       "<Figure size 432x288 with 1 Axes>"
      ]
     },
     "metadata": {
      "needs_background": "light"
     },
     "output_type": "display_data"
    }
   ],
   "source": [
    "MPG_turn= data[['MPG.highway',\"Turn.circle\"]]\n",
    "Y = data['Price'].values.reshape(-1,1)\n",
    "linear_3 = sklearn.linear_model.LinearRegression()\n",
    "Model=linear_3.fit(MPG_turn,Y)\n",
    "Model.fit(MPG_turn,Y)\n",
    "#print(linear_3.score(MPG_turn,Y))\n",
    "Y_predict = Model.predict(MPG_turn)\n",
    "\n",
    "plt.plot(MPG_turn['MPG.highway'], Y_predict, label='modelo')\n",
    "plt.scatter(MPG_turn['MPG.highway'], Y, label='datos', color='red')\n",
    "plt.legend()\n",
    "plt.xlabel('MPG highway')\n",
    "_ = plt.ylabel('Price')\n",
    "print(\"R^2= \",Model.score(MPG_turn, Y))\n",
    "#print(Model.coef_)\n",
    "#print(Model.intercept_)"
   ]
  },
  {
   "cell_type": "code",
   "execution_count": 39,
   "metadata": {},
   "outputs": [
    {
     "name": "stdout",
     "output_type": "stream",
     "text": [
      "R^2=  0.6249029173886569\n"
     ]
    },
    {
     "data": {
      "image/png": "[encoded data removed]",
      "text/plain": [
       "<Figure size 432x288 with 1 Axes>"
      ]
     },
     "metadata": {
      "needs_background": "light"
     },
     "output_type": "display_data"
    }
   ],
   "source": [
    "X= data[['Horsepower',\"Turn.circle\"]]\n",
    "Y = data['Price'].values.reshape(-1,1)\n",
    "linear_4 = sklearn.linear_model.LinearRegression()\n",
    "Model=linear_4.fit(X,Y)\n",
    "Model.fit(X,Y)\n",
    "#print(linear_3.score(MPG_turn,Y))\n",
    "Y_predict = Model.predict(X)\n",
    "\n",
    "plt.plot(X['Horsepower'], Y_predict, label='modelo')\n",
    "plt.scatter(X['Horsepower'], Y, label='datos', color='red')\n",
    "plt.legend()\n",
    "plt.xlabel('Horse Power')\n",
    "_ = plt.ylabel('Price')\n",
    "print(\"R^2= \",Model.score(X, Y))\n",
    "#print(Model.coef_)\n",
    "#print(Model.intercept_)"
   ]
  },
  {
   "cell_type": "code",
   "execution_count": 40,
   "metadata": {},
   "outputs": [
    {
     "name": "stdout",
     "output_type": "stream",
     "text": [
      "R^2=  0.629865302134315\n"
     ]
    },
    {
     "data": {
      "image/png": "[encoded data removed]",
      "text/plain": [
       "<Figure size 432x288 with 1 Axes>"
      ]
     },
     "metadata": {
      "needs_background": "light"
     },
     "output_type": "display_data"
    }
   ],
   "source": [
    "X= data[['Horsepower',\"MPG.highway\"]]\n",
    "Y = data['Price'].values.reshape(-1,1)\n",
    "linear_5 = sklearn.linear_model.LinearRegression()\n",
    "Model=linear_5.fit(X,Y)\n",
    "Model.fit(X,Y)\n",
    "#print(linear_3.score(MPG_turn,Y))\n",
    "Y_predict = Model.predict(X)\n",
    "\n",
    "plt.plot(X['Horsepower'], Y_predict, label='modelo')\n",
    "plt.scatter(X['Horsepower'], Y, label='datos', color='red')\n",
    "plt.legend()\n",
    "plt.xlabel('Horse Power')\n",
    "_ = plt.ylabel('Price')\n",
    "print(\"R^2= \",Model.score(X, Y))\n",
    "#print(Model.coef_)\n",
    "#print(Model.intercept_)"
   ]
  },
  {
   "cell_type": "markdown",
   "metadata": {},
   "source": [
    "Dos modelos fueron mejores que para los casos anteriores, el caso de Horsepower con MPG.highway fue el mejor con $R^2$=0.62."
   ]
  },
  {
   "cell_type": "markdown",
   "metadata": {},
   "source": [
    "### Ejercicio 13.3\n",
    "\n",
    "Haga los ajustes, gráficas de modelo vs. datos y cálculo de score para el siguiente modelo:\n",
    "\n",
    "* `Price` = $\\beta_0$ + $\\beta_1 \\times $ `Horsepower`+ $\\beta_2 \\times $ `MPG.Highway` + $\\beta_3 \\times $ `Turn.circle`.\n",
    "\n",
    "De acuerdo al $R^2$ score, es este modelos mejor que los seis modelos anteriores?"
   ]
  },
  {
   "cell_type": "code",
   "execution_count": 41,
   "metadata": {},
   "outputs": [
    {
     "name": "stdout",
     "output_type": "stream",
     "text": [
      "R^2=  0.6404523210544848\n"
     ]
    },
    {
     "data": {
      "image/png": "[encoded data removed]",
      "text/plain": [
       "<Figure size 432x288 with 1 Axes>"
      ]
     },
     "metadata": {
      "needs_background": "light"
     },
     "output_type": "display_data"
    }
   ],
   "source": [
    "X= data[['Horsepower',\"MPG.highway\",\"Turn.circle\"]]\n",
    "Y = data['Price'].values.reshape(-1,1)\n",
    "linear_6 = sklearn.linear_model.LinearRegression()\n",
    "Model=linear_6.fit(X,Y)\n",
    "Model.fit(X,Y)\n",
    "#print(linear_3.score(MPG_turn,Y))\n",
    "Y_predict = Model.predict(X)\n",
    "\n",
    "plt.plot(X['Horsepower'], Y_predict, label='modelo')\n",
    "plt.scatter(X['Horsepower'], Y, label='datos', color='red')\n",
    "plt.legend()\n",
    "plt.xlabel('Horse Power')\n",
    "_ = plt.ylabel('Price')\n",
    "print(\"R^2= \",Model.score(X, Y))\n",
    "#print(Model.coef_)\n",
    "#print(Model.intercept_)"
   ]
  },
  {
   "cell_type": "markdown",
   "metadata": {},
   "source": [
    "Para este caso lo que se tiene es que el $R^2$ es incluso mayor, con lo cual se tiene que para un modelo de tipo lineal usando las tres variables, el ajuste de los datos en mejor."
   ]
  },
  {
   "cell_type": "markdown",
   "metadata": {},
   "source": [
    "### Ejercicio 13.4\n",
    "\n",
    "Calcule la evidencia bayesiana para los siete modelos lineales probados antes. ¿Cuál es el mejor modelo?"
   ]
  },
  {
   "cell_type": "code",
   "execution_count": 42,
   "metadata": {},
   "outputs": [],
   "source": [
    "def model(x_datos,param):\n",
    "    y=x_datos.copy()\n",
    "    y[:]=0\n",
    "    for i in range(len(param)):\n",
    "        y += param[i]*x_datos\n",
    "    return y\n",
    "\n",
    "def loglikelihood(x_obs, y_obs, sigma_y_obs, param):\n",
    "    d = y_obs -  model(x_obs,param)\n",
    "    d = d/sigma_y_obs\n",
    "    d = -0.5 * np.sum(d**2)\n",
    "    return d\n",
    "\n",
    "def Avg(x_obs,y_obs,sigma_y_obs,orden,N):\n",
    "    test=0.0\n",
    "    for i in range(N):\n",
    "        param=np.random.uniform(-40,40,size=1)\n",
    "        param=np.append(param,np.random.uniform(-1,1,size=orden-1))\n",
    "        test +=np.exp(loglikelihood(x_obs, y_obs,sigma_y_obs, param) - (len(x_obs)/2.0)*(np.log(2.0*np.pi))-((1)/2.0)*sum(np.log(sigma_y_obs)))\n",
    "    return test/N"
   ]
  },
  {
   "cell_type": "code",
   "execution_count": 43,
   "metadata": {},
   "outputs": [
    {
     "ename": "TypeError",
     "evalue": "Cannot cast ufunc add output from dtype('float64') to dtype('int64') with casting rule 'same_kind'",
     "output_type": "error",
     "traceback": [
      "\u001b[0;31m---------------------------------------------------------------------------\u001b[0m",
      "\u001b[0;31mTypeError\u001b[0m                                 Traceback (most recent call last)",
      "\u001b[0;32m<ipython-input-43-908fc41049d7>\u001b[0m in \u001b[0;36m<module>\u001b[0;34m()\u001b[0m\n\u001b[1;32m      2\u001b[0m \u001b[0mY\u001b[0m \u001b[0;34m=\u001b[0m \u001b[0mnp\u001b[0m\u001b[0;34m.\u001b[0m\u001b[0marray\u001b[0m\u001b[0;34m(\u001b[0m\u001b[0mdata\u001b[0m\u001b[0;34m[\u001b[0m\u001b[0;34m'Price'\u001b[0m\u001b[0;34m]\u001b[0m\u001b[0;34m)\u001b[0m\u001b[0;34m\u001b[0m\u001b[0m\n\u001b[1;32m      3\u001b[0m \u001b[0msigma\u001b[0m \u001b[0;34m=\u001b[0m \u001b[0mnp\u001b[0m\u001b[0;34m.\u001b[0m\u001b[0mstd\u001b[0m\u001b[0;34m(\u001b[0m\u001b[0mY\u001b[0m\u001b[0;34m)\u001b[0m\u001b[0;34m*\u001b[0m\u001b[0mnp\u001b[0m\u001b[0;34m.\u001b[0m\u001b[0mones\u001b[0m\u001b[0;34m(\u001b[0m\u001b[0mlen\u001b[0m\u001b[0;34m(\u001b[0m\u001b[0mY\u001b[0m\u001b[0;34m)\u001b[0m\u001b[0;34m)\u001b[0m\u001b[0;34m\u001b[0m\u001b[0m\n\u001b[0;32m----> 4\u001b[0;31m \u001b[0mprint\u001b[0m\u001b[0;34m(\u001b[0m\u001b[0mAvg\u001b[0m\u001b[0;34m(\u001b[0m\u001b[0mX\u001b[0m\u001b[0;34m,\u001b[0m\u001b[0mY\u001b[0m\u001b[0;34m,\u001b[0m\u001b[0msigma\u001b[0m\u001b[0;34m,\u001b[0m\u001b[0;36m2\u001b[0m\u001b[0;34m,\u001b[0m\u001b[0;36m10000\u001b[0m\u001b[0;34m)\u001b[0m\u001b[0;34m)\u001b[0m\u001b[0;34m\u001b[0m\u001b[0m\n\u001b[0m\u001b[1;32m      5\u001b[0m \u001b[0;34m\u001b[0m\u001b[0m\n\u001b[1;32m      6\u001b[0m \u001b[0mX\u001b[0m\u001b[0;34m=\u001b[0m\u001b[0mnp\u001b[0m\u001b[0;34m.\u001b[0m\u001b[0marray\u001b[0m\u001b[0;34m(\u001b[0m\u001b[0mdata\u001b[0m\u001b[0;34m[\u001b[0m\u001b[0;34m'MPG.highway'\u001b[0m\u001b[0;34m]\u001b[0m\u001b[0;34m)\u001b[0m\u001b[0;34m\u001b[0m\u001b[0m\n",
      "\u001b[0;32m<ipython-input-42-9189d1c530c9>\u001b[0m in \u001b[0;36mAvg\u001b[0;34m(x_obs, y_obs, sigma_y_obs, orden, N)\u001b[0m\n\u001b[1;32m     17\u001b[0m         \u001b[0mparam\u001b[0m\u001b[0;34m=\u001b[0m\u001b[0mnp\u001b[0m\u001b[0;34m.\u001b[0m\u001b[0mrandom\u001b[0m\u001b[0;34m.\u001b[0m\u001b[0muniform\u001b[0m\u001b[0;34m(\u001b[0m\u001b[0;34m-\u001b[0m\u001b[0;36m40\u001b[0m\u001b[0;34m,\u001b[0m\u001b[0;36m40\u001b[0m\u001b[0;34m,\u001b[0m\u001b[0msize\u001b[0m\u001b[0;34m=\u001b[0m\u001b[0;36m1\u001b[0m\u001b[0;34m)\u001b[0m\u001b[0;34m\u001b[0m\u001b[0m\n\u001b[1;32m     18\u001b[0m         \u001b[0mparam\u001b[0m\u001b[0;34m=\u001b[0m\u001b[0mnp\u001b[0m\u001b[0;34m.\u001b[0m\u001b[0mappend\u001b[0m\u001b[0;34m(\u001b[0m\u001b[0mparam\u001b[0m\u001b[0;34m,\u001b[0m\u001b[0mnp\u001b[0m\u001b[0;34m.\u001b[0m\u001b[0mrandom\u001b[0m\u001b[0;34m.\u001b[0m\u001b[0muniform\u001b[0m\u001b[0;34m(\u001b[0m\u001b[0;34m-\u001b[0m\u001b[0;36m1\u001b[0m\u001b[0;34m,\u001b[0m\u001b[0;36m1\u001b[0m\u001b[0;34m,\u001b[0m\u001b[0msize\u001b[0m\u001b[0;34m=\u001b[0m\u001b[0morden\u001b[0m\u001b[0;34m-\u001b[0m\u001b[0;36m1\u001b[0m\u001b[0;34m)\u001b[0m\u001b[0;34m)\u001b[0m\u001b[0;34m\u001b[0m\u001b[0m\n\u001b[0;32m---> 19\u001b[0;31m         \u001b[0mtest\u001b[0m \u001b[0;34m+=\u001b[0m\u001b[0mnp\u001b[0m\u001b[0;34m.\u001b[0m\u001b[0mexp\u001b[0m\u001b[0;34m(\u001b[0m\u001b[0mloglikelihood\u001b[0m\u001b[0;34m(\u001b[0m\u001b[0mx_obs\u001b[0m\u001b[0;34m,\u001b[0m \u001b[0my_obs\u001b[0m\u001b[0;34m,\u001b[0m\u001b[0msigma_y_obs\u001b[0m\u001b[0;34m,\u001b[0m \u001b[0mparam\u001b[0m\u001b[0;34m)\u001b[0m \u001b[0;34m-\u001b[0m \u001b[0;34m(\u001b[0m\u001b[0mlen\u001b[0m\u001b[0;34m(\u001b[0m\u001b[0mx_obs\u001b[0m\u001b[0;34m)\u001b[0m\u001b[0;34m/\u001b[0m\u001b[0;36m2.0\u001b[0m\u001b[0;34m)\u001b[0m\u001b[0;34m*\u001b[0m\u001b[0;34m(\u001b[0m\u001b[0mnp\u001b[0m\u001b[0;34m.\u001b[0m\u001b[0mlog\u001b[0m\u001b[0;34m(\u001b[0m\u001b[0;36m2.0\u001b[0m\u001b[0;34m*\u001b[0m\u001b[0mnp\u001b[0m\u001b[0;34m.\u001b[0m\u001b[0mpi\u001b[0m\u001b[0;34m)\u001b[0m\u001b[0;34m)\u001b[0m\u001b[0;34m-\u001b[0m\u001b[0;34m(\u001b[0m\u001b[0;34m(\u001b[0m\u001b[0;36m1\u001b[0m\u001b[0;34m)\u001b[0m\u001b[0;34m/\u001b[0m\u001b[0;36m2.0\u001b[0m\u001b[0;34m)\u001b[0m\u001b[0;34m*\u001b[0m\u001b[0msum\u001b[0m\u001b[0;34m(\u001b[0m\u001b[0mnp\u001b[0m\u001b[0;34m.\u001b[0m\u001b[0mlog\u001b[0m\u001b[0;34m(\u001b[0m\u001b[0msigma_y_obs\u001b[0m\u001b[0;34m)\u001b[0m\u001b[0;34m)\u001b[0m\u001b[0;34m)\u001b[0m\u001b[0;34m\u001b[0m\u001b[0m\n\u001b[0m\u001b[1;32m     20\u001b[0m     \u001b[0;32mreturn\u001b[0m \u001b[0mtest\u001b[0m\u001b[0;34m/\u001b[0m\u001b[0mN\u001b[0m\u001b[0;34m\u001b[0m\u001b[0m\n",
      "\u001b[0;32m<ipython-input-42-9189d1c530c9>\u001b[0m in \u001b[0;36mloglikelihood\u001b[0;34m(x_obs, y_obs, sigma_y_obs, param)\u001b[0m\n\u001b[1;32m      7\u001b[0m \u001b[0;34m\u001b[0m\u001b[0m\n\u001b[1;32m      8\u001b[0m \u001b[0;32mdef\u001b[0m \u001b[0mloglikelihood\u001b[0m\u001b[0;34m(\u001b[0m\u001b[0mx_obs\u001b[0m\u001b[0;34m,\u001b[0m \u001b[0my_obs\u001b[0m\u001b[0;34m,\u001b[0m \u001b[0msigma_y_obs\u001b[0m\u001b[0;34m,\u001b[0m \u001b[0mparam\u001b[0m\u001b[0;34m)\u001b[0m\u001b[0;34m:\u001b[0m\u001b[0;34m\u001b[0m\u001b[0m\n\u001b[0;32m----> 9\u001b[0;31m     \u001b[0md\u001b[0m \u001b[0;34m=\u001b[0m \u001b[0my_obs\u001b[0m \u001b[0;34m-\u001b[0m  \u001b[0mmodel\u001b[0m\u001b[0;34m(\u001b[0m\u001b[0mx_obs\u001b[0m\u001b[0;34m,\u001b[0m\u001b[0mparam\u001b[0m\u001b[0;34m)\u001b[0m\u001b[0;34m\u001b[0m\u001b[0m\n\u001b[0m\u001b[1;32m     10\u001b[0m     \u001b[0md\u001b[0m \u001b[0;34m=\u001b[0m \u001b[0md\u001b[0m\u001b[0;34m/\u001b[0m\u001b[0msigma_y_obs\u001b[0m\u001b[0;34m\u001b[0m\u001b[0m\n\u001b[1;32m     11\u001b[0m     \u001b[0md\u001b[0m \u001b[0;34m=\u001b[0m \u001b[0;34m-\u001b[0m\u001b[0;36m0.5\u001b[0m \u001b[0;34m*\u001b[0m \u001b[0mnp\u001b[0m\u001b[0;34m.\u001b[0m\u001b[0msum\u001b[0m\u001b[0;34m(\u001b[0m\u001b[0md\u001b[0m\u001b[0;34m**\u001b[0m\u001b[0;36m2\u001b[0m\u001b[0;34m)\u001b[0m\u001b[0;34m\u001b[0m\u001b[0m\n",
      "\u001b[0;32m<ipython-input-42-9189d1c530c9>\u001b[0m in \u001b[0;36mmodel\u001b[0;34m(x_datos, param)\u001b[0m\n\u001b[1;32m      3\u001b[0m     \u001b[0my\u001b[0m\u001b[0;34m[\u001b[0m\u001b[0;34m:\u001b[0m\u001b[0;34m]\u001b[0m\u001b[0;34m=\u001b[0m\u001b[0;36m0\u001b[0m\u001b[0;34m\u001b[0m\u001b[0m\n\u001b[1;32m      4\u001b[0m     \u001b[0;32mfor\u001b[0m \u001b[0mi\u001b[0m \u001b[0;32min\u001b[0m \u001b[0mrange\u001b[0m\u001b[0;34m(\u001b[0m\u001b[0mlen\u001b[0m\u001b[0;34m(\u001b[0m\u001b[0mparam\u001b[0m\u001b[0;34m)\u001b[0m\u001b[0;34m)\u001b[0m\u001b[0;34m:\u001b[0m\u001b[0;34m\u001b[0m\u001b[0m\n\u001b[0;32m----> 5\u001b[0;31m         \u001b[0my\u001b[0m \u001b[0;34m+=\u001b[0m \u001b[0mparam\u001b[0m\u001b[0;34m[\u001b[0m\u001b[0mi\u001b[0m\u001b[0;34m]\u001b[0m\u001b[0;34m*\u001b[0m\u001b[0mx_datos\u001b[0m\u001b[0;34m\u001b[0m\u001b[0m\n\u001b[0m\u001b[1;32m      6\u001b[0m     \u001b[0;32mreturn\u001b[0m \u001b[0my\u001b[0m\u001b[0;34m\u001b[0m\u001b[0m\n\u001b[1;32m      7\u001b[0m \u001b[0;34m\u001b[0m\u001b[0m\n",
      "\u001b[0;31mTypeError\u001b[0m: Cannot cast ufunc add output from dtype('float64') to dtype('int64') with casting rule 'same_kind'"
     ]
    }
   ],
   "source": [
    "X=np.array(data['Horsepower'])\n",
    "Y = np.array(data['Price'])\n",
    "sigma = np.std(Y)*np.ones(len(Y))\n",
    "print(Avg(X,Y,sigma,2,10000))\n",
    "\n",
    "X=np.array(data['MPG.highway'])\n",
    "print(Avg(X,Y,sigma,2,10000))\n",
    "\n",
    "\n",
    "X=np.array(data['Turn.cicle'])\n",
    "print(Avg(X,Y,sigma,2,10000))\n"
   ]
  },
  {
   "cell_type": "code",
   "execution_count": null,
   "metadata": {},
   "outputs": [],
   "source": []
  }
 ],
 "metadata": {
  "kernelspec": {
   "display_name": "Python 3",
   "language": "python",
   "name": "python3"
  },
  "language_info": {
   "codemirror_mode": {
    "name": "ipython",
    "version": 3
   },
   "file_extension": ".py",
   "mimetype": "text/x-python",
   "name": "python",
   "nbconvert_exporter": "python",
   "pygments_lexer": "ipython3",
   "version": "3.6.6"
  }
 },
 "nbformat": 4,
 "nbformat_minor": 2
}
