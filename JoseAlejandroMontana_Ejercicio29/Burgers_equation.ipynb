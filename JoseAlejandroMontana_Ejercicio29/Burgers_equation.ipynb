{
 "cells": [
  {
   "cell_type": "code",
   "execution_count": 9,
   "metadata": {},
   "outputs": [],
   "source": [
    "import numpy as np\n",
    "import matplotlib.pyplot as plt"
   ]
  },
  {
   "cell_type": "code",
   "execution_count": 10,
   "metadata": {},
   "outputs": [],
   "source": [
    "def initial(delta_x=0.05):\n",
    "    L = 4.0\n",
    "    N = L/delta_x + 1\n",
    "    x = np.linspace(0.0, L, int(N))\n",
    "    u = np.zeros(int(N))\n",
    "    ii = x<2.0\n",
    "    u[ii] = 1.0\n",
    "    return x, u"
   ]
  },
  {
   "cell_type": "code",
   "execution_count": 11,
   "metadata": {},
   "outputs": [],
   "source": [
    "def flux(u):\n",
    "    return 0.5 * u**2"
   ]
  },
  {
   "cell_type": "code",
   "execution_count": 12,
   "metadata": {},
   "outputs": [],
   "source": [
    "def Lax(u, t_max=0.45, delta_t = 0.015, delta_x=5.0):\n",
    "    N_t = int(t_max/delta_t)\n",
    "    u_final = u.copy()\n",
    "    for i in range(N_t):\n",
    "        F = flux(u)\n",
    "        u_final[1:-1] = 0.5*(u[2:] + u[0:-2]) \n",
    "        u_final[1:-1] -= (0.5*delta_t/delta_x)*(F[2:] - F[0:-2]) \n",
    "        u = u_final.copy()\n",
    "    return u_final"
   ]
  },
  {
   "cell_type": "code",
   "execution_count": 13,
   "metadata": {},
   "outputs": [],
   "source": [
    "x, u_init = initial()\n",
    "t_max_values = [0.0, 0.5, 1.0, 2.0]"
   ]
  },
  {
   "cell_type": "code",
   "execution_count": 14,
   "metadata": {},
   "outputs": [
    {
     "data": {
      "image/png": "[encoded data removed]",
      "text/plain": [
       "<Figure size 432x288 with 1 Axes>"
      ]
     },
     "metadata": {
      "needs_background": "light"
     },
     "output_type": "display_data"
    }
   ],
   "source": [
    "for t_max in t_max_values:\n",
    "    delta_x = 0.05\n",
    "    x, u_init = initial(delta_x=delta_x)\n",
    "    u_final = Lax(u_init, t_max=t_max,delta_t=0.5*delta_x, delta_x=delta_x)\n",
    "    plt.plot(x, u_final)\n",
    "plt.show()"
   ]
  },
  {
   "cell_type": "code",
   "execution_count": null,
   "metadata": {},
   "outputs": [],
   "source": []
  },
  {
   "cell_type": "code",
   "execution_count": null,
   "metadata": {},
   "outputs": [],
   "source": []
  }
 ],
 "metadata": {
  "kernelspec": {
   "display_name": "Python 3",
   "language": "python",
   "name": "python3"
  },
  "language_info": {
   "codemirror_mode": {
    "name": "ipython",
    "version": 3
   },
   "file_extension": ".py",
   "mimetype": "text/x-python",
   "name": "python",
   "nbconvert_exporter": "python",
   "pygments_lexer": "ipython3",
   "version": "3.6.6"
  }
 },
 "nbformat": 4,
 "nbformat_minor": 2
}
